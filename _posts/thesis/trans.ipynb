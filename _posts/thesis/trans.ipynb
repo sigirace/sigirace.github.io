{
 "cells": [
  {
   "cell_type": "code",
   "execution_count": 19,
   "metadata": {},
   "outputs": [
    {
     "name": "stdout",
     "output_type": "stream",
     "text": [
      "Abstract—Neural networks have become a powerful tool inpattern recognition and part of their success is due to generalization from using large datasets.\n",
      "\n",
      "However, unlike otherdomains, time series classification datasets are often small.\n",
      "\n",
      "Inorder to address this problem, we propose a novel time seriesdata augmentation called guided warping.\n",
      "\n",
      "While many dataaugmentation methods are based on random transformations,guided warping exploits the element alignment properties ofDynamic Time Warping (DTW) and shapeDTW, a high-levelDTW method based on shape descriptors, to deterministicallywarp sample patterns.\n",
      "\n",
      "In this way, the time series are mixedby warping the features of a sample pattern to match thetime steps of a reference pattern.\n",
      "\n",
      "Furthermore, we introducea discriminative teacher in order to serve as a directed referencefor the guided warping.\n",
      "\n",
      "We evaluate the method on all 85 datasetsin the 2015 UCR Time Series Archive with a deep convolutionalneural network (CNN) and a recurrent neural network (RNN).The code with an easy to use implementation can be found athttps://github.com/uchidalab/time series augmentation.\n"
     ]
    }
   ],
   "source": [
    "file = open(\"text.txt\", \"r\")\n",
    "strings = file.readlines()\n",
    "\n",
    "txt = \"\"\n",
    "for string in strings:\n",
    "    txt += string.replace('\\n','').replace('. ', '.\\n\\n')\n",
    "\n",
    "print(txt, sep='\\n')\n",
    "\n",
    "file.close()"
   ]
  }
 ],
 "metadata": {
  "kernelspec": {
   "display_name": "test_env",
   "language": "python",
   "name": "python3"
  },
  "language_info": {
   "codemirror_mode": {
    "name": "ipython",
    "version": 3
   },
   "file_extension": ".py",
   "mimetype": "text/x-python",
   "name": "python",
   "nbconvert_exporter": "python",
   "pygments_lexer": "ipython3",
   "version": "3.8.15"
  },
  "orig_nbformat": 4,
  "vscode": {
   "interpreter": {
    "hash": "32eef112a627e62d346faffcba08970019e0d89607ced80400f29662f7be25d4"
   }
  }
 },
 "nbformat": 4,
 "nbformat_minor": 2
}
