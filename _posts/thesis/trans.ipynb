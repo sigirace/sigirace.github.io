{
 "cells": [
  {
   "cell_type": "code",
   "execution_count": 22,
   "metadata": {},
   "outputs": [
    {
     "name": "stdout",
     "output_type": "stream",
     "text": [
      "Data augmentation for images is a well-explored field,especially in combination with neural networks.\n",
      "\n",
      "It has almost become a standard practice for image classification.For example, many of the popular Convolutional NeuralNetworks (CNN) based architectures used a form of dataaugmentation in their training, such as the original proposals ofAlexNet [11], Very Deep Convolutional Networks (VGG) [13],and Residual Networks (ResNet) [14].\n",
      "\n",
      "Comparatively, thereare fewer established time series data augmentation methodsand fewer standard data augmentation practices in time seriesclassification [15].\n",
      "\n",
      "Most of the methods that exist are justtime series adaptations inspired by image recognition.\n",
      "\n",
      "Thesemethods generally rely on simple transformations, such asjittering (adding noise), scaling, rotation, etc.\n"
     ]
    }
   ],
   "source": [
    "file = open(\"text.txt\", \"r\")\n",
    "strings = file.readlines()\n",
    "\n",
    "txt = \"\"\n",
    "for string in strings:\n",
    "    txt += string.replace('\\n','').replace('. ', '.\\n\\n')\n",
    "\n",
    "print(txt, sep='\\n')\n",
    "\n",
    "file.close()"
   ]
  }
 ],
 "metadata": {
  "kernelspec": {
   "display_name": "test_env",
   "language": "python",
   "name": "python3"
  },
  "language_info": {
   "codemirror_mode": {
    "name": "ipython",
    "version": 3
   },
   "file_extension": ".py",
   "mimetype": "text/x-python",
   "name": "python",
   "nbconvert_exporter": "python",
   "pygments_lexer": "ipython3",
   "version": "3.8.15 (default, Nov 24 2022, 09:04:07) \n[Clang 14.0.6 ]"
  },
  "orig_nbformat": 4,
  "vscode": {
   "interpreter": {
    "hash": "32eef112a627e62d346faffcba08970019e0d89607ced80400f29662f7be25d4"
   }
  }
 },
 "nbformat": 4,
 "nbformat_minor": 2
}
