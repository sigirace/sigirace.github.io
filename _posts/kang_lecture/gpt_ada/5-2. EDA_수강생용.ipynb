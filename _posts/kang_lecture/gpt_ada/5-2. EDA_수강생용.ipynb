{
 "cells": [
  {
   "cell_type": "markdown",
   "metadata": {},
   "source": [
    "# 4. EDA와 시각화\n",
    "\n",
    "📍 **전처리와 EDA의 관계**\n",
    "\n",
    "이전 고급 데이터 분석 파트에서 데이터 분석 프로세스를 아래와 같이 EDA가 전처리 이후라고 소개드린적이 있습니다. 그런데 사실 데이터 전처리와 EDA는 서로 병행하며 이루어지는 경우가 많습니다. 이상치, 데이터의 불균형 등 시각화를 통해 명확히 파악할 수 있는 전처리 방식들이 있기 때문입니다. 따라서 이전 데이터 셋은 잠시 묵혀두고 전처리를 수행하기 위해 새로운 데이터셋으로 EDA를 맛보는 과정을 살펴보도록 하겠습니다.\n",
    "\n",
    "\n",
    "🧑‍💻: 시각화 전에는 한글 폰트 설치를 잊지 마세요!\n",
    "\n",
    "🔗 **한국어 패치 다운로드**\n",
    "\n",
    "- 💾 [Korea matplotlib](https://github.com/sigirace/gpt_ada/blob/main/data/koreanize_matplotlib-0.1.1-py3-none-any.whl)\n",
    "- 💾 [나눔고딕 폰트](https://github.com/sigirace/gpt_ada/blob/main/data/NanumBarunGothic.ttf)\n",
    "\n",
    "💬 **Chat Prompt**\n",
    "\n",
    "> 가상환경에 한국어를 사용할 수 있도록 whl 파일과 ttf 파일을 제공하였으니, 아래 과정을 수행하며 한국어 환경 설정 수행\n",
    "> - Code interpreter로 제공한 파일들을 다운로드 및 수행\n",
    "> - 가상환경에 설치 및 한국어를 사용할 수 있도록 설정\n",
    "> - 설치 완료후 테스트 그래프 제시\n",
    "> - 모든 설명은 한국어로 진행\n",
    "\n",
    "🤖 **GPT 출력: Code**"
   ]
  },
  {
   "cell_type": "code",
   "execution_count": null,
   "metadata": {},
   "outputs": [],
   "source": [
    "import matplotlib.font_manager as fm\n",
    "import matplotlib.pyplot as plt\n",
    "\n",
    "# 폰트 파일 경로\n",
    "font_path = '/Users/sigi/sigirace.github.io/_posts/kang_lecture/gpt_ada/data/NanumBarunGothic.ttf'\n",
    "\n",
    "# 폰트 등록\n",
    "fm.fontManager.addfont(font_path)\n",
    "\n",
    "# 한글 폰트 설정\n",
    "plt.rc('font', family='NanumBarunGothic')"
   ]
  },
  {
   "cell_type": "markdown",
   "metadata": {},
   "source": [
    "🧑‍💻: 아래의 데이터를 다운로드 받아 GPT에 넣어주세요!\n",
    "\n",
    "🔗 **실습 데이터**\n",
    "- 💾 [인사 정보 데이터](https://github.com/sigirace/gpt_ada/blob/main/data/employee%20satisfaction%20survey.xlsx)\n",
    "\n",
    "💬 **Chat Prompt**\n",
    "> 제시한 데이터는 인사 정보가 담긴 데이터이다. 이 데이터의 컬럼을 살펴보고 설명해라.\n",
    "> - 불러온 데이터 프레임의 변수명은 data로 설정\n",
    "> - ace_tools는 사용하지 않음\n",
    "> - 모든 과정에서 설명시 한국어를 사용\n",
    "\n",
    "🤖 **GPT 출력: Message**"
   ]
  },
  {
   "cell_type": "markdown",
   "metadata": {},
   "source": [
    "✏️ 붙여넣기"
   ]
  },
  {
   "cell_type": "markdown",
   "metadata": {},
   "source": [
    "🤖 **GPT 출력: Code**"
   ]
  },
  {
   "cell_type": "code",
   "execution_count": null,
   "metadata": {},
   "outputs": [],
   "source": [
    "import pandas as pd\n",
    "\n",
    "# 공백을 %20으로 인코딩한 URL\n",
    "file_path = 'https://raw.githubusercontent.com/sigirace/gpt_ada/main/data/employee%20satisfaction%20survey.xlsx'\n",
    "\n",
    "# 데이터 로드\n",
    "data = pd.read_excel(file_path)\n",
    "\n",
    "# 데이터의 첫 몇 행과 컬럼 정보 확인\n",
    "data_head = data.head()\n",
    "data_columns = data.columns\n",
    "\n",
    "data_head, data_columns"
   ]
  },
  {
   "cell_type": "markdown",
   "metadata": {},
   "source": [
    "***\n",
    "\n",
    "## 1 막대그래프와 히스토그램\n",
    "\n",
    "### 1.1 막대그래프\n",
    "\n",
    "막대그래프는 범주형 데이터를 요약하고 시각적으로 비교하는 데 효과적인 그래프입니다. 막대그래프를 사용하기 위해서는 도수분포표 혹은 집계함수를 통해 범주형 데이터에 대한 데이터 셋을 만들어야 합ㅣ다.\n",
    "\n",
    "💬 **Chat Prompt**\n",
    "\n",
    "> 퇴직 여부를 기준으로 count 집계함수를 수행해 주고 막대그래프로 시각화 수행\n",
    "\n",
    "🤖 **GPT 출력: Message**"
   ]
  },
  {
   "cell_type": "markdown",
   "metadata": {},
   "source": [
    "✏️ 붙여넣기"
   ]
  },
  {
   "cell_type": "markdown",
   "metadata": {},
   "source": [
    "🤖 **GPT 출력: Code**"
   ]
  },
  {
   "cell_type": "code",
   "execution_count": null,
   "metadata": {},
   "outputs": [],
   "source": [
    "'''\n",
    "✏️ 붙여넣기\n",
    "'''"
   ]
  },
  {
   "cell_type": "markdown",
   "metadata": {},
   "source": [
    "📌 **더 알아보기: 막대그래프 활용**\n",
    "\n",
    "- 막대 그래프는 각 범주의 값의 개수 차이를 비교하고 개수 차이가 극단적인지 확인할 때 주로 쓰임\n",
    "- 분류 문제에서 타겟의 분포 차이가 많이 나는가를 검증\n",
    "\n",
    "### 1.2 히스토그램\n",
    "\n",
    "히스토그램은 연속형 자료에 대한 도수분포표를 시각화하여 나타낸 것으로 서로 겹치지 않는 특정 구간에 따른 데이터의 빈도수를 표현합니다. 연속형 데이터이기 때문에 각 구간은 서로 연속되고, 막대는 서로 인접하여있습니다.\n",
    "\n",
    "💬 **Chat Prompt**\n",
    "> 연봉 컬럼에 대해서 히스토그램을 통해 시각화 수행\n",
    "\n",
    "🤖 **GPT 출력: Message**"
   ]
  },
  {
   "cell_type": "markdown",
   "metadata": {},
   "source": [
    "✏️ 붙여넣기"
   ]
  },
  {
   "cell_type": "markdown",
   "metadata": {},
   "source": [
    "🤖 **GPT 출력: Code**"
   ]
  },
  {
   "cell_type": "code",
   "execution_count": null,
   "metadata": {},
   "outputs": [],
   "source": [
    "'''\n",
    "✏️ 붙여넣기\n",
    "'''"
   ]
  },
  {
   "cell_type": "markdown",
   "metadata": {},
   "source": [
    "📌 **더 알아보기: 히스토그램 활용**\n",
    "\n",
    "- 히스토그램은 데이터의 분포를 알아보는데 사용\n",
    "- 연속형 데이터의 분포를 통해 특정 값에 치우쳐져 있는지, 극단적인 범위의 값이 있는지 확인\n",
    "\n",
    "***\n",
    "\n",
    "## 2. 상자-수염 그림(Box plot)\n",
    "\n",
    "Box Plot은 사분위수를 이용하여 수치형 변수의 값의 분포를 확인하는 그래프입니다. 상자에 수염같은 선이 붙어있다고 하여 상자 수염이라고도 불립니다. 상자의 크기, 중앙값 선의 위치, 수염의 길이를 통해 값으 분포와 대칭 정도, 이상치까지 한 컬럼의 값에 대한 다양한 정보를 한눈에 확인할 수 있습니다.\n",
    "\n",
    "📍 **상자그래프 해석**\n",
    "\n",
    "<p align=\"center\"><img src=\"https://github.com/sigirace/page-images/blob/main/kang_lectures/python_preprocessing/box_plot_desc.png?raw=true\" width=\"300\" height=\"350\"></p>\n",
    "\n",
    "**1. 상자**\n",
    "\n",
    "- 데이터 값의 50%가 해당함\n",
    "- 상자의 아랫면과 윗면은 각 25%(1사분위수), 75%(3사분위수) 위치에 존재하는 값\n",
    "- 상자 중앙의 두꺼운 선은 중앙값을 의미함\n",
    "- 중앙값의 위치에 따라 값이 어디에 치우쳐져 있는지 확인할 수 있음\n",
    "\n",
    "**2. IQR**\n",
    "\n",
    "- 중앙 50%데이터가 퍼진 정도\n",
    "- 3사분위수와 1사분위수의 차이로 구할 수 있음\n",
    "- 통계학적으로 이상치를 판단하는 수식에 사용됨\n",
    "\n",
    "**3. 수염**\n",
    "\n",
    "- 1.5 * IQR 범위인 Q1 - 1.5 * IQR 부터 Q3 + 1.5 * IQR 까지의 범위를 수염으로 지정 (1.5가 아닌 다른 값으로도 사용 가능)\n",
    "- 수염을 벗어나는 값은 이상치로 판단\n",
    "\n",
    "🧑‍💻 : Box plot은 수치형 데이터에 대해서 적용하기에 수치형 컬럼들을 먼저 정의하겠습니다.\n",
    "\n",
    "💬 **Chat Prompt**\n",
    "\n",
    "> 제시한 데이터에서 컬럼을 수치형, 범주형으로 구분하여 알려주고 리스트에 저장해줘\n",
    "\n",
    "🤖 **GPT 출력: Message**"
   ]
  },
  {
   "cell_type": "markdown",
   "metadata": {},
   "source": [
    "✏️ 붙여넣기"
   ]
  },
  {
   "cell_type": "markdown",
   "metadata": {},
   "source": [
    "🤖 **GPT 출력: Code**"
   ]
  },
  {
   "cell_type": "code",
   "execution_count": null,
   "metadata": {},
   "outputs": [],
   "source": [
    "'''\n",
    "✏️ 붙여넣기\n",
    "'''"
   ]
  },
  {
   "cell_type": "markdown",
   "metadata": {},
   "source": [
    "❣️ **꿀팁**\n",
    "\n",
    "- 데이터의 스케일이 다르다면 하나의 화면에 모든 컬럼에 대한 시각화보다는 개별적인 시각화가 파악이 쉬움\n",
    "- 개별적으로 그리되 하나의 화면에 그릴 수 있는 그리드를 활용\n",
    "\n",
    "💬 **Chat Prompt**\n",
    "> 수치형 컬럼들에 대해서 개별적으로 box plot 시각화 수행<br>\n",
    "> 단, box plot은 개별적으로 수행하 되, 하나의 그리드에 표현\n",
    "\n",
    "🤖 **GPT 출력: Message**"
   ]
  },
  {
   "cell_type": "markdown",
   "metadata": {},
   "source": [
    "✏️ 붙여넣기"
   ]
  },
  {
   "cell_type": "markdown",
   "metadata": {},
   "source": [
    "🤖 **GPT 출력: Code**"
   ]
  },
  {
   "cell_type": "code",
   "execution_count": null,
   "metadata": {},
   "outputs": [],
   "source": [
    "'''\n",
    "✏️ 붙여넣기\n",
    "'''"
   ]
  },
  {
   "cell_type": "markdown",
   "metadata": {},
   "source": [
    "💬 **Chat Prompt**\n",
    "\n",
    "> IQR 관점에서 이상치가 있는 컬럼들을 알려줘\n",
    "\n",
    "🤖 **GPT 출력: Message**"
   ]
  },
  {
   "cell_type": "markdown",
   "metadata": {},
   "source": [
    "✏️ 붙여넣기"
   ]
  },
  {
   "cell_type": "markdown",
   "metadata": {},
   "source": [
    "🤖 **GPT 출력: Code**"
   ]
  },
  {
   "cell_type": "code",
   "execution_count": null,
   "metadata": {},
   "outputs": [],
   "source": [
    "'''\n",
    "✏️ 붙여넣기\n",
    "'''"
   ]
  },
  {
   "cell_type": "markdown",
   "metadata": {},
   "source": [
    "📌 **더 알아보기: 이상치 기준 선정**\n",
    "\n",
    "- 이상치는 업무 도메인과 밀접하게 연관되어 있음\n",
    "- 확연이 범위를 벗어나는 이상치가 아닌 경우 도메인 전문가와 처리 방안에 대한 협의가 필요함\n",
    "- 특히 연속적인 이상치가 나타나는 경우는 이상치가 아닐 확률이 높음\n",
    "- 도메인 전문가의 도움을 받지 못하는 상황에서는 보수적으로 이상치를 제거 (ex, 상위 5%, 가장 큰 값, ...)\n",
    "- IQR 만으로 제거한다면 너무 많은 데이터를 제거할 수 있음"
   ]
  },
  {
   "cell_type": "markdown",
   "metadata": {},
   "source": [
    "***\n",
    "\n",
    "## 3. 산점도\n",
    "\n",
    "산점도는 두 개의 수치형 변수 각각의 분포와 함께 두 변수의 관계를 확인하는 가장 기본적인 그래프입니다. 두 개의 축을 가진 2차원 도표 안에 점들이 흩어져 있는 형태입니다.\n",
    "\n",
    "📍 **산점도 해석**\n",
    "\n",
    "**1. 관계의 유형**\n",
    "\n",
    "<p align=\"center\"><img src=\"https://github.com/sigirace/page-images/blob/main/kang_lectures/python_preprocessing/scatter_relation.png?raw=true\" width=\"500\" height=\"200\"></p>\n",
    "\n",
    "- 산점도는 두 변수의 관계 유형과 강도를 판단\n",
    "- 관계의 유형은 점들이 흩어져 있는 모양을 보고 판단\n",
    "\n",
    "\n",
    "**2. 관계의 강도**\n",
    "\n",
    "<p align=\"center\"><img src=\"https://github.com/sigirace/page-images/blob/main/kang_lectures/python_preprocessing/scatter_relation2.png?raw=true\" width=\"300\" height=\"200\"></p>\n",
    "\n",
    "- 데이터가 적합선에 얼마나 가깝게 모여 있는지를 평가하여 두 변수 간 관계의 강도를 추정\n",
    "- 산점도로는 관계의 해석을 수행하고, 상관관계 분석을 수행하여 강도를 수치화할 수 있음\n",
    "\n",
    "💬 **Chat Prompt**\n",
    "> 수치형 데이터들에 대한 산점도 시각화를 수행\n",
    "\n",
    "🤖 **GPT 출력: Message**"
   ]
  },
  {
   "cell_type": "markdown",
   "metadata": {},
   "source": [
    "✏️ 붙여넣기"
   ]
  },
  {
   "cell_type": "markdown",
   "metadata": {},
   "source": [
    "🤖 **GPT 출력: Code**"
   ]
  },
  {
   "cell_type": "code",
   "execution_count": null,
   "metadata": {},
   "outputs": [],
   "source": [
    "'''\n",
    "✏️ 붙여넣기\n",
    "'''"
   ]
  },
  {
   "cell_type": "markdown",
   "metadata": {},
   "source": [
    "💬 **Chat Prompt**\n",
    "> 산점도 수행결과를 보고 주목할만한 관계의 유형과 관계의 강도를 설명해줘\n",
    "\n",
    "🤖 **GPT 출력: Message**"
   ]
  },
  {
   "cell_type": "markdown",
   "metadata": {},
   "source": [
    "✏️ 붙여넣기"
   ]
  },
  {
   "cell_type": "markdown",
   "metadata": {},
   "source": [
    "💬 **Chat Prompt**\n",
    "\n",
    "> 제시한 컬럼들에 대해 각각 산점도 시각화 수행 <br>\n",
    "> 단, 산점도는 개별적으로 수행하되, 하나의 그리드에 표현\n",
    "\n",
    "🤖 **GPT 출력: Message**"
   ]
  },
  {
   "cell_type": "markdown",
   "metadata": {},
   "source": [
    "✏️ 붙여넣기"
   ]
  },
  {
   "cell_type": "markdown",
   "metadata": {},
   "source": [
    "🤖 **GPT 출력: Code**"
   ]
  },
  {
   "cell_type": "code",
   "execution_count": null,
   "metadata": {},
   "outputs": [],
   "source": [
    "'''\n",
    "✏️ 붙여넣기\n",
    "'''"
   ]
  },
  {
   "cell_type": "markdown",
   "metadata": {},
   "source": [
    "***\n",
    "\n",
    "## 4. 선 그래프\n",
    "\n",
    "### 4.1 수평선, 수직선 그래프\n",
    "\n",
    "- 수평선과 수직선은 그래프의 한계점, 평균값 등을 표시하기 위해 사용합니다.\n",
    "\n",
    "📍 **수평선-hliens**\n",
    "\n",
    ">plt.hlines(y, xmin, xmax, colors=None, linestyles='solid')\n",
    "\n",
    "📍 **수직선-vlines**\n",
    "\n",
    "> plt.hlines(x, ymin, ymax, colors=None, linestyles='solid')\n",
    "\n",
    "👨‍💻: 해당 그래프는 독자적인 상황이 아니라 다른 시계열에 표시선으로 들어가는 경우기 때문에 따로 실습하지 않도록 할게요~"
   ]
  },
  {
   "cell_type": "code",
   "execution_count": null,
   "metadata": {},
   "outputs": [],
   "source": [
    "plt.hlines(-6, -10, 10, color='grey')\n",
    "plt.hlines(-2, -10, 10, color='green')\n",
    "plt.hlines(2, -10, 10, color='orange')\n",
    "plt.hlines(6, -10, 10, color='red')\n",
    "plt.vlines(-6, -10, 10, linestyles='solid')\n",
    "plt.vlines(-2, -10, 10, linestyles='dashed')\n",
    "plt.vlines(2, -10, 10, linestyles='dashdot')\n",
    "plt.vlines(6, -10, 10, linestyles='dotted')\n",
    "plt.show()"
   ]
  },
  {
   "cell_type": "markdown",
   "metadata": {},
   "source": [
    "### 4.2 꺾은선 그래프(시계열)\n",
    "\n",
    "꺾은선 그래프는 시간의 변화에 따라 값이 지속적으로 변화할 때 유용한 그래프입니다. 값을 점으로 표기하고 점들을 선으로 이어 나타내며 X축이 시간, Y축이 값을 의미합니다.\n",
    "\n",
    "💬 **Chat Prompt**\n",
    "> 제시한 데이터를 시계열 데이터로 만든 뒤 꺾은선 그래프 시각화를 수행\n",
    "> \n",
    "> - x축: 입사년도\n",
    "> - y축: 채용인원(합계)\n",
    "> - 라벨: 대학 구분\n",
    "> - 제목: 대학 구분에 따른 년도별 채용인원\n",
    "\n",
    "🤖 **GPT 출력: Message**"
   ]
  },
  {
   "cell_type": "markdown",
   "metadata": {},
   "source": [
    "✏️ 붙여넣기"
   ]
  },
  {
   "cell_type": "markdown",
   "metadata": {},
   "source": [
    "🤖 **GPT 출력: Code**"
   ]
  },
  {
   "cell_type": "code",
   "execution_count": null,
   "metadata": {},
   "outputs": [],
   "source": [
    "'''\n",
    "✏️ 붙여넣기\n",
    "'''"
   ]
  },
  {
   "cell_type": "markdown",
   "metadata": {},
   "source": [
    "💬 **Chat Prompt**\n",
    "> 제시한 데이터를 시계열 데이터로 만든 뒤 꺾은선 그래프 시각화를 수행\n",
    "> \n",
    "> - x축: 근속연수\n",
    "> - y축: 직원 만족도 (평균)\n",
    "> - 라벨: 성별\n",
    "> - 제목: 대학 구분에 따른 년도별 채용인원\n",
    "\n",
    "🤖 **GPT 출력: Message**"
   ]
  },
  {
   "cell_type": "markdown",
   "metadata": {},
   "source": [
    "✏️ 붙여넣기"
   ]
  },
  {
   "cell_type": "markdown",
   "metadata": {},
   "source": [
    "🤖 **GPT 출력: Code**"
   ]
  },
  {
   "cell_type": "code",
   "execution_count": null,
   "metadata": {},
   "outputs": [],
   "source": [
    "'''\n",
    "✏️ 붙여넣기\n",
    "'''"
   ]
  },
  {
   "cell_type": "markdown",
   "metadata": {},
   "source": [
    "🧑‍💻: 성별로 라벨 구분을 하였는데, 해당 성별에 근속년수가 연속적이지 않은 경우 꺾은선이 끊어질 수 있습니다.\n",
    "\n",
    "***\n",
    "\n",
    "## 5. 상관관계\n",
    "\n",
    "상관관계란 2개의 변수 간의 선형관계를 표현하는 통계적 측도입니다. 3번 항목에서 산점도를 통해 변수 사이의 데이터 분포를 살펴보고 관계의 유형과 강도를 판단해 보았습니다. 이번 상관관계 시각화에서는 이를 수치화하여 데이터 간 관계를 표현합니다.\n",
    "\n",
    "📍 **상관관계 해석하기**\n",
    "\n",
    "- 상관관계는 -1~1 사이의 숫자 값으로 출력됨 ☞ 피어슨 상관계수\n",
    "- 피어슨 상관계수는 상관관계를 수치화하는 통계적 기법\n",
    "- 피어슨 상관계수는 데이터의 스케일과 무관하기에 전처리 전에 수행해도 무방\n",
    "- 아래 상관관계 판단 기준 표에 따라 해석\n",
    "\n",
    "| 범위             | 설명               | 범위           | 설명               |\n",
    "| ---------------- | ------------------ | -------------- | ------------------ |\n",
    "| r <= -0.8        | 강한 음의 상관관계 | 0.8 <= r       | 강한 양의 상관관계 |\n",
    "| -0.8 < r <= -0.6 | 음의 상관관계      | 0.6 <= r < 0.8 | 양의 상관관계      |\n",
    "| -0.6 < r <= -0.4 | 약한 음의 상관관계 | 0.4 <= r < 0.6 | 약한 양의 상관관계 |\n",
    "| -0.4 < r <= 0    | 거의 상관 없음     | 0 <= r < 0.4   | 거의 상관 없음     |\n",
    "\n",
    "\n",
    "\n",
    "💬 **Chat Prompt**\n",
    "> 수치형 변수들에 대해 상관관계 행렬을 만들고 이를 시각화해줘\n",
    "\n",
    "🤖 **GPT 출력: Message**"
   ]
  },
  {
   "cell_type": "markdown",
   "metadata": {},
   "source": [
    "✏️ 붙여넣기"
   ]
  },
  {
   "cell_type": "markdown",
   "metadata": {},
   "source": [
    "🤖 **GPT 출력: Code**"
   ]
  },
  {
   "cell_type": "code",
   "execution_count": null,
   "metadata": {},
   "outputs": [],
   "source": [
    "'''\n",
    "✏️ 붙여넣기\n",
    "'''"
   ]
  },
  {
   "cell_type": "markdown",
   "metadata": {},
   "source": [
    "🧑‍💻: 목적이 되는 종속변수와 이를 설명하기 위한 독립변수간의 상관관계가 높은 것은 매우 좋은 형상입니다. 하지만 독립변수끼리 강한 상관관계가 있다면 다중공선성을 의심해야 합니다.\n",
    "\n",
    "📍 **다중공선성**\n",
    "\n",
    "회귀분석에서 설명변수간의 강한 선형관계가 있을 때 발생하는 문제로 설명변수끼리 상호작용하거나 중복적으로 영향을 미치는 상황을 말합니다. 다중공선성 문제가 있을 시 결과해석 및 회귀계수 추정이 불안정해지는 문제를 야기합니다.\n",
    "\n",
    "💬 **Chat Prompt**\n",
    "> 상관관계 행렬을 통해 강한 상관관계가 있는 변수쌍을 알려줘\n",
    "\n",
    "🤖 **GPT 출력: Message**"
   ]
  },
  {
   "cell_type": "markdown",
   "metadata": {},
   "source": [
    "✏️ 붙여넣기"
   ]
  },
  {
   "cell_type": "markdown",
   "metadata": {},
   "source": [
    "🤖 **GPT 출력: Code**"
   ]
  },
  {
   "cell_type": "code",
   "execution_count": null,
   "metadata": {},
   "outputs": [],
   "source": [
    "'''\n",
    "✏️ 붙여넣기\n",
    "'''"
   ]
  },
  {
   "cell_type": "markdown",
   "metadata": {},
   "source": [
    "📍 **다중공선성 해결 방법**\n",
    "\n",
    "- 상관관계 분석 후 변수 제거: 상관관계가 높은 변수쌍 중 하나를 제거하거나 의미있는 변수 하나만을 선택\n",
    "- 변수 결합: 두 변수를 하나의 변수로 결합 (PCA, 차원축소)\n",
    "- VIF 분석: 각 독립 변수에 대해 VIF를 계산하여 높은 변수를 제거 (일반적으로 10 이상)\n",
    "\n",
    "📌 **더 알아보기: 다중공선성 처리 기준**\n",
    "\n",
    "특정 인자를 예측 또는 해석하기 위해서 통계적 방법론을 사용하거나 머신러닝을 사용할 수 있습니다. 그 중 통계적 방법론은 엄격한 제약들이 있고, 계산식에 의존하기에 다중공선성 문제가 크게 작용합니다. 반면  머신러닝 기법은 제약 보다는 성능을 중요시하며, 특히 좋은 성능을 내는 트리기반 모델들은 인자끼리의 상관관계가 높아도 패턴을 찾아낼 뿐이라 다중공성성이 크게 작용하지 않습니다. 따라서 자신이 어떤 분석을 수행할 것인지에 따라 해당 과정을 포함시키면 됩니다.\n",
    "\n",
    "## 💕 [Bonus] 치트키\n",
    "\n",
    "🧑‍💻 : 앞서 EDA 자체는 GPT에게 매직 키워드처럼 작용한다고 하였습니다. 이번에는 이를 활용해서 우리가 수행한 과정을 한번에 수행해 보도록 하겠습니다.\n",
    "\n",
    "💬 **Chat Prompt**\n",
    "\n",
    "> 주어진 데이터셋에 대해 일변량 EDA 수행해줘\n",
    "\n",
    "💬 **Chat Prompt**\n",
    "\n",
    "> 주어진 데이터셋에 대해 다변량 EDA 수행해줘"
   ]
  }
 ],
 "metadata": {
  "kernelspec": {
   "display_name": "ml",
   "language": "python",
   "name": "python3"
  },
  "language_info": {
   "codemirror_mode": {
    "name": "ipython",
    "version": 3
   },
   "file_extension": ".py",
   "mimetype": "text/x-python",
   "name": "python",
   "nbconvert_exporter": "python",
   "pygments_lexer": "ipython3",
   "version": "3.9.16"
  }
 },
 "nbformat": 4,
 "nbformat_minor": 2
}
