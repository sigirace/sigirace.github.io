{
 "cells": [
  {
   "cell_type": "markdown",
   "metadata": {},
   "source": [
    "❤️‍🔥 **Colab 실습**\n",
    "\n",
    "💬 **Chat Prompt**\n",
    "> 파이썬을 사용해서 별을 그리는 코드 만들어줘\n",
    "\n",
    "🤖 **GPT 출력: Message**"
   ]
  },
  {
   "cell_type": "markdown",
   "metadata": {},
   "source": [
    "✏️ 붙여넣기"
   ]
  },
  {
   "cell_type": "markdown",
   "metadata": {
    "vscode": {
     "languageId": "plaintext"
    }
   },
   "source": [
    "🤖 **GPT 출력: Code**"
   ]
  },
  {
   "cell_type": "code",
   "execution_count": null,
   "metadata": {
    "vscode": {
     "languageId": "plaintext"
    }
   },
   "outputs": [],
   "source": [
    "'''\n",
    "✏️ 붙여넣기\n",
    "'''"
   ]
  }
 ],
 "metadata": {
  "language_info": {
   "name": "python"
  }
 },
 "nbformat": 4,
 "nbformat_minor": 2
}
