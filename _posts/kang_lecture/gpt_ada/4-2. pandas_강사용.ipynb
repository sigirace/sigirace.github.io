{
 "cells": [
  {
   "cell_type": "markdown",
   "metadata": {},
   "source": [
    "## 1 Pandas 데이터 구조\n",
    "\n",
    "- Pandas에서 제공하는 데이터 구조는 Series와 DataFrame이 있음\n",
    "\n",
    "### 1.1 Series\n",
    "\n",
    "- 각 값에 `라벨(인덱스)`이 있고 `하나의 데이터 형식`으로 이루어진 `1차원 배열`\n",
    "- `라벨`로 데이터에 접근 할 수 있음\n",
    "\n",
    "### 1.2 DataFrame\n",
    "\n",
    "- 행과 열에 라벨이 있는 2차원 배열 ☞ Excel\n",
    "- 각 `열`은 `서로 다른 데이터 타입`을 지닐 수 있음\n",
    "\n",
    "<p align=\"center\"><img src=\"https://github.com/sigirace/page-images/blob/main/kang_lectures/python_preprocessing/s_p.png?raw=true\" width=\"600\" height=\"300\"></p>\n",
    "\n",
    "***\n",
    "\n",
    "## 2 DataFrame 기본\n",
    "\n",
    "Pandas의 DataFrame을 사용하여 분석하기 위한 가장 첫 단계는 데이터를 `호출`하고 데이터의 내용과 `요약`, `통계정보`를 확인하는 것입니다. 데이터나 분석 도구에 따라 컬럼명이나 컬럼의 타입을 변경해야 할 때도 있습니다.\n",
    "\n",
    "### 2.1 Pandas 사용 준비\n",
    "\n",
    "🧑‍💻: olist 구매 기록 데이터를 chat gpt에 업로드 해주세요!\n",
    "\n",
    "🔗 **실습 데이터**\n",
    "\n",
    "- 💾 [olist 구매기록 데이터](https://github.com/sigirace/gpt_ada/blob/main/data/olist_order_dataset_practice.csv)\n",
    "\n",
    "💬 **Chat Prompt**\n",
    "\n",
    "> 제시한 데이터는 이커머스회사 olist의 구매기록 데이터이다. 이 데이터의 컬럼을 살펴보고 설명해라. 모든 과정에서 설명시 한국어를 사용하라.\n",
    "\n",
    "🤖 **GPT 출력: message**"
   ]
  },
  {
   "cell_type": "markdown",
   "metadata": {},
   "source": [
    "```\n",
    "이 데이터는 이커머스 회사인 Olist의 구매 기록을 포함하고 있으며, 총 9개의 컬럼으로 구성되어 있습니다. 각 컬럼의 설명은 다음과 같습니다:\n",
    "\n",
    "1. order_id: 주문 ID로, 각 주문을 고유하게 식별할 수 있는 문자열입니다.\n",
    "2. customer_id: 고객 ID로, 주문을 한 고객을 고유하게 식별할 수 있는 문자열입니다.\n",
    "3. order_status: 주문 상태를 나타내는 컬럼으로, ‘delivered’(배송 완료)와 같은 상태 정보가 포함됩니다.\n",
    "4. order_purchase_timestamp: 주문이 이루어진 시점을 나타내는 타임스탬프로, 주문이 생성된 날짜와 시간이 기록되어 있습니다.\n",
    "5. product_category: 구매된 상품의 카테고리를 나타내는 문자열입니다.\n",
    "6. payment_method: 결제 수단을 나타내는 컬럼으로, ‘credit_card’(신용카드), ‘boleto’(브라질의 지불 수단) 등이 포함됩니다.\n",
    "7. installments: 할부 횟수를 나타내는 컬럼으로, 고객이 구매할 때 선택한 할부 개수입니다. 일부 값은 결측치(NaN)로 표시됩니다.\n",
    "8. item_price_usd: 상품의 가격을 미국 달러(USD)로 나타내는 컬럼입니다.\n",
    "9. shipping_cost_usd: 배송비를 미국 달러(USD)로 나타내는 컬럼입니다.\n",
    "\n",
    "이 데이터는 997개의 레코드(행)로 구성되어 있으며, 각 컬럼의 데이터 타입은 문자열(object)과 부동 소수점(float64)으로 구성되어 있습니다. 결측치는 installments, item_price_usd, shipping_cost_usd 컬럼에서 발견됩니다.\n",
    "```"
   ]
  },
  {
   "cell_type": "markdown",
   "metadata": {},
   "source": [
    "🤖 **GPT 출력:Code**"
   ]
  },
  {
   "cell_type": "code",
   "execution_count": 1,
   "metadata": {},
   "outputs": [
    {
     "data": {
      "text/plain": [
       "(                           order_id                       customer_id  \\\n",
       " 0  e481f51cbdc54678b7cc49136f2d6af7  9ef432eb6251297304e76186b10a928d   \n",
       " 1  128e10d95713541c87cd1a2e48201934  a20e8105f23924cd00833fd87daa0831   \n",
       " 2  0e7e841ddf8f8f2de2bad69267ecfbcf  26c7ac168e1433912a51b924fbd34d34   \n",
       " 3  bfc39df4f36c3693ff3b63fcbea9e90a  53904ddbea91e1e92b2b3f1d09a7af86   \n",
       " 4  53cdb2fc8bc7dce0b6741e2150273451  b0830fb4747a6c6d20dea0b8c802d7ef   \n",
       " \n",
       "   order_status order_purchase_timestamp product_category payment_method  \\\n",
       " 0    delivered          2017.10.2 10:56       housewares    credit_card   \n",
       " 1    delivered          2017.8.15 18:29       housewares    credit_card   \n",
       " 2    delivered           2017.8.2 18:24       housewares    credit_card   \n",
       " 3    delivered         2017.10.23 23:26       housewares         boleto   \n",
       " 4    delivered          2018.7.24 20:41        perfumery         boleto   \n",
       " \n",
       "    installments  item_price_usd  shipping_cost_usd  \n",
       " 0           1.0          5.6981             1.6568  \n",
       " 1           3.0          5.6981             1.4782  \n",
       " 2           NaN          5.6981             1.4782  \n",
       " 3           1.0          5.6981             2.6790  \n",
       " 4           1.0         22.5530             4.3244  ,\n",
       " Index(['order_id', 'customer_id', 'order_status', 'order_purchase_timestamp',\n",
       "        'product_category', 'payment_method', 'installments', 'item_price_usd',\n",
       "        'shipping_cost_usd'],\n",
       "       dtype='object'))"
      ]
     },
     "execution_count": 1,
     "metadata": {},
     "output_type": "execute_result"
    }
   ],
   "source": [
    "import pandas as pd\n",
    "\n",
    "# 데이터 로드\n",
    "file_path = 'https://raw.githubusercontent.com/sigirace/gpt_ada/main/data/olist_order_dataset_practice.csv'\n",
    "data = pd.read_csv(file_path)\n",
    "\n",
    "# 데이터의 첫 몇 행과 컬럼 정보 확인\n",
    "data_head = data.head()\n",
    "data_columns = data.columns\n",
    "\n",
    "data_head, data_columns"
   ]
  },
  {
   "cell_type": "markdown",
   "metadata": {},
   "source": [
    "### 2.2 DataFrame 출력하기\n",
    "\n",
    "- `head()`, `tail()` 함수를 사용해 데이터를 부분적으로 확인\n",
    "- 함수의 인자로 아무 숫자도 지정하지 않으면 컬럼명을 포함하여 6줄을 출력\n",
    "\n",
    "💥 **MISSION**\n",
    "\n",
    "> Dataframe의 `head()`와 `tail()` 사용해보기"
   ]
  },
  {
   "cell_type": "code",
   "execution_count": 2,
   "metadata": {},
   "outputs": [
    {
     "name": "stdout",
     "output_type": "stream",
     "text": [
      "                           order_id                       customer_id  \\\n",
      "0  e481f51cbdc54678b7cc49136f2d6af7  9ef432eb6251297304e76186b10a928d   \n",
      "1  128e10d95713541c87cd1a2e48201934  a20e8105f23924cd00833fd87daa0831   \n",
      "2  0e7e841ddf8f8f2de2bad69267ecfbcf  26c7ac168e1433912a51b924fbd34d34   \n",
      "3  bfc39df4f36c3693ff3b63fcbea9e90a  53904ddbea91e1e92b2b3f1d09a7af86   \n",
      "4  53cdb2fc8bc7dce0b6741e2150273451  b0830fb4747a6c6d20dea0b8c802d7ef   \n",
      "\n",
      "  order_status order_purchase_timestamp product_category payment_method  \\\n",
      "0    delivered          2017.10.2 10:56       housewares    credit_card   \n",
      "1    delivered          2017.8.15 18:29       housewares    credit_card   \n",
      "2    delivered           2017.8.2 18:24       housewares    credit_card   \n",
      "3    delivered         2017.10.23 23:26       housewares         boleto   \n",
      "4    delivered          2018.7.24 20:41        perfumery         boleto   \n",
      "\n",
      "   installments  item_price_usd  shipping_cost_usd  \n",
      "0           1.0          5.6981             1.6568  \n",
      "1           3.0          5.6981             1.4782  \n",
      "2           NaN          5.6981             1.4782  \n",
      "3           1.0          5.6981             2.6790  \n",
      "4           1.0         22.5530             4.3244                                order_id                       customer_id  \\\n",
      "992  65b923f47b964f5e6be363f33a1cd0ed  c0dfb57c7c700f11633aba234dcce6b7   \n",
      "993  c762b7683314cc1cf880475f78aa3821  79c4c03824db69d2f61c1e8d8ec24443   \n",
      "994  088a21dbb29d74a07738fb93a96b507a  fd04c6764e22cc8daca7064ed73fdf6c   \n",
      "995  088a21dbb29d74a07738fb93a96b507a  fd04c6764e22cc8daca7064ed73fdf6c   \n",
      "996  088a21dbb29d74a07738fb93a96b507a  fd04c6764e22cc8daca7064ed73fdf6c   \n",
      "\n",
      "    order_status order_purchase_timestamp product_category payment_method  \\\n",
      "992    delivered          2018.5.14 22:06     garden_tools    credit_card   \n",
      "993    delivered         2017.11.24 18:37     garden_tools    credit_card   \n",
      "994    delivered         2017.11.16 13:40     garden_tools         boleto   \n",
      "995    delivered         2017.11.16 13:40     garden_tools         boleto   \n",
      "996    delivered         2017.11.16 13:40     garden_tools         boleto   \n",
      "\n",
      "     installments  item_price_usd  shipping_cost_usd  \n",
      "992          10.0         20.9000             9.0573  \n",
      "993           2.0         17.0981                NaN  \n",
      "994           1.0             NaN             9.5950  \n",
      "995           1.0         17.0981            -9.5950  \n",
      "996           1.0         17.0981             9.5950  \n"
     ]
    }
   ],
   "source": [
    "print(data.head(), data.tail())"
   ]
  },
  {
   "cell_type": "markdown",
   "metadata": {},
   "source": [
    "### 2.3 데이터 타입 확인하기\n",
    "\n",
    "- `object`: 문자열\n",
    "- `int`, `float`, `decimal` ..: 숫자형\n",
    "- `bool`: 불리안\n",
    "\n",
    "💬 **Chat Prompt**\n",
    "> 제시한 데이터에서 컬럼들의 타입을 알려줘\n",
    "\n",
    "🤖 **GPT 출력: Message**"
   ]
  },
  {
   "cell_type": "markdown",
   "metadata": {},
   "source": [
    "```\n",
    "제시한 데이터의 각 컬럼에 대한 데이터 타입은 다음과 같습니다:\n",
    "\n",
    "• order_id: object (문자열)\n",
    "• customer_id: object (문자열)\n",
    "• order_status: object (문자열)\n",
    "• order_purchase_timestamp: object (문자열)\n",
    "• product_category: object (문자열)\n",
    "• payment_method: object (문자열)\n",
    "• installments: float64 (실수형)\n",
    "• item_price_usd: float64 (실수형)\n",
    "• shipping_cost_usd: float64 (실수형)\n",
    "\n",
    "대부분의 컬럼이 문자열로 되어 있으며, installments, item_price_usd, shipping_cost_usd 컬럼은 실수형(float64) 데이터 타입을 가지고 있습니다.\n",
    "```"
   ]
  },
  {
   "cell_type": "markdown",
   "metadata": {},
   "source": [
    "🤖 **GPT 출력: Code**"
   ]
  },
  {
   "cell_type": "code",
   "execution_count": 3,
   "metadata": {},
   "outputs": [
    {
     "data": {
      "text/plain": [
       "order_id                     object\n",
       "customer_id                  object\n",
       "order_status                 object\n",
       "order_purchase_timestamp     object\n",
       "product_category             object\n",
       "payment_method               object\n",
       "installments                float64\n",
       "item_price_usd              float64\n",
       "shipping_cost_usd           float64\n",
       "dtype: object"
      ]
     },
     "execution_count": 3,
     "metadata": {},
     "output_type": "execute_result"
    }
   ],
   "source": [
    "# Checking the data types of each column in the dataset\n",
    "data_types = data.dtypes\n",
    "data_types"
   ]
  },
  {
   "cell_type": "markdown",
   "metadata": {},
   "source": [
    "### 2.4 데이터 타입 변경하기\n",
    "\n",
    "🧑‍💻: 구매 빈도는 정수여야 할 것 같습니다. 데이터의 타입을 변경하도록 해볼까요?\n",
    "\n",
    "💬 **Chat Prompt**\n",
    "> installments의 컬럼을 정수형으로 변경해줘\n",
    "\n",
    "🤖 **GPT 출력: Message**"
   ]
  },
  {
   "cell_type": "markdown",
   "metadata": {},
   "source": [
    "```\n",
    "installments 컬럼을 정수형(int64)으로 성공적으로 변환했습니다. 이제 이 컬럼은 더 이상 실수형이 아닌 정수형 데이터를 포함하고 있습니다. \n",
    "```"
   ]
  },
  {
   "cell_type": "markdown",
   "metadata": {},
   "source": [
    "🤖 **GPT 출력: Code**"
   ]
  },
  {
   "cell_type": "code",
   "execution_count": 4,
   "metadata": {},
   "outputs": [
    {
     "data": {
      "text/plain": [
       "dtype('int64')"
      ]
     },
     "execution_count": 4,
     "metadata": {},
     "output_type": "execute_result"
    }
   ],
   "source": [
    "# Converting the 'installments' column to integer type\n",
    "data['installments'] = data['installments'].fillna(0).astype(int)\n",
    "\n",
    "# Verifying the change\n",
    "data['installments'].dtype"
   ]
  },
  {
   "cell_type": "markdown",
   "metadata": {},
   "source": [
    "📌  **더 알아보기**\n",
    "\n",
    "- 데이터 타입을 변경하는 것은 `전처리`의 영역에 속함"
   ]
  },
  {
   "cell_type": "markdown",
   "metadata": {},
   "source": [
    "### 2.5 데이터의 자료형태 확인하기\n",
    "\n",
    "- 데이터의 자료형태는 `시각화`, `전처리` 그리고 `분석` 시 모두 중요하게 적용되는 개념\n",
    "- 각 형태에 따라 다른 기법이 사용됨\n",
    "\n",
    "<p align=\"center\"><img src=\"https://github.com/sigirace/page-images/blob/main/kang_lectures/gpt_ada/data_type.png?raw=true\" width=\"600\" height=\"300\"></p>\n",
    "\n",
    "\n",
    "| 분류       | 상세 분류  | 설명                                     | **예시**                                              |\n",
    "| ---------- | ---------- | ---------------------------------------- | ----------------------------------------------------- |\n",
    "| **범주형** |            | 몇 개의 범주로 나누어진 자료를 의미      |                                                       |\n",
    "|            | **명목형** | 순서 관계가 없는 자료                    | 성별(남성, 여성), 혈액형(A형, B형, O형, AB형 등)      |\n",
    "|            | **순서형** | 순서 관계가 존재하는 자료                | 교육 수준(고졸, 대졸, 석사 등), 등급(1등급, 2등급 등) |\n",
    "| **수치형** |            | 이산형과 연속형으로 이루어진 자료를 의미 |                                                       |\n",
    "|            | **이산형** | 구분된 값을 가짐                         | 출산 횟수, 방문 횟수                                  |\n",
    "|            | **연속형** | 연속적인 값을 가짐                       | 신장, 체중, 온도                                      |\n"
   ]
  },
  {
   "cell_type": "markdown",
   "metadata": {},
   "source": [
    "💬 **Chat Prompt**\n",
    "> 제시한 데이터에서 컬럼을 수치형, 범주형으로 구분하여 알려주고 리스트에 저장해줘\n",
    "\n",
    "🤖 **GPT 출력: Message**"
   ]
  },
  {
   "cell_type": "markdown",
   "metadata": {},
   "source": [
    "```\n",
    "• 범주형(Categorical) 컬럼:\n",
    "\t• order_id\n",
    "\t• customer_id\n",
    "\t• order_status\n",
    "\t• order_purchase_timestamp\n",
    "\t• product_category\n",
    "\t• payment_method\n",
    "• 수치형(Numerical) 컬럼:\n",
    "\t• installments\n",
    "\t• item_price_usd\n",
    "\t• shipping_cost_usd\n",
    "```\t"
   ]
  },
  {
   "cell_type": "markdown",
   "metadata": {},
   "source": [
    "🤖 **GPT 출력:Code**"
   ]
  },
  {
   "cell_type": "code",
   "execution_count": 5,
   "metadata": {},
   "outputs": [
    {
     "data": {
      "text/plain": [
       "(['installments', 'item_price_usd', 'shipping_cost_usd'],\n",
       " ['order_id',\n",
       "  'customer_id',\n",
       "  'order_status',\n",
       "  'order_purchase_timestamp',\n",
       "  'product_category',\n",
       "  'payment_method'])"
      ]
     },
     "execution_count": 5,
     "metadata": {},
     "output_type": "execute_result"
    }
   ],
   "source": [
    "# 수치형(Numerical) 컬럼 리스트\n",
    "numerical_columns = ['installments', 'item_price_usd', 'shipping_cost_usd']\n",
    "\n",
    "# 범주형(Categorical) 컬럼 리스트\n",
    "categorical_columns = ['order_id', 'customer_id', 'order_status', 'order_purchase_timestamp', 'product_category', 'payment_method']\n",
    "\n",
    "numerical_columns, categorical_columns"
   ]
  },
  {
   "cell_type": "markdown",
   "metadata": {},
   "source": [
    "### 2.6 DataFrame 요약 및 통계 확인하기\n",
    "\n",
    "- 데이터의 내용을 확인했다면 그 이후에 데이터프레임의 요약, 통계정보를 확인함\n",
    "- `info()` 함수를 통해 `총 데이터의 건수`, `각 컬럼의 데이터 형식` 그리고 `결측치의 건수`를 확인할 수 있음\n",
    "- 수치형 컬럼이 존재하는 경우 `describe()`함수를 사용하여 수치형 컬럼들의 `n-percentile` 분포도, 평균값, 최대값, 최소값을 확인할 수 있음\n",
    "- 이러한 과정은 `EDA`에 속함\n",
    "\n",
    "\n",
    "💬 **Chat Prompt**\n",
    "\n",
    "```\n",
    "제시한 데이터의 요약 및 통계정보를 확인해줘\n",
    "```\n",
    "\n",
    "🤖 **GPT 출력: Message**"
   ]
  },
  {
   "cell_type": "markdown",
   "metadata": {},
   "source": [
    "```\n",
    "제시된 데이터의 요약 및 통계 정보는 다음과 같습니다:\n",
    "\n",
    "수치형 컬럼의 통계 정보:\n",
    "\n",
    " • installments:\n",
    " • 총 개수: 997\n",
    " • 평균: 3.62\n",
    " • 표준 편차: 31.68\n",
    " • 최소값: 0\n",
    " • 1사분위값: 1\n",
    " • 중앙값: 1\n",
    " • 3사분위값: 4\n",
    " • 최대값: 999\n",
    " • item_price_usd:\n",
    " • 총 개수: 898\n",
    " • 평균: 29.10\n",
    " • 표준 편차: 333.61\n",
    " • 최소값: 1.805\n",
    " • 1사분위값: 13.11\n",
    " • 중앙값: 17.10\n",
    " • 3사분위값: 20.90\n",
    " • 최대값: 9999\n",
    " • shipping_cost_usd:\n",
    " • 총 개수: 898\n",
    " • 평균: 115.49\n",
    " • 표준 편차: 3336.87\n",
    " • 최소값: -9.595\n",
    " • 1사분위값: 2.46\n",
    " • 중앙값: 3.06\n",
    " • 3사분위값: 5.17\n",
    " • 최대값: 99999\n",
    "\n",
    "범주형 컬럼의 요약 정보:\n",
    "\n",
    " • order_id:\n",
    " • 총 개수: 997\n",
    " • 고유값: 894\n",
    " • 최빈값: 52eb8ce94864a3bb1be410a545f9ed4c (6회 발생)\n",
    " • customer_id:\n",
    " • 총 개수: 997\n",
    " • 고유값: 894\n",
    " • 최빈값: 4aa0005ef4b8cb5ce874a4a86b36ed05 (6회 발생)\n",
    " • order_status:\n",
    " • 총 개수: 997\n",
    " • 고유값: 4\n",
    " • 최빈값: delivered (982회 발생)\n",
    " • order_purchase_timestamp:\n",
    " • 총 개수: 997\n",
    " • 고유값: 893\n",
    " • 최빈값: 2017.11.24 23:37 (6회 발생)\n",
    " • product_category:\n",
    " • 총 개수: 997\n",
    " • 고유값: 19\n",
    " • 최빈값: health_beauty (278회 발생)\n",
    " • payment_method:\n",
    " • 총 개수: 997\n",
    " • 고유값: 4\n",
    " • 최빈값: credit_card (748회 발생) \n",
    "이 정보들은 데이터의 전반적인 분포와 특성을 이해하는 데 도움이 됩니다. \n",
    "```    "
   ]
  },
  {
   "cell_type": "markdown",
   "metadata": {},
   "source": [
    "🤖 **GPT 출력: Code**"
   ]
  },
  {
   "cell_type": "code",
   "execution_count": 6,
   "metadata": {},
   "outputs": [
    {
     "data": {
      "text/plain": [
       "(       installments  item_price_usd  shipping_cost_usd\n",
       " count    997.000000      898.000000         898.000000\n",
       " mean       3.623872       29.099161         115.493469\n",
       " std       31.681427      333.614822        3336.873052\n",
       " min        0.000000        1.805000          -9.595000\n",
       " 25%        1.000000       13.110000           2.464300\n",
       " 50%        1.000000       17.098100           3.064700\n",
       " 75%        4.000000       20.898100           5.169425\n",
       " max      999.000000     9999.000000       99999.000000,\n",
       "                                 order_id                       customer_id  \\\n",
       " count                                997                               997   \n",
       " unique                               894                               894   \n",
       " top     52eb8ce94864a3bb1be410a545f9ed4c  4aa0005ef4b8cb5ce874a4a86b36ed05   \n",
       " freq                                   6                                 6   \n",
       " \n",
       "        order_status order_purchase_timestamp product_category payment_method  \n",
       " count           997                      997              997            997  \n",
       " unique            4                      893               19              4  \n",
       " top       delivered         2017.11.24 23:37    health_beauty    credit_card  \n",
       " freq            982                        6              278            748  )"
      ]
     },
     "execution_count": 6,
     "metadata": {},
     "output_type": "execute_result"
    }
   ],
   "source": [
    "# 수치형 컬럼에 대한 통계 정보 확인\n",
    "numerical_summary = data.describe()\n",
    "\n",
    "# 범주형 컬럼에 대한 요약 정보 확인\n",
    "categorical_summary = data[categorical_columns].describe()\n",
    "\n",
    "numerical_summary, categorical_summary"
   ]
  },
  {
   "cell_type": "markdown",
   "metadata": {},
   "source": [
    "💬 **Chat Prompt**\n",
    "> 범주형 데이터의 고유값에 대해 설명해줘, 단, ID값과 날짜는 제외하고 알려줘\n",
    "\n",
    "🤖 **GPT 출력: Message**"
   ]
  },
  {
   "cell_type": "markdown",
   "metadata": {},
   "source": [
    "```\n",
    "범주형 데이터의 고유값에 대한 설명은 다음과 같습니다(ID값과 날짜는 제외):\n",
    "\n",
    "order_status (주문 상태):\n",
    "\n",
    "\t• delivered: 982회 발생 (배송 완료)\n",
    "\t• shipped: 12회 발생 (배송 중)\n",
    "\t• invoiced: 2회 발생 (청구서 발행됨)\n",
    "\t• canceled: 1회 발생 (주문 취소됨)\n",
    "\n",
    "product_category (상품 카테고리):\n",
    "\n",
    "\t• health_beauty: 278회 발생 (건강 및 미용)\n",
    "\t• garden_tools: 219회 발생 (정원 도구)\n",
    "\t• perfumery: 125회 발생 (향수)\n",
    "\t• auto: 91회 발생 (자동차 관련)\n",
    "\t• bed_bath_table: 52회 발생 (침실, 욕실, 테이블 관련)\n",
    "\t• stationery: 41회 발생 (문구류)\n",
    "\t• baby: 40회 발생 (유아용품)\n",
    "\t• toys: 35회 발생 (장난감)\n",
    "\t• watches_gifts: 27회 발생 (시계 및 선물)\n",
    "\t• computers_accessories: 23회 발생 (컴퓨터 및 액세서리)\n",
    "\t• telephony: 19회 발생 (전화기 관련)\n",
    "\t• electronics: 13회 발생 (전자기기)\n",
    "\t• office_furniture: 9회 발생 (사무용 가구)\n",
    "\t• cool_stuff: 6회 발생 (멋진 물건)\n",
    "\t• pet_shop: 5회 발생 (애완동물 용품)\n",
    "\t• furniture_decor: 5회 발생 (가구 및 장식)\n",
    "\t• housewares: 4회 발생 (가정용품)\n",
    "\t• construction_tools_construction: 4회 발생 (건설 도구)\n",
    "\t• air_conditioning: 1회 발생 (에어컨)\n",
    "\n",
    "payment_method (결제 수단):\n",
    "\n",
    "\t• credit_card: 748회 발생 (신용카드)\n",
    "\t• boleto: 202회 발생 (브라질의 지불 수단)\n",
    "\t• voucher: 35회 발생 (바우처)\n",
    "\t• debit_card: 12회 발생 (직불카드)\n",
    "\n",
    "이 고유값들은 각 범주형 컬럼에서 나타나는 값들의 빈도와 분포를 보여줍니다.\n",
    "```    "
   ]
  },
  {
   "cell_type": "markdown",
   "metadata": {},
   "source": [
    "📌 **더 알아보기**\n",
    "\n",
    "- 데이터 `요약`, `통계정보`를 통해 `이상치` 및 `결측치`에 대한 처리를 어떻게 해야할지 대략적인 감을 잡을 수 있음\n",
    "\n",
    "***"
   ]
  },
  {
   "cell_type": "markdown",
   "metadata": {},
   "source": [
    "## 3. 조건에 맞는 데이터 탐색\n",
    "\n",
    "### 3.1 단일 조건으로 데이터 탐색\n",
    "\n",
    "💬 **Chat Prompt**\n",
    "> 제시한 데이터에서 제품 카테고리가 장난감인 것들만 탐색해줘\n",
    "\n",
    "🤖 **GPT 출력: Code**"
   ]
  },
  {
   "cell_type": "code",
   "execution_count": 7,
   "metadata": {},
   "outputs": [
    {
     "name": "stdout",
     "output_type": "stream",
     "text": [
      "                             order_id                       customer_id  \\\n",
      "424  432aaf21d85167c2c86ec9448c4e42cc  3df704f53d3f1d4818840b34ec672a9f   \n",
      "425  4e2160ff7a61b2bf4fbd2e527ea924d3  ea36ec29b56eded534644f21b9561efc   \n",
      "426  588e9a3844482484a31e604c2767b82f  c6d04a9495cc4d8e22a4276131aac50e   \n",
      "427  0d2d1445891e7aba669fa2069d695601  739ee2d2d5960609ad780937fd9fa282   \n",
      "428  ce0e053019fe2441df8363b9bf4208a7  eb0e5e03030a71a038d3e71bdbe82d86   \n",
      "\n",
      "    order_status order_purchase_timestamp product_category payment_method  \\\n",
      "424    delivered           2018.3.1 14:14             toys    credit_card   \n",
      "425    delivered           2018.2.9 13:48             toys    credit_card   \n",
      "426    delivered          2018.3.24 21:50             toys         boleto   \n",
      "427    delivered          2017.10.9 19:54             toys         boleto   \n",
      "428    delivered          2017.12.4 20:15             toys    credit_card   \n",
      "\n",
      "     installments  item_price_usd  shipping_cost_usd  \n",
      "424             1          7.2675             3.0609  \n",
      "425             1          7.2675             3.0609  \n",
      "426             1          8.0731             9.9712  \n",
      "427             1          7.2675             2.5650  \n",
      "428             2          7.2675             5.1091  \n"
     ]
    }
   ],
   "source": [
    "# Filtering the dataset for rows where the product_category is 'toys'\n",
    "toys_data = data[data['product_category'] == 'toys']\n",
    "\n",
    "# Displaying the filtered data\n",
    "print(toys_data.head())"
   ]
  },
  {
   "cell_type": "markdown",
   "metadata": {},
   "source": [
    "### 3.2 다중 조건으로 데이터 탐색\n",
    "\n",
    "💬 **Chat Prompt**\n",
    "> 제시한 데이터에서 product_category가 장난감이고 installments이 평균 이상인 것들만 탐색해줘\n",
    "\n",
    "🤖 **GPT 출력: Code**"
   ]
  },
  {
   "cell_type": "code",
   "execution_count": 8,
   "metadata": {},
   "outputs": [
    {
     "name": "stdout",
     "output_type": "stream",
     "text": [
      "                             order_id                       customer_id  \\\n",
      "445  fa5927f07ada4f44128f6d9fab3b70f6  8af801d95c9bc9bd7cfa7845826e4b72   \n",
      "452  d9971834a50b8fc323aa7f527978169d  4899884819536b44b5b533849b3683ce   \n",
      "453  d9971834a50b8fc323aa7f527978169d  4899884819536b44b5b533849b3683ce   \n",
      "455  7c74b6a47ffad9deb24bd2a1f0b0acc5  95e4216612b16855852e2b9efa6174d2   \n",
      "\n",
      "    order_status order_purchase_timestamp product_category payment_method  \\\n",
      "445    delivered           2018.2.2 10:18             toys    credit_card   \n",
      "452    delivered           2017.9.27 0:07             toys    credit_card   \n",
      "453    delivered           2017.9.27 0:07             toys    credit_card   \n",
      "455    delivered          2017.12.4 17:22             toys    credit_card   \n",
      "\n",
      "     installments  item_price_usd  shipping_cost_usd  \n",
      "445             5          7.2675             3.4048  \n",
      "452            10          7.2675             3.0609  \n",
      "453            10          7.2675             3.0609  \n",
      "455             5          7.2675             3.0609  \n"
     ]
    }
   ],
   "source": [
    "# Calculating the mean of 'installments'\n",
    "installments_mean = data['installments'].mean()\n",
    "\n",
    "# Filtering the dataset for rows where the product_category is 'toys' and installments are above the mean\n",
    "toys_above_mean_installments = data[(data['product_category'] == 'toys') & (data['installments'] > installments_mean)]\n",
    "\n",
    "print(toys_above_mean_installments)"
   ]
  },
  {
   "cell_type": "markdown",
   "metadata": {},
   "source": [
    "## 4. 데이터 요약\n",
    "\n",
    "데이터를 요약하여 원하는 정보를 얻는 것은 데이터가 지닌 값의 특징을 알게 해줍니다. 이와 비슷한 것을 2장에서 수행해보았는데, 이번 장에서는 세부적으로 데이터를 요약하여 집계하는 방법을 알아보겠습니다.\n",
    "\n",
    "### 4.1 그룹화 집계\n",
    "\n",
    "👀 **Definition**\n",
    "> 그룹화는 하나 이상의 데이터를 조건에 따라 여러개 그룹으로 묶는 것\n",
    "\n",
    "- groupby() 함수를 사용함\n",
    "\n",
    "📌 **groupby**\n",
    "\n",
    "> DataFrame.groupby(by=None, axis=0, sort=False, dropna=True).FUN()\n",
    "\n",
    "- by: 그룹을 결정하는 데 사용\n",
    "- axis: 행(0)과 열(1) 지정c\n",
    "- sort: 집계된 내용을 정렬할지 여부\n",
    "- dropna: True이면 결측값이 행/열과 함께 삭제, False이면 결측값도 그룹의 키로 처리\n",
    "- FUN: 집계함수\n",
    "\n",
    "🔥 **집계함수**\n",
    "\n",
    "- count(): 값의 개수\n",
    "- sum(): 값들의 합\n",
    "- std(): 표준편차\n",
    "- var(): 분산\n",
    "- min(): 최솟값\n",
    "- max(): 최대값\n",
    "- mean(): 평균값\n",
    "- median(): 중앙값\n",
    "\n",
    "🧑‍💻: product_category 별로 다양한 집계를 수행해 봅니다.\n",
    "\n",
    "💬 **Chat Prompt**\n",
    "\n",
    "> product_category 값을 기준으로 집계 함수 count를 수행해줘\n",
    "\n",
    "🤖 **GPT 출력: Message**"
   ]
  },
  {
   "cell_type": "markdown",
   "metadata": {},
   "source": [
    "```\n",
    "product_category 값을 기준으로 각 카테고리의 주문 수를 집계한 결과는 다음과 같습니다:\n",
    "\n",
    "\t• health_beauty: 278\n",
    "\t• garden_tools: 219\n",
    "\t• perfumery: 125\n",
    "\t• auto: 91\n",
    "\t• bed_bath_table: 52\n",
    "\t• stationery: 41\n",
    "\t• baby: 40\n",
    "\t• toys: 35\n",
    "\t• watches_gifts: 27\n",
    "\t• computers_accessories: 23\n",
    "\t• telephony: 19\n",
    "\t• electronics: 13\n",
    "\t• office_furniture: 9\n",
    "\t• cool_stuff: 6\n",
    "\t• pet_shop: 5\n",
    "\t• furniture_decor: 5\n",
    "\t• housewares: 4\n",
    "\t• construction_tools_construction: 4\n",
    "\t• air_conditioning: 1\n",
    "\n",
    "이 결과는 각 카테고리에 속한 주문의 빈도를 보여줍니다.\n",
    "```"
   ]
  },
  {
   "cell_type": "markdown",
   "metadata": {},
   "source": [
    "🤖 **GPT 출력: Code**"
   ]
  },
  {
   "cell_type": "code",
   "execution_count": 9,
   "metadata": {},
   "outputs": [
    {
     "data": {
      "text/plain": [
       "health_beauty                      278\n",
       "garden_tools                       219\n",
       "perfumery                          125\n",
       "auto                                91\n",
       "bed_bath_table                      52\n",
       "stationery                          41\n",
       "baby                                40\n",
       "toys                                35\n",
       "watches_gifts                       27\n",
       "computers_accessories               23\n",
       "telephony                           19\n",
       "electronics                         13\n",
       "office_furniture                     9\n",
       "cool_stuff                           6\n",
       "pet_shop                             5\n",
       "furniture_decor                      5\n",
       "housewares                           4\n",
       "construction_tools_construction      4\n",
       "air_conditioning                     1\n",
       "Name: product_category, dtype: int64"
      ]
     },
     "execution_count": 9,
     "metadata": {},
     "output_type": "execute_result"
    }
   ],
   "source": [
    "# product_category를 기준으로 각 카테고리의 주문 수를 집계\n",
    "category_count = data['product_category'].value_counts()\n",
    "\n",
    "category_count"
   ]
  },
  {
   "cell_type": "markdown",
   "metadata": {},
   "source": [
    "💬 **Chat Prompt**\n",
    "> product_category 값을 기준으로 installments의 평균을 구해줘 (집계함수 mean 적용)\n",
    "\n",
    "🤖 **GPT 출력: Message**"
   ]
  },
  {
   "cell_type": "markdown",
   "metadata": {},
   "source": [
    "```\n",
    "product_category 값을 기준으로 installments의 평균을 계산한 결과는 다음과 같습니다:\n",
    "\n",
    "\t• air_conditioning: 0.00\n",
    "\t• auto: 2.09\n",
    "\t• baby: 3.23\n",
    "\t• bed_bath_table: 1.75\n",
    "\t• computers_accessories: 2.13\n",
    "\t• construction_tools_construction: 10.00\n",
    "\t• cool_stuff: 3.67\n",
    "\t• electronics: 2.15\n",
    "\t• furniture_decor: 0.60\n",
    "\t• garden_tools: 2.71\n",
    "\t• health_beauty: 6.60\n",
    "\t• housewares: 1.25\n",
    "\t• office_furniture: 2.11\n",
    "\t• perfumery: 2.78\n",
    "\t• pet_shop: 1.40\n",
    "\t• stationery: 1.10\n",
    "\t• telephony: 1.74\n",
    "\t• toys: 1.89\n",
    "\t• watches_gifts: 4.11\n",
    "\n",
    "이 값들은 각 상품 카테고리별 할부 횟수의 평균을 나타냅니다. \n",
    "```"
   ]
  },
  {
   "cell_type": "markdown",
   "metadata": {},
   "source": [
    "🤖 **GPT 출력: Code**"
   ]
  },
  {
   "cell_type": "code",
   "execution_count": 10,
   "metadata": {},
   "outputs": [
    {
     "data": {
      "text/plain": [
       "product_category\n",
       "air_conditioning                    0.000000\n",
       "auto                                2.087912\n",
       "baby                                3.225000\n",
       "bed_bath_table                      1.750000\n",
       "computers_accessories               2.130435\n",
       "construction_tools_construction    10.000000\n",
       "cool_stuff                          3.666667\n",
       "electronics                         2.153846\n",
       "furniture_decor                     0.600000\n",
       "garden_tools                        2.712329\n",
       "health_beauty                       6.597122\n",
       "housewares                          1.250000\n",
       "office_furniture                    2.111111\n",
       "perfumery                           2.776000\n",
       "pet_shop                            1.400000\n",
       "stationery                          1.097561\n",
       "telephony                           1.736842\n",
       "toys                                1.885714\n",
       "watches_gifts                       4.111111\n",
       "Name: installments, dtype: float64"
      ]
     },
     "execution_count": 10,
     "metadata": {},
     "output_type": "execute_result"
    }
   ],
   "source": [
    "# product_category를 기준으로 installments의 평균을 계산\n",
    "installments_mean_by_category = data.groupby('product_category')['installments'].mean()\n",
    "\n",
    "installments_mean_by_category"
   ]
  },
  {
   "cell_type": "markdown",
   "metadata": {},
   "source": [
    "💬 **Chat Prompt**\n",
    "> 집계 함수로 구한 product_category 값을 기준으로 installments의 평균에 대해 결과를 해석해서 설명해줘\n",
    "\n",
    "🤖 **GPT 출력: Message**"
   ]
  },
  {
   "cell_type": "markdown",
   "metadata": {},
   "source": [
    "```\n",
    "각 product_category(상품 카테고리)별로 installments(할부 횟수)의 평균을 분석한 결과는 다음과 같습니다:\n",
    "\n",
    "\t1. 높은 할부 횟수:\n",
    "\t• construction_tools_construction (10.00): 이 카테고리에서는 평균 10회의 할부가 적용되었습니다. 이는 고가의 상품이 포함될 가능성이 높으며, 구매자들이 비용을 분할하여 지불하는 경향이 강하다는 것을 나타냅니다.\n",
    "\t• health_beauty (6.60): 건강 및 미용 제품도 비교적 높은 할부 횟수를 보입니다. 이는 고객들이 이 카테고리의 상품을 구매할 때 할부를 자주 선택한다는 것을 의미합니다.\n",
    "\t2. 중간 할부 횟수:\n",
    "\t• watches_gifts (4.11), cool_stuff (3.67), baby (3.23): 이 카테고리들은 중간 수준의 할부 횟수를 가지고 있으며, 이는 구매자들이 이러한 제품을 구매할 때 어느 정도의 분할 지불을 선호한다는 것을 보여줍니다.\n",
    "\t• perfumery (2.78), auto (2.09): 이 카테고리들도 중간 정도의 할부 횟수를 보입니다. 특히 향수(perfumery)와 자동차 관련 상품(auto)도 일정 수준의 할부를 통해 구매된다는 것을 알 수 있습니다.\n",
    "\t3. 낮은 할부 횟수:\n",
    "\t• stationery (1.10), housewares (1.25), telephony (1.74): 문구류, 가정용품, 전화기 관련 제품들은 평균적으로 낮은 할부 횟수를 보입니다. 이는 이들 제품이 비교적 저렴하거나, 구매자들이 할부 대신 일시불로 지불하는 경우가 많다는 것을 시사합니다.\n",
    "\t• air_conditioning (0.00): 에어컨 관련 카테고리의 경우, 할부가 전혀 선택되지 않았습니다. 이는 이 데이터셋에서 해당 제품이 매우 적거나, 일시불로 지불된다는 것을 의미할 수 있습니다.\n",
    "\n",
    "결론:\n",
    "\n",
    "이 결과는 카테고리별로 할부 지불 방식이 다르며, 고가의 상품일수록 할부 횟수가 높아지는 경향이 있음을 보여줍니다. 반면, 저렴하거나 상대적으로 일상적인 제품들은 대부분 낮은 할부 횟수로 구매되거나 일시불로 처리됩니다. 이는 고객의 구매 패턴과 선호도를 파악하는 데 유용한 정보입니다.\n",
    "```"
   ]
  },
  {
   "cell_type": "markdown",
   "metadata": {},
   "source": [
    "***"
   ]
  },
  {
   "cell_type": "markdown",
   "metadata": {},
   "source": [
    "## 5. 데이터 정렬하기\n",
    "\n",
    "### 5.1 컬럼의 값에 대해 데이터 정렬하기\n",
    "\n",
    "💬 **Chat Prompt**\n",
    "> order_purchase_timestamp을 기준으로 오름차순 정렬을 수행해줘\n",
    "\n",
    "🤖 **GPT 출력: Message**"
   ]
  },
  {
   "cell_type": "markdown",
   "metadata": {},
   "source": [
    "```\n",
    "order_purchase_timestamp를 기준으로 오름차순 정렬을 수행한 결과, 가장 오래된 주문부터 순차적으로 정렬되었습니다. 상위 5개의 데이터는 다음과 같습니다:\n",
    "\n",
    "\t1. 2017.1.23 18:29 - furniture_decor 카테고리, boleto 결제, 할부 없음.\n",
    "\t2. 2017.1.30 10:47 - auto 카테고리, credit_card 결제, 할부 없음.\n",
    "\t3. 2017.1.31 17:40 - auto 카테고리, credit_card 결제, 1회 할부.\n",
    "\t4. 2017.10.1 20:04 - health_beauty 카테고리, credit_card 결제, 1회 할부.\n",
    "\t5. 2017.10.1 09:15 - auto 카테고리, boleto 결제, 1회 할부.\n",
    "\n",
    "이 데이터를 통해 시간 순서대로 주문 내역을 확인할 수 있습니다. \n",
    "```"
   ]
  },
  {
   "cell_type": "markdown",
   "metadata": {},
   "source": [
    "🤖 **GPT 출력: Code**"
   ]
  },
  {
   "cell_type": "code",
   "execution_count": 11,
   "metadata": {},
   "outputs": [
    {
     "name": "stdout",
     "output_type": "stream",
     "text": [
      "                             order_id                       customer_id  \\\n",
      "248  76c6e866289321a7c93b82b54852dc33  f54a9f0e6b351c431402b8461ea51999   \n",
      "189  9559e0b00c67d159a266152428f85615  c3498e41d1549d56c4cbde7cbfdabeb3   \n",
      "244  35aa6b03b34d8d0a5c1eaae2bb5fcf76  18f5e4ab94b6b5fdcf32dade57defe50   \n",
      "511  80dabd6ee5b0e0d7d5672d511ca8cc7e  fbea4ed949b70f597425d14164f82851   \n",
      "247  3389e2333066b728a245423a73f3f82c  45c155ac404d868fd8f1d07e8cd916c3   \n",
      "\n",
      "    order_status order_purchase_timestamp product_category payment_method  \\\n",
      "248    delivered          2017.1.23 18:29  furniture_decor         boleto   \n",
      "189    delivered          2017.1.30 10:47             auto    credit_card   \n",
      "244    delivered          2017.1.31 17:40             auto    credit_card   \n",
      "511    delivered          2017.10.1 20:04    health_beauty    credit_card   \n",
      "247    delivered           2017.10.1 9:15             auto         boleto   \n",
      "\n",
      "     installments  item_price_usd  shipping_cost_usd  \n",
      "248             0          3.7810             3.0495  \n",
      "189             0         28.1010             3.4200  \n",
      "244             1          9.4981             2.7588  \n",
      "511             1         17.0981             3.1141  \n",
      "247             1             NaN             2.8690  \n"
     ]
    }
   ],
   "source": [
    "# order_purchase_timestamp을 기준으로 오름차순 정렬 수행\n",
    "data_sorted_by_timestamp = data.sort_values(by='order_purchase_timestamp', ascending=True)\n",
    "\n",
    "# 정렬된 데이터 확인 (상위 5개)\n",
    "print(data_sorted_by_timestamp.head())"
   ]
  },
  {
   "cell_type": "markdown",
   "metadata": {},
   "source": [
    "📌 **더 알아보기**\n",
    "\n",
    "- 정렬을 수행한 후에는 인덱스가 섞인 상태\n",
    "- 인덱스가 섞이면 추후 분석과정에서 오류가 발생할 수 있으므로 인덱스 또한 정렬이 필요\n",
    "- 이때, 값은 건들이지 않고 인덱스만을 정렬함\n",
    "\n",
    "💬 **Chat Prompt**\n",
    "> 인덱스를 정렬해주고, 과거의 인덱스는 버려줘\n",
    "\n",
    "🤖 **GPT 출력: Message**"
   ]
  },
  {
   "cell_type": "markdown",
   "metadata": {},
   "source": [
    "```\n",
    "이제 데이터는 order_purchase_timestamp를 기준으로 오름차순 정렬되었으며, 인덱스도 새로운 순서에 맞게 재설정되었습니다. \n",
    "과거의 인덱스는 제거되었으며, 현재 데이터는 정렬된 순서에 맞는 새로운 인덱스를 가지고 있습니다.\n",
    "```"
   ]
  },
  {
   "cell_type": "markdown",
   "metadata": {},
   "source": [
    "🤖 **GPT 출력: Code**"
   ]
  },
  {
   "cell_type": "code",
   "execution_count": 12,
   "metadata": {},
   "outputs": [
    {
     "name": "stdout",
     "output_type": "stream",
     "text": [
      "                           order_id                       customer_id  \\\n",
      "0  76c6e866289321a7c93b82b54852dc33  f54a9f0e6b351c431402b8461ea51999   \n",
      "1  9559e0b00c67d159a266152428f85615  c3498e41d1549d56c4cbde7cbfdabeb3   \n",
      "2  35aa6b03b34d8d0a5c1eaae2bb5fcf76  18f5e4ab94b6b5fdcf32dade57defe50   \n",
      "3  80dabd6ee5b0e0d7d5672d511ca8cc7e  fbea4ed949b70f597425d14164f82851   \n",
      "4  3389e2333066b728a245423a73f3f82c  45c155ac404d868fd8f1d07e8cd916c3   \n",
      "\n",
      "  order_status order_purchase_timestamp product_category payment_method  \\\n",
      "0    delivered          2017.1.23 18:29  furniture_decor         boleto   \n",
      "1    delivered          2017.1.30 10:47             auto    credit_card   \n",
      "2    delivered          2017.1.31 17:40             auto    credit_card   \n",
      "3    delivered          2017.10.1 20:04    health_beauty    credit_card   \n",
      "4    delivered           2017.10.1 9:15             auto         boleto   \n",
      "\n",
      "   installments  item_price_usd  shipping_cost_usd  \n",
      "0             0          3.7810             3.0495  \n",
      "1             0         28.1010             3.4200  \n",
      "2             1          9.4981             2.7588  \n",
      "3             1         17.0981             3.1141  \n",
      "4             1             NaN             2.8690  \n"
     ]
    }
   ],
   "source": [
    "# 인덱스를 정렬된 데이터의 순서에 맞게 재설정하고, 이전 인덱스는 제거\n",
    "data_sorted_by_timestamp.reset_index(drop=True, inplace=True)\n",
    "\n",
    "# 재설정된 인덱스를 가진 데이터 확인 (상위 5개)\n",
    "print(data_sorted_by_timestamp.head())"
   ]
  },
  {
   "cell_type": "markdown",
   "metadata": {},
   "source": [
    "***"
   ]
  },
  {
   "cell_type": "markdown",
   "metadata": {},
   "source": [
    "## 6. DataFrame에 함수 적용하기\n",
    "\n",
    "Apply와 Map 함수를 사용하여 데이터의 행 또는 열에 자유롭게 함수를 적용하고 값을 변경할 수 있습니다.\n",
    "\n",
    "- apply/ map 둘 다 동일한 기능 수행\n",
    "- 데이터프레임에 행 또는 열 방향으로 지정한 함수 실행\n",
    "\n",
    "🔥 **꿀팁**\n",
    "- lambda는 apply를 시작할 때 \"lambda 뒤에 오는 변수를 가지고 수행할거야!\"라는 뜻\n",
    "- 이 변수는 하나의 컬럼일 수도 있고 여러 컬럼일 수 도 있으며 다양한 처리를 수행할 수 있음\n",
    "- 대상이 여러 컬럼일 경우 axis=1를 꼭 명시해야함\n",
    "\n",
    "### 6.1 하나의 컬럼에 대한 수행\n",
    "\n",
    "💬 **Chat Prompt**\n",
    "\n",
    "\n",
    "> 데이터프레임에 installment_divide라는 컬럼을 추가해줘 <br>\n",
    "> installment_divide라는 installment 컬럼을 12로 나눈 값이야, apply를 적용해서 수행해줘\n",
    "\n",
    "🤖 **GPT 출력: Message**"
   ]
  },
  {
   "cell_type": "markdown",
   "metadata": {},
   "source": [
    "```\n",
    "데이터프레임에 installment_divide라는 컬럼이 추가되었으며, installments 컬럼의 값을 12로 나눈 결과가 해당 컬럼에 저장되었습니다.\n",
    "예를 들어, installments 값이 1인 경우 installment_divide 값은 0.0833입니다.\n",
    "```"
   ]
  },
  {
   "cell_type": "markdown",
   "metadata": {},
   "source": [
    "🤖 **GPT 출력: Code**"
   ]
  },
  {
   "cell_type": "code",
   "execution_count": 13,
   "metadata": {},
   "outputs": [
    {
     "name": "stdout",
     "output_type": "stream",
     "text": [
      "   installments  installment_divide\n",
      "0             0            0.000000\n",
      "1             0            0.000000\n",
      "2             1            0.083333\n",
      "3             1            0.083333\n",
      "4             1            0.083333\n"
     ]
    }
   ],
   "source": [
    "# installment_divide라는 컬럼을 추가하여 installments 컬럼의 값을 12로 나눈 값을 할당\n",
    "data_sorted_by_timestamp['installment_divide'] = data_sorted_by_timestamp['installments'].apply(lambda x: x / 12)\n",
    "\n",
    "# 추가된 컬럼 확인 (상위 5개)\n",
    "print(data_sorted_by_timestamp[['installments', 'installment_divide']].head())"
   ]
  },
  {
   "cell_type": "markdown",
   "metadata": {},
   "source": [
    "### 6.2 여러 컬럼에 대한 수행\n",
    "\n",
    "💬 **Chat Prompt**\n",
    "> 데이터 프레임에 monthly_price 컬럼을 만들어줘 <br>\n",
    "> installment_divide 컬럼과 item_price_usd를 곱한 값이야, apply를 적용해서 수행해줘\n",
    "\n",
    "🤖 **GPT 출력: Message**"
   ]
  },
  {
   "cell_type": "markdown",
   "metadata": {},
   "source": [
    "```\n",
    "데이터프레임에 monthly_price라는 컬럼이 추가되었습니다. 이 컬럼은 installment_divide와 item_price_usd를 곱한 값으로 계산되었습니다. 예를 들어, installments 값이 1이고 item_price_usd가 9.4981인 경우 monthly_price 값은 0.791508입니다.\n",
    "\n",
    "이제 각 상품의 할부 금액에 해당하는 월별 가격을 확인할 수 있습니다.\n",
    "```"
   ]
  },
  {
   "cell_type": "markdown",
   "metadata": {},
   "source": [
    "🤖 **GPT 출력: Code**"
   ]
  },
  {
   "cell_type": "code",
   "execution_count": 14,
   "metadata": {},
   "outputs": [
    {
     "name": "stdout",
     "output_type": "stream",
     "text": [
      "   installment_divide  item_price_usd  monthly_price\n",
      "0            0.000000          3.7810       0.000000\n",
      "1            0.000000         28.1010       0.000000\n",
      "2            0.083333          9.4981       0.791508\n",
      "3            0.083333         17.0981       1.424842\n",
      "4            0.083333             NaN            NaN\n"
     ]
    }
   ],
   "source": [
    "# monthly_price 컬럼을 추가하여 installment_divide와 item_price_usd를 곱한 값을 할당\n",
    "data_sorted_by_timestamp['monthly_price'] = data_sorted_by_timestamp.apply(\n",
    "    lambda row: row['installment_divide'] * row['item_price_usd'], axis=1\n",
    ")\n",
    "\n",
    "# 추가된 컬럼 확인 (상위 5개)\n",
    "print(data_sorted_by_timestamp[['installment_divide', 'item_price_usd', 'monthly_price']].head())"
   ]
  },
  {
   "cell_type": "markdown",
   "metadata": {},
   "source": [
    "***\n",
    "\n",
    "## 7. 데이터 저장\n",
    "\n",
    "💬 **Chat Prompt**\n",
    "\n",
    "\n",
    "> 현재까지 만들어진 데이터를 다운로드 받을 수 있는 링크를 만들어줘\n",
    "\n",
    "\n",
    "🤖 **GPT 출력: Message**\n",
    "\n",
    "```\n",
    "데이터를 다운로드할 수 있는 링크를 생성했습니다. 아래 링크를 클릭하여 데이터를 다운로드할 수 있습니다:\n",
    "\n",
    "다운로드 링크 ￼\n",
    "```"
   ]
  }
 ],
 "metadata": {
  "kernelspec": {
   "display_name": "ml",
   "language": "python",
   "name": "python3"
  },
  "language_info": {
   "codemirror_mode": {
    "name": "ipython",
    "version": 3
   },
   "file_extension": ".py",
   "mimetype": "text/x-python",
   "name": "python",
   "nbconvert_exporter": "python",
   "pygments_lexer": "ipython3",
   "version": "3.9.16"
  }
 },
 "nbformat": 4,
 "nbformat_minor": 2
}
