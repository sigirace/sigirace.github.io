{
 "cells": [
  {
   "cell_type": "markdown",
   "metadata": {},
   "source": [
    "## 1 Pandas 데이터 구조\n",
    "\n",
    "- Pandas에서 제공하는 데이터 구조는 Series와 DataFrame이 있음\n",
    "\n",
    "### 1.1 Series\n",
    "\n",
    "- 각 값에 `라벨(인덱스)`이 있고 `하나의 데이터 형식`으로 이루어진 `1차원 배열`\n",
    "- `라벨`로 데이터에 접근 할 수 있음\n",
    "\n",
    "### 1.2 DataFrame\n",
    "\n",
    "- 행과 열에 라벨이 있는 2차원 배열 ☞ Excel\n",
    "- 각 `열`은 `서로 다른 데이터 타입`을 지닐 수 있음\n",
    "\n",
    "<p align=\"center\"><img src=\"https://github.com/sigirace/page-images/blob/main/kang_lectures/python_preprocessing/s_p.png?raw=true\" width=\"600\" height=\"300\"></p>\n",
    "\n",
    "***\n",
    "\n",
    "## 2 DataFrame 기본\n",
    "\n",
    "Pandas의 DataFrame을 사용하여 분석하기 위한 가장 첫 단계는 데이터를 `호출`하고 데이터의 내용과 `요약`, `통계정보`를 확인하는 것입니다. 데이터나 분석 도구에 따라 컬럼명이나 컬럼의 타입을 변경해야 할 때도 있습니다.\n",
    "\n",
    "### 2.1 Pandas 사용 준비\n",
    "\n",
    "🧑‍💻: olist 구매 기록 데이터를 chat gpt에 업로드 해주세요!\n",
    "\n",
    "🔗 **실습 데이터**\n",
    "\n",
    "- 💾 [olist 구매기록 데이터]()\n",
    "\n",
    "💬 **Chat Prompt**\n",
    "\n",
    "> 제시한 데이터는 이커머스회사 olist의 구매기록 데이터이다. 이 데이터의 컬럼을 살펴보고 설명해라. 모든 과정에서 설명시 한국어를 사용하라.\n",
    "\n",
    "🤖 **GPT 출력: message**"
   ]
  },
  {
   "cell_type": "markdown",
   "metadata": {},
   "source": [
    "✏️ 붙여넣기"
   ]
  },
  {
   "cell_type": "markdown",
   "metadata": {},
   "source": [
    "🤖 **GPT 출력:Code**"
   ]
  },
  {
   "cell_type": "code",
   "execution_count": null,
   "metadata": {},
   "outputs": [],
   "source": [
    "'''\n",
    "✏️ 붙여넣기\n",
    "'''"
   ]
  },
  {
   "cell_type": "markdown",
   "metadata": {},
   "source": [
    "### 2.2 DataFrame 출력하기\n",
    "\n",
    "- `head()`, `tail()` 함수를 사용해 데이터를 부분적으로 확인\n",
    "- 함수의 인자로 아무 숫자도 지정하지 않으면 컬럼명을 포함하여 6줄을 출력\n",
    "\n",
    "💥 **MISSION**\n",
    "\n",
    "> Dataframe의 `head()`와 `tail()` 사용해보기"
   ]
  },
  {
   "cell_type": "code",
   "execution_count": null,
   "metadata": {},
   "outputs": [],
   "source": [
    "'''\n",
    "✏️ 붙여넣기\n",
    "'''"
   ]
  },
  {
   "cell_type": "markdown",
   "metadata": {},
   "source": [
    "### 2.3 데이터 타입 확인하기\n",
    "\n",
    "- `object`: 문자열\n",
    "- `int`, `float`, `decimal` ..: 숫자형\n",
    "- `bool`: 불리안\n",
    "\n",
    "💬 **Chat Prompt**\n",
    "> 제시한 데이터에서 컬럼들의 타입을 알려줘\n",
    "\n",
    "🤖 **GPT 출력: Message**"
   ]
  },
  {
   "cell_type": "markdown",
   "metadata": {},
   "source": [
    "✏️ 붙여넣기"
   ]
  },
  {
   "cell_type": "markdown",
   "metadata": {},
   "source": [
    "🤖 **GPT 출력: Code**"
   ]
  },
  {
   "cell_type": "code",
   "execution_count": null,
   "metadata": {},
   "outputs": [],
   "source": [
    "'''\n",
    "✏️ 붙여넣기\n",
    "'''"
   ]
  },
  {
   "cell_type": "markdown",
   "metadata": {},
   "source": [
    "### 2.4 데이터 타입 변경하기\n",
    "\n",
    "🧑‍💻: 구매 빈도는 정수여야 할 것 같습니다. 데이터의 타입을 변경하도록 해볼까요?\n",
    "\n",
    "💬 **Chat Prompt**\n",
    "> installments의 컬럼을 정수형으로 변경해줘\n",
    "\n",
    "🤖 **GPT 출력: Message**"
   ]
  },
  {
   "cell_type": "markdown",
   "metadata": {},
   "source": [
    "✏️ 붙여넣기"
   ]
  },
  {
   "cell_type": "markdown",
   "metadata": {},
   "source": [
    "🤖 **GPT 출력: Code**"
   ]
  },
  {
   "cell_type": "code",
   "execution_count": null,
   "metadata": {},
   "outputs": [],
   "source": [
    "'''\n",
    "✏️ 붙여넣기\n",
    "'''"
   ]
  },
  {
   "cell_type": "markdown",
   "metadata": {},
   "source": [
    "📌  **더 알아보기**\n",
    "\n",
    "- 데이터 타입을 변경하는 것은 `전처리`의 영역에 속함"
   ]
  },
  {
   "cell_type": "markdown",
   "metadata": {},
   "source": [
    "### 2.5 데이터의 자료형태 확인하기\n",
    "\n",
    "- 데이터의 자료형태는 `시각화`, `전처리` 그리고 `분석` 시 모두 중요하게 적용되는 개념\n",
    "- 각 형태에 따라 다른 기법이 사용됨\n",
    "\n",
    "<p align=\"center\"><img src=\"https://github.com/sigirace/page-images/blob/main/kang_lectures/gpt_ada/data_type.png?raw=true\" width=\"600\" height=\"300\"></p>\n",
    "\n",
    "\n",
    "| 분류       | 상세 분류  | 설명                                     | **예시**                                              |\n",
    "| ---------- | ---------- | ---------------------------------------- | ----------------------------------------------------- |\n",
    "| **범주형** |            | 몇 개의 범주로 나누어진 자료를 의미      |                                                       |\n",
    "|            | **명목형** | 순서 관계가 없는 자료                    | 성별(남성, 여성), 혈액형(A형, B형, O형, AB형 등)      |\n",
    "|            | **순서형** | 순서 관계가 존재하는 자료                | 교육 수준(고졸, 대졸, 석사 등), 등급(1등급, 2등급 등) |\n",
    "| **수치형** |            | 이산형과 연속형으로 이루어진 자료를 의미 |                                                       |\n",
    "|            | **이산형** | 구분된 값을 가짐                         | 출산 횟수, 방문 횟수                                  |\n",
    "|            | **연속형** | 연속적인 값을 가짐                       | 신장, 체중, 온도                                      |\n"
   ]
  },
  {
   "cell_type": "markdown",
   "metadata": {},
   "source": [
    "💬 **Chat Prompt**\n",
    "> 제시한 데이터에서 컬럼을 수치형, 범주형으로 구분하여 알려주고 리스트에 저장해줘\n",
    "\n",
    "🤖 **GPT 출력: Message**"
   ]
  },
  {
   "cell_type": "markdown",
   "metadata": {},
   "source": [
    "✏️ 붙여넣기"
   ]
  },
  {
   "cell_type": "markdown",
   "metadata": {},
   "source": [
    "🤖 **GPT 출력:Code**"
   ]
  },
  {
   "cell_type": "code",
   "execution_count": null,
   "metadata": {},
   "outputs": [],
   "source": [
    "'''\n",
    "✏️ 붙여넣기\n",
    "'''"
   ]
  },
  {
   "cell_type": "markdown",
   "metadata": {},
   "source": [
    "### 2.6 DataFrame 요약 및 통계 확인하기\n",
    "\n",
    "- 데이터의 내용을 확인했다면 그 이후에 데이터프레임의 요약, 통계정보를 확인함\n",
    "- `info()` 함수를 통해 `총 데이터의 건수`, `각 컬럼의 데이터 형식` 그리고 `결측치의 건수`를 확인할 수 있음\n",
    "- 수치형 컬럼이 존재하는 경우 `describe()`함수를 사용하여 수치형 컬럼들의 `n-percentile` 분포도, 평균값, 최대값, 최소값을 확인할 수 있음\n",
    "- 이러한 과정은 `EDA`에 속함\n",
    "\n",
    "\n",
    "💬 **Chat Prompt**\n",
    "\n",
    "```\n",
    "제시한 데이터의 요약 및 통계정보를 확인해줘\n",
    "```\n",
    "\n",
    "🤖 **GPT 출력: Message**"
   ]
  },
  {
   "cell_type": "markdown",
   "metadata": {},
   "source": [
    "✏️ 붙여넣기"
   ]
  },
  {
   "cell_type": "markdown",
   "metadata": {},
   "source": [
    "🤖 **GPT 출력: Code**"
   ]
  },
  {
   "cell_type": "code",
   "execution_count": null,
   "metadata": {},
   "outputs": [],
   "source": [
    "'''\n",
    "✏️ 붙여넣기\n",
    "'''"
   ]
  },
  {
   "cell_type": "markdown",
   "metadata": {},
   "source": [
    "💬 **Chat Prompt**\n",
    "> 범주형 데이터의 고유값에 대해 설명해줘, 단, ID값과 날짜는 제외하고 알려줘\n",
    "\n",
    "🤖 **GPT 출력: Message**"
   ]
  },
  {
   "cell_type": "markdown",
   "metadata": {},
   "source": [
    "✏️ 붙여넣기"
   ]
  },
  {
   "cell_type": "markdown",
   "metadata": {},
   "source": [
    "📌 **더 알아보기**\n",
    "\n",
    "- 데이터 `요약`, `통계정보`를 통해 `이상치` 및 `결측치`에 대한 처리를 어떻게 해야할지 대략적인 감을 잡을 수 있음\n",
    "\n",
    "***"
   ]
  },
  {
   "cell_type": "markdown",
   "metadata": {},
   "source": [
    "## 3. 조건에 맞는 데이터 탐색\n",
    "\n",
    "### 3.1 단일 조건으로 데이터 탐색\n",
    "\n",
    "💬 **Chat Prompt**\n",
    "> 제시한 데이터에서 제품 카테고리가 장난감인 것들만 탐색해줘\n",
    "\n",
    "🤖 **GPT 출력: Code**"
   ]
  },
  {
   "cell_type": "code",
   "execution_count": null,
   "metadata": {},
   "outputs": [],
   "source": [
    "'''\n",
    "✏️ 붙여넣기\n",
    "'''"
   ]
  },
  {
   "cell_type": "markdown",
   "metadata": {},
   "source": [
    "### 3.2 다중 조건으로 데이터 탐색\n",
    "\n",
    "💬 **Chat Prompt**\n",
    "> 제시한 데이터에서 product_category가 장난감이고 installments이 평균 이상인 것들만 탐색해줘\n",
    "\n",
    "🤖 **GPT 출력: Code**"
   ]
  },
  {
   "cell_type": "code",
   "execution_count": null,
   "metadata": {},
   "outputs": [],
   "source": [
    "'''\n",
    "✏️ 붙여넣기\n",
    "'''"
   ]
  },
  {
   "cell_type": "markdown",
   "metadata": {},
   "source": [
    "## 4. 데이터 요약\n",
    "\n",
    "데이터를 요약하여 원하는 정보를 얻는 것은 데이터가 지닌 값의 특징을 알게 해줍니다. 이와 비슷한 것을 2장에서 수행해보았는데, 이번 장에서는 세부적으로 데이터를 요약하여 집계하는 방법을 알아보겠습니다.\n",
    "\n",
    "### 4.1 그룹화 집계\n",
    "\n",
    "👀 **Definition**\n",
    "> 그룹화는 하나 이상의 데이터를 조건에 따라 여러개 그룹으로 묶는 것\n",
    "\n",
    "- groupby() 함수를 사용함\n",
    "\n",
    "📌 **groupby**\n",
    "\n",
    "> DataFrame.groupby(by=None, axis=0, sort=False, dropna=True).FUN()\n",
    "\n",
    "- by: 그룹을 결정하는 데 사용\n",
    "- axis: 행(0)과 열(1) 지정c\n",
    "- sort: 집계된 내용을 정렬할지 여부\n",
    "- dropna: True이면 결측값이 행/열과 함께 삭제, False이면 결측값도 그룹의 키로 처리\n",
    "- FUN: 집계함수\n",
    "\n",
    "🔥 **집계함수**\n",
    "\n",
    "- count(): 값의 개수\n",
    "- sum(): 값들의 합\n",
    "- std(): 표준편차\n",
    "- var(): 분산\n",
    "- min(): 최솟값\n",
    "- max(): 최대값\n",
    "- mean(): 평균값\n",
    "- median(): 중앙값\n",
    "\n",
    "🧑‍💻: product_category 별로 다양한 집계를 수행해 봅니다.\n",
    "\n",
    "💬 **Chat Prompt**\n",
    "\n",
    "> product_category 값을 기준으로 집계 함수 count를 수행해줘\n",
    "\n",
    "🤖 **GPT 출력: Message**"
   ]
  },
  {
   "cell_type": "markdown",
   "metadata": {},
   "source": [
    "✏️ 붙여넣기"
   ]
  },
  {
   "cell_type": "markdown",
   "metadata": {},
   "source": [
    "🤖 **GPT 출력: Code**"
   ]
  },
  {
   "cell_type": "code",
   "execution_count": null,
   "metadata": {},
   "outputs": [],
   "source": [
    "'''\n",
    "✏️ 붙여넣기\n",
    "'''"
   ]
  },
  {
   "cell_type": "markdown",
   "metadata": {},
   "source": [
    "💬 **Chat Prompt**\n",
    "> product_category 값을 기준으로 installments의 평균을 구해줘 (집계함수 mean 적용)\n",
    "\n",
    "🤖 **GPT 출력: Message**"
   ]
  },
  {
   "cell_type": "markdown",
   "metadata": {},
   "source": [
    "✏️ 붙여넣기"
   ]
  },
  {
   "cell_type": "markdown",
   "metadata": {},
   "source": [
    "🤖 **GPT 출력: Code**"
   ]
  },
  {
   "cell_type": "code",
   "execution_count": null,
   "metadata": {},
   "outputs": [],
   "source": [
    "'''\n",
    "✏️ 붙여넣기\n",
    "'''"
   ]
  },
  {
   "cell_type": "markdown",
   "metadata": {},
   "source": [
    "💬 **Chat Prompt**\n",
    "> 집계 함수로 구한 product_category 값을 기준으로 installments의 평균에 대해 결과를 해석해서 설명해줘\n",
    "\n",
    "🤖 **GPT 출력: Message**"
   ]
  },
  {
   "cell_type": "markdown",
   "metadata": {},
   "source": [
    "✏️ 붙여넣기"
   ]
  },
  {
   "cell_type": "markdown",
   "metadata": {},
   "source": [
    "***"
   ]
  },
  {
   "cell_type": "markdown",
   "metadata": {},
   "source": [
    "## 5. 데이터 정렬하기\n",
    "\n",
    "### 5.1 컬럼의 값에 대해 데이터 정렬하기\n",
    "\n",
    "💬 **Chat Prompt**\n",
    "> order_purchase_timestamp을 기준으로 오름차순 정렬을 수행해줘\n",
    "\n",
    "🤖 **GPT 출력: Message**"
   ]
  },
  {
   "cell_type": "markdown",
   "metadata": {},
   "source": [
    "✏️ 붙여넣기"
   ]
  },
  {
   "cell_type": "markdown",
   "metadata": {},
   "source": [
    "🤖 **GPT 출력: Code**"
   ]
  },
  {
   "cell_type": "code",
   "execution_count": null,
   "metadata": {},
   "outputs": [],
   "source": [
    "'''\n",
    "✏️ 붙여넣기\n",
    "'''"
   ]
  },
  {
   "cell_type": "markdown",
   "metadata": {},
   "source": [
    "📌 **더 알아보기**\n",
    "\n",
    "- 정렬을 수행한 후에는 인덱스가 섞인 상태\n",
    "- 인덱스가 섞이면 추후 분석과정에서 오류가 발생할 수 있으므로 인덱스 또한 정렬이 필요\n",
    "- 이때, 값은 건들이지 않고 인덱스만을 정렬함\n",
    "\n",
    "💬 **Chat Prompt**\n",
    "> 인덱스를 정렬해주고, 과거의 인덱스는 버려줘\n",
    "\n",
    "🤖 **GPT 출력: Message**"
   ]
  },
  {
   "cell_type": "markdown",
   "metadata": {},
   "source": [
    "✏️ 붙여넣기"
   ]
  },
  {
   "cell_type": "markdown",
   "metadata": {},
   "source": [
    "🤖 **GPT 출력: Code**"
   ]
  },
  {
   "cell_type": "code",
   "execution_count": null,
   "metadata": {},
   "outputs": [],
   "source": [
    "'''\n",
    "✏️ 붙여넣기\n",
    "'''"
   ]
  },
  {
   "cell_type": "markdown",
   "metadata": {},
   "source": [
    "***"
   ]
  },
  {
   "cell_type": "markdown",
   "metadata": {},
   "source": [
    "## 6. DataFrame에 함수 적용하기\n",
    "\n",
    "Apply와 Map 함수를 사용하여 데이터의 행 또는 열에 자유롭게 함수를 적용하고 값을 변경할 수 있습니다.\n",
    "\n",
    "- apply/ map 둘 다 동일한 기능 수행\n",
    "- 데이터프레임에 행 또는 열 방향으로 지정한 함수 실행\n",
    "\n",
    "🔥 **꿀팁**\n",
    "- lambda는 apply를 시작할 때 \"lambda 뒤에 오는 변수를 가지고 수행할거야!\"라는 뜻\n",
    "- 이 변수는 하나의 컬럼일 수도 있고 여러 컬럼일 수 도 있으며 다양한 처리를 수행할 수 있음\n",
    "- 대상이 여러 컬럼일 경우 axis=1를 꼭 명시해야함\n",
    "\n",
    "### 6.1 하나의 컬럼에 대한 수행\n",
    "\n",
    "💬 **Chat Prompt**\n",
    "\n",
    "\n",
    "> 데이터프레임에 installment_divide라는 컬럼을 추가해줘 <br>\n",
    "> installment_divide라는 installment 컬럼을 12로 나눈 값이야, apply를 적용해서 수행해줘\n",
    "\n",
    "🤖 **GPT 출력: Message**"
   ]
  },
  {
   "cell_type": "markdown",
   "metadata": {},
   "source": [
    "✏️ 붙여넣기"
   ]
  },
  {
   "cell_type": "markdown",
   "metadata": {},
   "source": [
    "🤖 **GPT 출력: Code**"
   ]
  },
  {
   "cell_type": "code",
   "execution_count": null,
   "metadata": {},
   "outputs": [],
   "source": [
    "'''\n",
    "✏️ 붙여넣기\n",
    "'''"
   ]
  },
  {
   "cell_type": "markdown",
   "metadata": {},
   "source": [
    "### 6.2 여러 컬럼에 대한 수행\n",
    "\n",
    "💬 **Chat Prompt**\n",
    "> 데이터 프레임에 monthly_price 컬럼을 만들어줘 <br>\n",
    "> installment_divide 컬럼과 item_price_usd를 곱한 값이야, apply를 적용해서 수행해줘\n",
    "\n",
    "🤖 **GPT 출력: Message**"
   ]
  },
  {
   "cell_type": "markdown",
   "metadata": {},
   "source": [
    "✏️ 붙여넣기"
   ]
  },
  {
   "cell_type": "markdown",
   "metadata": {},
   "source": [
    "🤖 **GPT 출력: Code**"
   ]
  },
  {
   "cell_type": "code",
   "execution_count": null,
   "metadata": {},
   "outputs": [],
   "source": [
    "'''\n",
    "✏️ 붙여넣기\n",
    "'''"
   ]
  },
  {
   "cell_type": "markdown",
   "metadata": {},
   "source": [
    "***\n",
    "\n",
    "## 7. 데이터 저장\n",
    "\n",
    "💬 **Chat Prompt**\n",
    "\n",
    "\n",
    "> 현재까지 만들어진 데이터를 다운로드 받을 수 있는 링크를 만들어줘\n",
    "\n",
    "\n",
    "🤖 **GPT 출력: Message**\n",
    "\n",
    "```\n",
    "데이터를 다운로드할 수 있는 링크를 생성했습니다. 아래 링크를 클릭하여 데이터를 다운로드할 수 있습니다:\n",
    "\n",
    "다운로드 링크 ￼\n",
    "```"
   ]
  }
 ],
 "metadata": {
  "kernelspec": {
   "display_name": "ml",
   "language": "python",
   "name": "python3"
  },
  "language_info": {
   "codemirror_mode": {
    "name": "ipython",
    "version": 3
   },
   "file_extension": ".py",
   "mimetype": "text/x-python",
   "name": "python",
   "nbconvert_exporter": "python",
   "pygments_lexer": "ipython3",
   "version": "3.9.16"
  }
 },
 "nbformat": 4,
 "nbformat_minor": 2
}
