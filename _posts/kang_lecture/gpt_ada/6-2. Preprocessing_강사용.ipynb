{
 "cells": [
  {
   "cell_type": "markdown",
   "metadata": {},
   "source": [
    "# 5. 데이터 전처리\n",
    "\n",
    "앞서 데이터 전처리 과정 수행을 위해 시각화와 연계하여 데이터를 확인해야 한다고 하였습니다. 이번 장에서는 이전 확인하였던 olist 구매기록 데이터를 통해 데이터 전처리를 수행하도록 하겠습니다.\n",
    "\n",
    "🔗 **한국어 패치 다운로드**\n",
    "\n",
    "- 💾 [Korea matplotlib]()\n",
    "- 💾 [나눔고딕 폰트]()\n",
    "\n",
    "💬 **Chat Prompt**\n",
    "\n",
    "> 가상환경에 한국어를 사용할 수 있도록 whl 파일과 ttf 파일을 제공하였으니, 아래 과정을 수행하며 한국어 환경 설정 수행\n",
    ">\n",
    "> - Code interpreter로 제공한 파일들을 다운로드 및 수행\n",
    "> - 가상환경에 설치 및 한국어를 사용할 수 있도록 설정\n",
    "> - 설치 완료후 테스트 그래프 제시\n",
    "> - 모든 설명은 한국어로 진행\n",
    "\n",
    "🤖 **GPT 출력: Code**"
   ]
  },
  {
   "cell_type": "code",
   "execution_count": 2,
   "metadata": {},
   "outputs": [],
   "source": [
    "import matplotlib.font_manager as fm\n",
    "import matplotlib.pyplot as plt\n",
    "\n",
    "# 폰트 파일 경로\n",
    "font_path = '/Users/sigi/sigirace.github.io/_posts/kang_lecture/gpt_ada/data/NanumBarunGothic.ttf'\n",
    "\n",
    "# 폰트 등록\n",
    "fm.fontManager.addfont(font_path)\n",
    "\n",
    "# 한글 폰트 설정\n",
    "plt.rc('font', family='NanumBarunGothic')"
   ]
  },
  {
   "cell_type": "markdown",
   "metadata": {},
   "source": [
    "🧑‍💻: 앞서 저장하였던 데이터를 GPT에 업로드 해주세요!\n",
    "\n",
    "💬 **Chat Prompt**\n",
    "\n",
    "> 제시한 데이터는 이커머스회사 olist의 구매기록 데이터이다. 이 데이터의 컬럼을 살펴보고 설명해라. <br>\n",
    "> 단, 모든 과정에서 설명시 한국어를 사용하고, ace_tools는 사용하지 말아라\n",
    "\n",
    "🤖 **GPT 출력: Message**"
   ]
  },
  {
   "cell_type": "markdown",
   "metadata": {},
   "source": [
    "✏️ 붙여넣기"
   ]
  },
  {
   "cell_type": "markdown",
   "metadata": {},
   "source": [
    "🤖 **GPT 출력: Code**"
   ]
  },
  {
   "cell_type": "code",
   "execution_count": 3,
   "metadata": {},
   "outputs": [
    {
     "data": {
      "text/plain": [
       "Index(['order_id', 'customer_id', 'order_status', 'order_purchase_timestamp',\n",
       "       'product_category', 'payment_method', 'installments', 'item_price_usd',\n",
       "       'shipping_cost_usd', 'installment_divide', 'monthly_price'],\n",
       "      dtype='object')"
      ]
     },
     "execution_count": 3,
     "metadata": {},
     "output_type": "execute_result"
    }
   ],
   "source": [
    "import pandas as pd\n",
    "\n",
    "# 데이터 불러오기\n",
    "file_path = './data/olist_order_dataset_processed.csv'\n",
    "data = pd.read_csv(file_path)\n",
    "\n",
    "# 데이터의 컬럼을 살펴보기\n",
    "columns_info = data.columns\n",
    "columns_info"
   ]
  },
  {
   "cell_type": "markdown",
   "metadata": {},
   "source": [
    "🧑‍💻: 실습을 위해 앞서 데이터프레임에 함수를 적용하여 생성하였던 변수 2개를 삭제하겠습니다.\n",
    "\n",
    "💬 **Chat Prompt**\n",
    "> installment_divide, monthly_price 두 컬럼은 삭제해줘\n",
    "\n",
    "🤖 **GPT 출력: Message**"
   ]
  },
  {
   "cell_type": "markdown",
   "metadata": {},
   "source": [
    "✏️ 붙여넣기"
   ]
  },
  {
   "cell_type": "markdown",
   "metadata": {},
   "source": [
    "🤖 **GPT 출력: Code**"
   ]
  },
  {
   "cell_type": "code",
   "execution_count": 4,
   "metadata": {},
   "outputs": [
    {
     "data": {
      "text/plain": [
       "Index(['order_id', 'customer_id', 'order_status', 'order_purchase_timestamp',\n",
       "       'product_category', 'payment_method', 'installments', 'item_price_usd',\n",
       "       'shipping_cost_usd'],\n",
       "      dtype='object')"
      ]
     },
     "execution_count": 4,
     "metadata": {},
     "output_type": "execute_result"
    }
   ],
   "source": [
    "# 'installment_divide', 'monthly_price' 컬럼 삭제\n",
    "data = data.drop(columns=['installment_divide', 'monthly_price'])\n",
    "\n",
    "# 삭제 후 컬럼 목록 확인\n",
    "data.columns"
   ]
  },
  {
   "cell_type": "markdown",
   "metadata": {},
   "source": [
    "## 1. 결측치 탐색 및 처리\n",
    "\n",
    "데이터를 적재, 수집하는 과정에서 결측치가 발생할 수 있습니다. 결측치는 데이터 분석시 오류를 발생시키는 주요 원인이기 때문에 전처리 과정을 거쳐야 합니다.\n",
    "\n",
    "### 1.1 결측치 탐색\n",
    "\n",
    "💬 **Chat Prompt**\n",
    "> 데이터 셋에서 결측치를 확인해주고 컬럼별 결측치의 비율을 알려줘\n",
    "\n",
    "🤖 **GPT 출력: Message**"
   ]
  },
  {
   "cell_type": "markdown",
   "metadata": {},
   "source": [
    "✏️ 붙여넣기"
   ]
  },
  {
   "cell_type": "markdown",
   "metadata": {},
   "source": [
    "🤖 **GPT 출력: Code**"
   ]
  },
  {
   "cell_type": "code",
   "execution_count": 6,
   "metadata": {},
   "outputs": [
    {
     "name": "stdout",
     "output_type": "stream",
     "text": [
      "                          결측치 개수  결측치 비율 (%)\n",
      "order_id                       0    0.000000\n",
      "customer_id                    0    0.000000\n",
      "order_status                   0    0.000000\n",
      "order_purchase_timestamp       0    0.000000\n",
      "product_category               0    0.000000\n",
      "payment_method                 0    0.000000\n",
      "installments                   0    0.000000\n",
      "item_price_usd                99    9.929789\n",
      "shipping_cost_usd             99    9.929789\n"
     ]
    }
   ],
   "source": [
    "# 각 컬럼별 결측치 개수 확인\n",
    "missing_data = data.isnull().sum()\n",
    "\n",
    "# 각 컬럼별 결측치 비율 계산\n",
    "missing_data_percentage = (missing_data / len(data)) * 100\n",
    "\n",
    "# 결측치 개수와 비율을 데이터프레임으로 정리\n",
    "missing_data_summary = pd.DataFrame({\n",
    "    '결측치 개수': missing_data,\n",
    "    '결측치 비율 (%)': missing_data_percentage\n",
    "})\n",
    "\n",
    "print(missing_data_summary)"
   ]
  },
  {
   "cell_type": "markdown",
   "metadata": {},
   "source": [
    "💬 **Chat Prompt**\n",
    "> shipping_cost_usd 컬럼의 결측치는 삭제해줘\n",
    "\n",
    "🤖 **GPT 출력: Message**"
   ]
  },
  {
   "cell_type": "markdown",
   "metadata": {},
   "source": [
    "✏️ 붙여넣기"
   ]
  },
  {
   "cell_type": "markdown",
   "metadata": {},
   "source": [
    "🤖 **GPT 출력: Code**"
   ]
  },
  {
   "cell_type": "code",
   "execution_count": 7,
   "metadata": {},
   "outputs": [
    {
     "data": {
      "text/plain": [
       "(898, 9)"
      ]
     },
     "execution_count": 7,
     "metadata": {},
     "output_type": "execute_result"
    }
   ],
   "source": [
    "# shipping_cost_usd 컬럼에서 결측치가 있는 행을 삭제\n",
    "data_cleaned = data.dropna(subset=['shipping_cost_usd'])\n",
    "\n",
    "# 삭제 후 데이터프레임의 크기 확인\n",
    "data_cleaned.shape"
   ]
  },
  {
   "cell_type": "markdown",
   "metadata": {},
   "source": [
    "💬 **Chat Prompt**\n",
    "> item_price_usd의 결측치는 평균으로 대체해줘\n",
    "\n",
    "🤖 **GPT 출력: Message**"
   ]
  },
  {
   "cell_type": "markdown",
   "metadata": {},
   "source": [
    "✏️ 붙여넣기"
   ]
  },
  {
   "cell_type": "markdown",
   "metadata": {},
   "source": [
    "🤖 **GPT 출력: Code**"
   ]
  },
  {
   "cell_type": "code",
   "execution_count": 8,
   "metadata": {},
   "outputs": [
    {
     "name": "stderr",
     "output_type": "stream",
     "text": [
      "/var/folders/4r/gj4j8ny95v9bfz63ty96fm280000gn/T/ipykernel_94967/1189164055.py:3: SettingWithCopyWarning: \n",
      "A value is trying to be set on a copy of a slice from a DataFrame\n",
      "\n",
      "See the caveats in the documentation: https://pandas.pydata.org/pandas-docs/stable/user_guide/indexing.html#returning-a-view-versus-a-copy\n",
      "  data_cleaned['item_price_usd'].fillna(mean_item_price, inplace=True)\n"
     ]
    },
    {
     "data": {
      "text/plain": [
       "0"
      ]
     },
     "execution_count": 8,
     "metadata": {},
     "output_type": "execute_result"
    }
   ],
   "source": [
    "# item_price_usd 컬럼의 결측치를 평균 값으로 대체\n",
    "mean_item_price = data_cleaned['item_price_usd'].mean()\n",
    "data_cleaned['item_price_usd'].fillna(mean_item_price, inplace=True)\n",
    "\n",
    "# 결측치 대체 후 결측치 확인\n",
    "data_cleaned['item_price_usd'].isnull().sum()"
   ]
  },
  {
   "cell_type": "markdown",
   "metadata": {},
   "source": [
    "***\n",
    "\n",
    "## 2. 이상치 탐색 및 처리\n",
    "\n",
    "결측치가 발생하는 것과 동일한 이유로 이상치가 발생할 수 있습니다. 이상치는 데이터 분석시 해석의 신뢰성을 떨어뜨리는 주요 원인이기 때문에 전처리 과정을 거쳐야 합니다.\n",
    "\n",
    "📍 **이상치의 종류**\n",
    "\n",
    "<p align=\"center\"><img src=\"https://github.com/sigirace/page-images/blob/main/kang_lectures/python_preprocessing/outlier_type.png?raw=true\" width=\"400\" height=\"200\"></p>\n",
    "\n",
    "- 이상치는 측정의 변동성, 실험의 오류, 측정 장비의 이상 등으로 발생할 수 있음\n",
    "- 이상치는 분석 모델의 성능을 떨어뜨리거나 분석 결과에 악영향을 줄 수 있음 ☞ 제거 혹은 처리 필요\n",
    "\n",
    "### 2.1 이상치 탐색\n",
    "\n",
    "🧑‍💻: 먼저 데이터의 요약 통계 정보를 통해 이상치를 확인 해보겠습니다.\n",
    "\n",
    "💬 **Chat Prompt**\n",
    "> 제시한 데이터의 요약 통계 정보를 통해 이상치가 있는지 확인해줘\n",
    "\n",
    "🤖 **GPT 출력: Message**"
   ]
  },
  {
   "cell_type": "markdown",
   "metadata": {},
   "source": [
    "✏️ 붙여넣기"
   ]
  },
  {
   "cell_type": "markdown",
   "metadata": {},
   "source": [
    "🤖 **GPT 출력: Code**"
   ]
  },
  {
   "cell_type": "code",
   "execution_count": 4,
   "metadata": {},
   "outputs": [
    {
     "name": "stdout",
     "output_type": "stream",
     "text": [
      "       installments  item_price_usd  shipping_cost_usd\n",
      "count    997.000000      898.000000         898.000000\n",
      "mean       3.623872       29.099161         115.493469\n",
      "std       31.681427      333.614822        3336.873052\n",
      "min        0.000000        1.805000          -9.595000\n",
      "25%        1.000000       13.110000           2.464300\n",
      "50%        1.000000       17.098100           3.064700\n",
      "75%        4.000000       20.898100           5.169425\n",
      "max      999.000000     9999.000000       99999.000000\n"
     ]
    }
   ],
   "source": [
    "# 데이터의 요약 통계 정보 확인\n",
    "summary_stats = data.describe()\n",
    "\n",
    "# 요약 통계 정보 출력\n",
    "print(summary_stats)"
   ]
  },
  {
   "cell_type": "markdown",
   "metadata": {},
   "source": [
    "🧑‍💻: 이를 좀 더 시각화하여 판단하기 쉽도록 해보겠습니다.\n",
    "\n",
    "💬 **Chat Prompt**\n",
    "\n",
    "\n",
    "> 수치형 컬럼들에 대해서 개별적으로 box plot 시각화 수행\n",
    "> 단, box plot은 개별적으로 수행하 되, 하나의 그리드에 표현\n",
    "\n",
    "\n",
    "🤖 **GPT 출력: Message**"
   ]
  },
  {
   "cell_type": "markdown",
   "metadata": {},
   "source": [
    "✏️ 붙여넣기"
   ]
  },
  {
   "cell_type": "markdown",
   "metadata": {},
   "source": [
    "🤖 **GPT 출력: Code**"
   ]
  },
  {
   "cell_type": "code",
   "execution_count": 9,
   "metadata": {},
   "outputs": [
    {
     "data": {
      "image/png": "[encoded data removed]",
      "text/plain": [
       "<Figure size 1500x500 with 3 Axes>"
      ]
     },
     "metadata": {},
     "output_type": "display_data"
    }
   ],
   "source": [
    "import matplotlib.pyplot as plt\n",
    "\n",
    "# 수치형 컬럼들 선택\n",
    "numeric_columns = ['installments', 'item_price_usd', 'shipping_cost_usd']\n",
    "\n",
    "# Box plot 그리기\n",
    "plt.figure(figsize=(15, 5))\n",
    "\n",
    "for i, column in enumerate(numeric_columns, 1):\n",
    "    plt.subplot(1, 3, i)\n",
    "    plt.boxplot(data_cleaned[column])\n",
    "    plt.title(column)\n",
    "\n",
    "plt.tight_layout()\n",
    "plt.show()"
   ]
  },
  {
   "cell_type": "markdown",
   "metadata": {},
   "source": [
    "🧑‍💻: 극단적인 값이 있어 데이터를 파악하기 어려워 보입니다. 상위, 하위 3% 정도 제거하고 데이터를 확인해보겠습니다.\n",
    "\n",
    "💬 **Chat Prompt**\n",
    "\n",
    "> 제시한 데이터에서 각 컬럼별 상위, 하위 3% 정도 극단적인 값들을 제거해줘\n",
    "\n",
    "🤖 **GPT 출력: Message**"
   ]
  },
  {
   "cell_type": "markdown",
   "metadata": {},
   "source": [
    "✏️ 붙여넣기"
   ]
  },
  {
   "cell_type": "markdown",
   "metadata": {},
   "source": [
    "🤖 **GPT 출력: Code**"
   ]
  },
  {
   "cell_type": "code",
   "execution_count": 10,
   "metadata": {},
   "outputs": [
    {
     "name": "stdout",
     "output_type": "stream",
     "text": [
      "       installments  item_price_usd  shipping_cost_usd\n",
      "count    812.000000      812.000000         812.000000\n",
      "mean       2.695813       18.040812           3.925428\n",
      "std        2.849679        7.608777           2.072846\n",
      "min        0.000000        3.781000           1.485800\n",
      "25%        1.000000       15.198100           2.601100\n",
      "50%        1.000000       17.098100           3.101750\n",
      "75%        4.000000       22.420000           5.116225\n",
      "max       10.000000       34.008100           9.688100\n"
     ]
    }
   ],
   "source": [
    "# 각 컬럼별 상위, 하위 3% 극단적인 값들을 제거\n",
    "def remove_extreme_values(df, column, lower_percentile=0.03, upper_percentile=0.97):\n",
    "    lower_bound = df[column].quantile(lower_percentile)\n",
    "    upper_bound = df[column].quantile(upper_percentile)\n",
    "    return df[(df[column] >= lower_bound) & (df[column] <= upper_bound)]\n",
    "\n",
    "# 수치형 컬럼에 대해 극단적인 값 제거\n",
    "for column in numeric_columns:\n",
    "    data_cleaned = remove_extreme_values(data_cleaned, column)\n",
    "\n",
    "# 결과 데이터의 크기 확인\n",
    "print(data_cleaned.describe())"
   ]
  },
  {
   "cell_type": "markdown",
   "metadata": {},
   "source": [
    "💬 **Chat Prompt**\n",
    "> 수치형 컬럼들에 대해서 개별적으로 box plot 시각화 수행\n",
    ">\n",
    "> 단, box plot은 개별적으로 수행하 되, 하나의 그리드에 표현\n",
    "\n",
    "🤖 **GPT 출력: Message**"
   ]
  },
  {
   "cell_type": "markdown",
   "metadata": {},
   "source": [
    "✏️ 붙여넣기"
   ]
  },
  {
   "cell_type": "markdown",
   "metadata": {},
   "source": [
    "🤖 **GPT 출력: Code**"
   ]
  },
  {
   "cell_type": "code",
   "execution_count": 11,
   "metadata": {},
   "outputs": [
    {
     "data": {
      "image/png": "[encoded data removed]",
      "text/plain": [
       "<Figure size 1500x500 with 3 Axes>"
      ]
     },
     "metadata": {},
     "output_type": "display_data"
    }
   ],
   "source": [
    "# 극단적인 값 제거 후 수치형 컬럼들에 대한 Box Plot 시각화\n",
    "plt.figure(figsize=(15, 5))\n",
    "\n",
    "for i, column in enumerate(numeric_columns, 1):\n",
    "    plt.subplot(1, 3, i)\n",
    "    plt.boxplot(data_cleaned[column])\n",
    "    plt.title(column)\n",
    "\n",
    "plt.tight_layout()\n",
    "plt.show()"
   ]
  },
  {
   "cell_type": "markdown",
   "metadata": {},
   "source": [
    "🧑‍💻: 다른 변수에 비해 shipping_cost_usd에 outlier가 많은 것으로 보입니다. 이를 IQR 방식을 통해 제거해보겠습니다.\n",
    "\n",
    "💬 **Chat Prompt**\n",
    "> shipping_cost_usd 컬럼에 대해 IQR 방식으로 이상치를 탐색해줘\n",
    "\n",
    "🤖 **GPT 출력: Message**"
   ]
  },
  {
   "cell_type": "markdown",
   "metadata": {},
   "source": [
    "✏️ 붙여넣기"
   ]
  },
  {
   "cell_type": "markdown",
   "metadata": {},
   "source": [
    "🤖 **GPT 출력: Code**"
   ]
  },
  {
   "cell_type": "code",
   "execution_count": 12,
   "metadata": {},
   "outputs": [
    {
     "data": {
      "text/plain": [
       "(-1.1715874999999998, 8.8889125, 2.0935960591133003)"
      ]
     },
     "execution_count": 12,
     "metadata": {},
     "output_type": "execute_result"
    }
   ],
   "source": [
    "# IQR 방식으로 이상치 탐색\n",
    "Q1 = data_cleaned['shipping_cost_usd'].quantile(0.25)\n",
    "Q3 = data_cleaned['shipping_cost_usd'].quantile(0.75)\n",
    "IQR = Q3 - Q1\n",
    "\n",
    "lower_bound = Q1 - 1.5 * IQR\n",
    "upper_bound = Q3 + 1.5 * IQR\n",
    "\n",
    "# 이상치 탐색\n",
    "outliers = data_cleaned[(data_cleaned['shipping_cost_usd'] < lower_bound) | (data_cleaned['shipping_cost_usd'] > upper_bound)]\n",
    "\n",
    "# 이상치 비율 계산\n",
    "outliers_ratio = len(outliers) / len(data_cleaned) * 100\n",
    "\n",
    "lower_bound, upper_bound, outliers_ratio"
   ]
  },
  {
   "cell_type": "markdown",
   "metadata": {},
   "source": [
    "### 2.2 이상치 처리\n",
    "\n",
    "이상치를 탐색한 후 처리는 데이터 분석가가 도메인 전문가와 협의를 통해 수행하여야 합니다. 본 실습에서는 다양한 처리 방법을 학습하기 위해 임의로 진행하도록 하겠습니다.\n",
    "\n",
    "🧑‍💻: 이상치로 제거되는 비율이 많기에 상한값 이상은 대체하고 하한값 이하는 제거하도록 하겠습니다.\n",
    "\n",
    "💬 **Chat Prompt**\n",
    "> shipping_cost_usd 컬럼에서 하한값 미만은 제거해줘\n",
    "\n",
    "🤖 **GPT 출력: Message**"
   ]
  },
  {
   "cell_type": "markdown",
   "metadata": {},
   "source": [
    "✏️ 붙여넣기"
   ]
  },
  {
   "cell_type": "markdown",
   "metadata": {},
   "source": [
    "🤖 **GPT 출력: Code**"
   ]
  },
  {
   "cell_type": "code",
   "execution_count": 14,
   "metadata": {},
   "outputs": [
    {
     "name": "stdout",
     "output_type": "stream",
     "text": [
      "       installments  item_price_usd  shipping_cost_usd\n",
      "count    812.000000      812.000000         812.000000\n",
      "mean       2.695813       18.040812           3.925428\n",
      "std        2.849679        7.608777           2.072846\n",
      "min        0.000000        3.781000           1.485800\n",
      "25%        1.000000       15.198100           2.601100\n",
      "50%        1.000000       17.098100           3.101750\n",
      "75%        4.000000       22.420000           5.116225\n",
      "max       10.000000       34.008100           9.688100\n"
     ]
    }
   ],
   "source": [
    "# shipping_cost_usd 컬럼에서 하한값 미만인 데이터를 제거\n",
    "data_cleaned = data_cleaned[data_cleaned['shipping_cost_usd'] >= lower_bound]\n",
    "\n",
    "# 제거 후 데이터셋의 크기 확인\n",
    "print(data_cleaned.describe())"
   ]
  },
  {
   "cell_type": "markdown",
   "metadata": {},
   "source": [
    "💬 **Chat Prompt**\n",
    "> shipping_cost_usd 컬럼에서 상한값 초과는 상한값으로 대체해줘\n",
    "\n",
    "🤖 **GPT 출력: Message**"
   ]
  },
  {
   "cell_type": "markdown",
   "metadata": {},
   "source": [
    "✏️ 붙여넣기"
   ]
  },
  {
   "cell_type": "markdown",
   "metadata": {},
   "source": [
    "🤖 **GPT 출력: Code**"
   ]
  },
  {
   "cell_type": "code",
   "execution_count": 16,
   "metadata": {},
   "outputs": [
    {
     "name": "stdout",
     "output_type": "stream",
     "text": [
      "       installments  item_price_usd  shipping_cost_usd\n",
      "count    812.000000      812.000000         812.000000\n",
      "mean       2.695813       18.040812           3.911310\n",
      "std        2.849679        7.608777           2.036154\n",
      "min        0.000000        3.781000           1.485800\n",
      "25%        1.000000       15.198100           2.601100\n",
      "50%        1.000000       17.098100           3.101750\n",
      "75%        4.000000       22.420000           5.116225\n",
      "max       10.000000       34.008100           8.888912\n"
     ]
    }
   ],
   "source": [
    "# shipping_cost_usd 컬럼에서 상한값 초과하는 데이터를 상한값으로 대체\n",
    "data_cleaned['shipping_cost_usd'] = data_cleaned['shipping_cost_usd'].apply(\n",
    "    lambda x: upper_bound if x > upper_bound else x\n",
    ")\n",
    "\n",
    "# 상한값 초과 데이터 대체 후 데이터 확인\n",
    "print(data_cleaned.describe())"
   ]
  },
  {
   "cell_type": "markdown",
   "metadata": {},
   "source": [
    "🧑‍💻: 결측치와 이상치의 처리 결과를 확인해보겠습니다.\n",
    "\n",
    "\n",
    "💬 **Chat Prompt**\n",
    "\n",
    "> 결측치 처리와 이상치 처리 결과를 요약해줘\n",
    "\n",
    "🤖 **GPT 출력: Message**"
   ]
  },
  {
   "cell_type": "markdown",
   "metadata": {},
   "source": [
    "✏️ 붙여넣기"
   ]
  },
  {
   "cell_type": "markdown",
   "metadata": {},
   "source": [
    "***\n",
    "\n",
    "## 3. Feature Engineering\n",
    "\n",
    "Feature Engineering은 데이터 분석 및 머신러닝 모델링 과정에서 매우 중요한 단계로, 데이터를 바탕으로 새로운 특성(변수)을 생성하거나 기존 특성을 변형하여 분석의 성능을 향상시키는 과정을 말합니다.\n",
    "\n",
    "📍**Feature Engineering의 주요 활동**\n",
    "\n",
    "- **기존 특성 조합**: 여러 특성을 조합하여 새로운 특성을 만듭니다. 예를 들어, 가격과 수량을 곱하여 총 금액(total amount) 특성을 생성할 수 있습니다.\n",
    "- **날짜/시간 특성 변환**: 날짜 및 시간을 연도, 월, 요일, 시간 등으로 변환해 모델에 유용한 정보를 추가합니다.\n",
    "- **비율 계산**: 두 특성 간의 비율을 계산하여 새로운 특성을 만듭니다. 예를 들어, 매출과 비용을 이용해 이익률을 생성할 수 있습니다.\n",
    "\n",
    "### 3.1 날짜 파생변수 생성\n",
    "\n",
    "날짜는 Feature Engineering에서 가장 쉽게 사용할 수 있는 데이터입니다. 주말, 주중, 오전, 오후, 공휴일 등 만들어 낼 수 있는 경우의 수가 매우 많기 때문입니다. 따라서 분석하고자 하는 도메인에 맞추어 이를 활용하는 것을 추천드립니다.\n",
    "\n",
    "💬 **Chat Prompt**\n",
    "\n",
    "> is_weekend 컬럼을 생성하고 이 값은 order_purchase_timestamp를 통해 주중, 주말로 분리하여 지정해줘\n",
    "\n",
    "🤖 **GPT 출력: Message**"
   ]
  },
  {
   "cell_type": "markdown",
   "metadata": {},
   "source": [
    "✏️ 붙여넣기"
   ]
  },
  {
   "cell_type": "markdown",
   "metadata": {},
   "source": [
    "🤖 **GPT 출력: Code**"
   ]
  },
  {
   "cell_type": "code",
   "execution_count": 21,
   "metadata": {},
   "outputs": [
    {
     "name": "stdout",
     "output_type": "stream",
     "text": [
      "  order_purchase_timestamp  is_weekend\n",
      "0      2017-01-23 18:29:00       False\n",
      "1      2017-01-30 10:47:00       False\n",
      "2      2017-01-31 17:40:00       False\n",
      "3      2017-10-01 20:04:00        True\n",
      "4      2017-10-01 09:15:00        True\n"
     ]
    }
   ],
   "source": [
    "# order_purchase_timestamp 컬럼을 datetime 형식으로 변환\n",
    "data_cleaned['order_purchase_timestamp'] = pd.to_datetime(data_cleaned['order_purchase_timestamp'])\n",
    "\n",
    "# is_weekend 컬럼 생성 (주말이면 True, 주중이면 False)\n",
    "data_cleaned['is_weekend'] = data_cleaned['order_purchase_timestamp'].dt.dayofweek >= 5\n",
    "\n",
    "# 생성된 is_weekend 컬럼 확인\n",
    "print(data_cleaned[['order_purchase_timestamp', 'is_weekend']].head())"
   ]
  },
  {
   "cell_type": "markdown",
   "metadata": {},
   "source": [
    "💬 **Chat Prompt**\n",
    "> is_weekend을 막대 그래프로 시각화해줘\n",
    "\n",
    "🤖 **GPT 출력: Message**"
   ]
  },
  {
   "cell_type": "markdown",
   "metadata": {},
   "source": [
    "✏️ 붙여넣기"
   ]
  },
  {
   "cell_type": "markdown",
   "metadata": {},
   "source": [
    "🤖 **GPT 출력: Code**"
   ]
  },
  {
   "cell_type": "code",
   "execution_count": 27,
   "metadata": {},
   "outputs": [
    {
     "data": {
      "image/png": "[encoded data removed]",
      "text/plain": [
       "<Figure size 800x600 with 1 Axes>"
      ]
     },
     "metadata": {},
     "output_type": "display_data"
    }
   ],
   "source": [
    "# is_weekend 컬럼의 분포를 막대그래프로 시각화\n",
    "plt.figure(figsize=(8, 6))\n",
    "data_cleaned['is_weekend'].value_counts().plot(kind='bar', color='lightgreen', edgecolor='black')\n",
    "plt.title('Distribution of Orders by Weekend')\n",
    "plt.xlabel('Is Weekend')\n",
    "plt.ylabel('Frequency')\n",
    "plt.xticks(ticks=[0, 1], labels=['Weekday', 'Weekend'], rotation=0)\n",
    "plt.grid(axis='y')\n",
    "plt.show()"
   ]
  },
  {
   "cell_type": "markdown",
   "metadata": {},
   "source": [
    "### 3.2 추가 파생변수 생성\n",
    "\n",
    "🧑‍💻: 일단 추가 파생변수를 만들어 놓으면 손해는 보지 않습니다. 데이터 분석의 목적과 방법이 명확치 않으면 GPT를 이용하는 것도 아주 좋은 방법입니다.\n",
    "\n",
    "💬 **Chat Prompt**\n",
    "\n",
    "> 데이터를 보고 추가할 수 있는 파생변수를 제안해줘\n",
    "\n",
    "🤖 **GPT 출력: Message**"
   ]
  },
  {
   "cell_type": "markdown",
   "metadata": {},
   "source": [
    "✏️ 붙여넣기"
   ]
  },
  {
   "cell_type": "markdown",
   "metadata": {},
   "source": [
    "🧑‍💻: 할부 유형을 구분하여 향후 분석에 활용하는 것도 좋은 아이디어일 것 같습니다. 분포를 통해 먼저 데이터를 살펴보겠습니다.\n",
    "\n",
    "💬 **Chat Prompt**\n",
    "> installments의 분포를 시각화해줘\n",
    "\n",
    "🤖 **GPT 출력: Message**"
   ]
  },
  {
   "cell_type": "markdown",
   "metadata": {},
   "source": [
    "✏️ 붙여넣기"
   ]
  },
  {
   "cell_type": "markdown",
   "metadata": {},
   "source": [
    "🤖 **GPT 출력: Code**"
   ]
  },
  {
   "cell_type": "code",
   "execution_count": 24,
   "metadata": {},
   "outputs": [
    {
     "data": {
      "image/png": "[encoded data removed]",
      "text/plain": [
       "<Figure size 1000x600 with 1 Axes>"
      ]
     },
     "metadata": {},
     "output_type": "display_data"
    }
   ],
   "source": [
    "import matplotlib.pyplot as plt\n",
    "\n",
    "# installments 컬럼의 분포 시각화\n",
    "plt.figure(figsize=(10, 6))\n",
    "plt.hist(data_cleaned['installments'], bins=range(int(data_cleaned['installments'].min()), int(data_cleaned['installments'].max()) + 2), edgecolor='black')\n",
    "plt.title('Distribution of Installments')\n",
    "plt.xlabel('Number of Installments')\n",
    "plt.ylabel('Frequency')\n",
    "plt.grid(True)\n",
    "plt.show()"
   ]
  },
  {
   "cell_type": "markdown",
   "metadata": {},
   "source": [
    "🧑‍💻: 할부 개월수에 따라 유형을 3등분하여 0:일시불, 1~3:일반, 4~: 장기 로 구분하도록 하겠습니다.\n",
    "\n",
    "\n",
    "💬 **Chat Prompt**\n",
    "\n",
    "> 할부 개월수에 따라 유형을 구분하는 컬럼을 생성해줘\n",
    "> - 0개월: 일시불\n",
    "> - 1~3개월: 단기\n",
    "> - 4개월~: 장기\n",
    "\n",
    "🤖 **GPT 출력: Message**"
   ]
  },
  {
   "cell_type": "markdown",
   "metadata": {},
   "source": [
    "✏️ 붙여넣기"
   ]
  },
  {
   "cell_type": "markdown",
   "metadata": {},
   "source": [
    "🤖 **GPT 출력: Code**"
   ]
  },
  {
   "cell_type": "code",
   "execution_count": 25,
   "metadata": {},
   "outputs": [
    {
     "name": "stdout",
     "output_type": "stream",
     "text": [
      "   installments installment_duration_type\n",
      "0             0                       일시불\n",
      "1             0                       일시불\n",
      "2             1                        단기\n",
      "3             1                        단기\n",
      "4             1                        단기\n"
     ]
    }
   ],
   "source": [
    "# 'installment_duration_type' 컬럼 생성: 할부 개월수에 따라 유형 구분\n",
    "def categorize_installments(installments):\n",
    "    if installments == 0:\n",
    "        return '일시불'\n",
    "    elif 1 <= installments <= 3:\n",
    "        return '단기'\n",
    "    else:\n",
    "        return '장기'\n",
    "\n",
    "data_cleaned['installment_duration_type'] = data_cleaned['installments'].apply(categorize_installments)\n",
    "\n",
    "# 새로운 컬럼 확인\n",
    "print(data_cleaned[['installments', 'installment_duration_type']].head())"
   ]
  },
  {
   "cell_type": "markdown",
   "metadata": {},
   "source": [
    "💬 **Chat Prompt**\n",
    "> installment_duration_type을 막대그래프로 시각화해줘\n",
    "\n",
    "🤖 **GPT 출력: Message**"
   ]
  },
  {
   "cell_type": "markdown",
   "metadata": {},
   "source": [
    "✏️ 붙여넣기"
   ]
  },
  {
   "cell_type": "markdown",
   "metadata": {},
   "source": [
    "🤖 **GPT 출력: Code**"
   ]
  },
  {
   "cell_type": "code",
   "execution_count": 26,
   "metadata": {},
   "outputs": [
    {
     "data": {
      "image/png": "[encoded data removed]",
      "text/plain": [
       "<Figure size 800x600 with 1 Axes>"
      ]
     },
     "metadata": {},
     "output_type": "display_data"
    }
   ],
   "source": [
    "# installment_duration_type 컬럼의 분포를 막대그래프로 시각화\n",
    "plt.figure(figsize=(8, 6))\n",
    "data_cleaned['installment_duration_type'].value_counts().plot(kind='bar', color='skyblue', edgecolor='black')\n",
    "plt.title('Distribution of Installment Duration Type')\n",
    "plt.xlabel('Installment Duration Type')\n",
    "plt.ylabel('Frequency')\n",
    "plt.xticks(rotation=0)\n",
    "plt.grid(axis='y')\n",
    "plt.show()"
   ]
  },
  {
   "cell_type": "markdown",
   "metadata": {},
   "source": [
    "---\n",
    "\n",
    "## 4. 데이터 저장\n",
    "\n",
    "💬 **Chat Prompt**\n",
    "\n",
    "\n",
    "> 현재까지 만들어진 데이터를 다운로드 받을 수 있는 링크를 만들어줘\n",
    "\n",
    "\n",
    "🤖 **GPT 출력: Message**\n",
    "\n",
    "```\n",
    "데이터를 다운로드할 수 있는 링크를 생성했습니다. 아래 링크를 클릭하여 데이터를 다운로드할 수 있습니다:\n",
    "\n",
    "다운로드 링크 ￼\n",
    "```\n"
   ]
  }
 ],
 "metadata": {
  "kernelspec": {
   "display_name": "ml",
   "language": "python",
   "name": "python3"
  },
  "language_info": {
   "codemirror_mode": {
    "name": "ipython",
    "version": 3
   },
   "file_extension": ".py",
   "mimetype": "text/x-python",
   "name": "python",
   "nbconvert_exporter": "python",
   "pygments_lexer": "ipython3",
   "version": "3.9.16"
  }
 },
 "nbformat": 4,
 "nbformat_minor": 2
}
