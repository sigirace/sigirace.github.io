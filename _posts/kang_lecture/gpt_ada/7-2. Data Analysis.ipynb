{
 "cells": [
  {
   "cell_type": "markdown",
   "metadata": {},
   "source": [
    "# 🌈 데이터 분석 실습\n",
    "\n",
    "🔗 **한국어 패치 다운로드**\n",
    "\n",
    "- 💾 [Korea matplotlib]()\n",
    "- 💾 [나눔고딕 폰트]()\n",
    "\n",
    "💬 **Chat Prompt**\n",
    "\n",
    "> 가상환경에 한국어를 사용할 수 있도록 whl 파일과 ttf 파일을 제공하였으니, 아래 과정을 수행하며 한국어 환경 설정 수행\n",
    ">\n",
    "> - Code interpreter로 제공한 파일들을 다운로드 및 수행\n",
    "> - 가상환경에 설치 및 한국어를 사용할 수 있도록 설정\n",
    "> - 설치 완료후 테스트 그래프 제시\n",
    "> - 모든 설명은 한국어로 진행\n",
    "\n",
    "🤖 **GPT 출력: Code**"
   ]
  },
  {
   "cell_type": "code",
   "execution_count": 1,
   "metadata": {},
   "outputs": [],
   "source": [
    "import matplotlib.font_manager as fm\n",
    "import matplotlib.pyplot as plt\n",
    "\n",
    "# 폰트 파일 경로\n",
    "font_path = '/Users/sigi/sigirace.github.io/_posts/kang_lecture/gpt_ada/data/NanumBarunGothic.ttf'\n",
    "\n",
    "# 폰트 등록\n",
    "fm.fontManager.addfont(font_path)\n",
    "\n",
    "# 한글 폰트 설정\n",
    "plt.rc('font', family='NanumBarunGothic')"
   ]
  },
  {
   "cell_type": "markdown",
   "metadata": {},
   "source": [
    "🧑‍💻: 앞서 저장하였던 데이터를 GPT에 업로드 해주세요!\n",
    "\n",
    "💬 **Chat Prompt**\n",
    "\n",
    "> 제시한 데이터는 이커머스회사 olist의 구매기록 데이터를 전처리한 것이다. 이 데이터의 컬럼을 살펴보고 설명해라. 단, 모든 과정에서 설명시 한국어를 사용하고, ace_tools는 사용하지 말아라.\n",
    "\n",
    "🤖 **GPT 출력: Message**"
   ]
  },
  {
   "cell_type": "markdown",
   "metadata": {},
   "source": [
    "✏️ 붙여넣기"
   ]
  },
  {
   "cell_type": "markdown",
   "metadata": {},
   "source": [
    "🤖 **GPT 출력: Code**"
   ]
  },
  {
   "cell_type": "code",
   "execution_count": 3,
   "metadata": {},
   "outputs": [
    {
     "data": {
      "text/plain": [
       "(                           order_id                       customer_id  \\\n",
       " 0  76c6e866289321a7c93b82b54852dc33  f54a9f0e6b351c431402b8461ea51999   \n",
       " 1  9559e0b00c67d159a266152428f85615  c3498e41d1549d56c4cbde7cbfdabeb3   \n",
       " 2  35aa6b03b34d8d0a5c1eaae2bb5fcf76  18f5e4ab94b6b5fdcf32dade57defe50   \n",
       " 3  80dabd6ee5b0e0d7d5672d511ca8cc7e  fbea4ed949b70f597425d14164f82851   \n",
       " 4  3389e2333066b728a245423a73f3f82c  45c155ac404d868fd8f1d07e8cd916c3   \n",
       " \n",
       "   order_status order_purchase_timestamp product_category payment_method  \\\n",
       " 0    delivered      2017-01-23 18:29:00  furniture_decor         boleto   \n",
       " 1    delivered      2017-01-30 10:47:00             auto    credit_card   \n",
       " 2    delivered      2017-01-31 17:40:00             auto    credit_card   \n",
       " 3    delivered      2017-10-01 20:04:00    health_beauty    credit_card   \n",
       " 4    delivered      2017-10-01 09:15:00             auto         boleto   \n",
       " \n",
       "    installments  item_price_usd  shipping_cost_usd  is_weekend  \\\n",
       " 0             0        3.781000             3.0495       False   \n",
       " 1             0       28.101000             3.4200       False   \n",
       " 2             1        9.498100             2.7588       False   \n",
       " 3             1       17.098100             3.1141        True   \n",
       " 4             1       30.305832             2.8690        True   \n",
       " \n",
       "   installment_duration_type  \n",
       " 0                       일시불  \n",
       " 1                       일시불  \n",
       " 2                        단기  \n",
       " 3                        단기  \n",
       " 4                        단기  ,\n",
       " Index(['order_id', 'customer_id', 'order_status', 'order_purchase_timestamp',\n",
       "        'product_category', 'payment_method', 'installments', 'item_price_usd',\n",
       "        'shipping_cost_usd', 'is_weekend', 'installment_duration_type'],\n",
       "       dtype='object'))"
      ]
     },
     "execution_count": 3,
     "metadata": {},
     "output_type": "execute_result"
    }
   ],
   "source": [
    "import pandas as pd\n",
    "\n",
    "# 데이터 로드\n",
    "file_path = './data/cleaned_olist_order_data.csv'\n",
    "data = pd.read_csv(file_path)\n",
    "\n",
    "# 데이터의 첫 몇 행과 컬럼 정보 확인\n",
    "data_head = data.head()\n",
    "data_columns = data.columns\n",
    "\n",
    "data_head, data_columns"
   ]
  },
  {
   "cell_type": "markdown",
   "metadata": {},
   "source": [
    "***\n",
    "\n",
    "## 1. EDA\n",
    "\n",
    "🧑‍💻: 앞서 배워본 치트키를 사용하여 일변량, 다변량 EDA를 수행하겠습니다.\n",
    "\n",
    "### 1.1 일변량 EDA\n",
    "\n",
    "- 하나의 컬럼에 대해서만 분석함\n",
    "\n",
    "💬 **Chat Prompt**\n",
    "\n",
    "> 제시한 데이터로 일변량 EDA 수행해줘\n",
    "\n",
    "🤖 **GPT 출력: Message**"
   ]
  },
  {
   "cell_type": "markdown",
   "metadata": {},
   "source": [
    "✏️ 붙여넣기"
   ]
  },
  {
   "cell_type": "markdown",
   "metadata": {},
   "source": [
    "### 1.2 다변량 EDA\n",
    "\n",
    "- 두 개 이상의 컬럼을 종합하여 인사이트를 도출\n",
    "\n",
    "💬 **Chat Prompt**\n",
    "\n",
    "> 제시한 데이터로 다변량 EDA 수행해줘\n",
    "\n",
    "🤖 **GPT 출력: Message**"
   ]
  },
  {
   "cell_type": "markdown",
   "metadata": {},
   "source": [
    "✏️ 붙여넣기"
   ]
  },
  {
   "cell_type": "markdown",
   "metadata": {},
   "source": [
    "***\n",
    "\n",
    "## 2. 분석 주제 선정\n",
    "\n",
    "\n",
    "### 2.1 아이디어 도출\n",
    "\n",
    "🧑‍💻: 수행한 EDA를 기반으로 과제를 도출해봅니다.\n",
    "\n",
    "💬 **Chat Prompt**\n",
    "> 이 데이터를 기반으로 비즈니스 인사이트를 도출하고 싶어 분석할만한 과제를 제안해줘\n",
    "\n",
    "🤖 **GPT 출력: Message**"
   ]
  },
  {
   "cell_type": "markdown",
   "metadata": {},
   "source": [
    "✏️ 붙여넣기"
   ]
  },
  {
   "cell_type": "markdown",
   "metadata": {},
   "source": [
    "### 2.2 아디이어 구체화\n",
    "\n",
    "🧑‍💻: 프롬프트를 고도화하여 분석 과제 도출을 구체화 해보겠습니다.\n",
    "\n",
    "💬 **Chat Prompt**\n",
    "\n",
    "> 아래에는 작업을 수행하기 위해 부여된 Role, 이전에 수행한 Pre-work 그리고 수행해야될 Todo가 있습니다. 요청을 적절하게 완료하는 응답을 작성하세요.\n",
    "> \n",
    "> [Role]\n",
    "> \n",
    "> 이커머스 회사 olist에서 근무하는 데이터 분석가\n",
    "> \n",
    "> [Pre-work]\n",
    "> \n",
    "> 주어진 데이터로부터 일변량, 다변량 EDA를 수행함\n",
    "> \n",
    "> [Todo]\n",
    "> \n",
    "> EDA 수행결과로부터 인사이트를 도출하기 위한 과제를 선정하여 리포트를 작성한다. 단, 리포트에는 목표, 보유 데이터 중 활용할 수 있는 데이터, 명확한 분석 방법 및 알고리즘이 포함되어야 함\n",
    "> \n",
    "> [리포트 작성 예시]\n",
    "> \n",
    "> 1.태양광 발전량과 발전 패널의 연식간의 상관관계 분석\n",
    "> \n",
    "> 목표: 발전 패널의 연식이 태양광 발전량에 주는 영향을 분석하여 교체 및 유지보수 전략을 마련합니다.\n",
    "> \n",
    "> 활용 데이터(보유)\n",
    "> \t- install_date: 발전기 설치 일자\n",
    "> \t- gen: 발전량\n",
    "> \t- date: 일자\n",
    "> \n",
    "> 분석 방법\n",
    "> \t- 설치일자로부터 연식을 도출하여 연식과 발전량간의 단순 회귀 분석 수행\n",
    "> \t- 일자별 발전량을 활용해 시계열 데이터 분석 수행\n",
    "> \n",
    "> 2.리조트 객실 취소 인자 분석\n",
    "> \n",
    "> 목표: 리조트의 객실 취소에 영향을 주는 인자들을 분석하여 오버부킹 전략을 마련합니다.\n",
    "> \n",
    "> 활용 데이터(보유)\n",
    "> \t- is_cancled: 예약 취소 여부\n",
    "> \t- price: 객실 가격\n",
    "> \t- room_type: 객실 타입\n",
    "> \t- 등등\n",
    "> \n",
    "> 추가 데이터(필요)\n",
    "> \t- 주요 행사, 공공 API 호출 필요\n",
    "> \t- 등등\n",
    "> \n",
    "> 분석 방법\n",
    "> \t- 취소 여부에 대한 트리 모델을 학습 후 feature importance를 도출함\n",
    "> \t- 취소 여부인 범주형 변수와 수치형 변수 간의 t-검정 수행 후 가설에 대한 채택/기각 선택\n",
    "> \n",
    "> Let's go!\n",
    "\n",
    "🤖 **GPT 출력: Message**"
   ]
  },
  {
   "cell_type": "markdown",
   "metadata": {},
   "source": [
    "✏️ 붙여넣기"
   ]
  },
  {
   "cell_type": "markdown",
   "metadata": {},
   "source": [
    "💡 **Learn!**\n",
    "\n",
    ">  상황과 역할 그리고 예시를 통해 프롬프트를 작성하면 일반적인 질문보다 구체화된 답변을 받을 수 있습니다.\n",
    "\n",
    "❣️ **꿀팁**\n",
    "\n",
    "> GPT는 확률적으로 답변하기 때문에 여러번 질문을 수행하여 원하는 주제를 선택할 수 있습니다."
   ]
  },
  {
   "cell_type": "markdown",
   "metadata": {},
   "source": [
    "***\n",
    "\n",
    "## 3. 분석 실습\n",
    "\n",
    "🧑‍💻: 위에서 열심히 프롬프트 작성을 통해 과제를 도출하였으나... 실습을 위해 아래의 과제로 분석을 수행하겠습니다....\n",
    "\n",
    "### 3.1 범주형 변수간의 관계 분석\n",
    "\n",
    "범주형 변수간의 관계를 분석하기 위해서는 카이제곱 검정을 수행하여 유의확률을 통해 가설을 채택/기각 합니다.\n",
    "\n",
    "✏️ **분석과제**\n",
    "\n",
    "> 상품 유형(product_category)과 결제 방식(payment_method)간의 차이가 있는지 파악\n",
    "\n",
    "💬 **Chat Prompt**\n",
    "\n",
    ">상품 유형(product_category)과 결제 방식(payment_method)간의 차이가 있는지 파악\n",
    "> \n",
    "> - 가설 도출\n",
    "> - 카이제곱 분석 수행\n",
    "> - 유의확률에 따라 관계 도출\n",
    "\n",
    "🤖 **GPT 출력: Message**"
   ]
  },
  {
   "cell_type": "markdown",
   "metadata": {},
   "source": [
    "✏️ 붙여넣기"
   ]
  },
  {
   "cell_type": "markdown",
   "metadata": {},
   "source": [
    "🤖 **GPT 출력: Code**"
   ]
  },
  {
   "cell_type": "code",
   "execution_count": 6,
   "metadata": {},
   "outputs": [
    {
     "data": {
      "text/plain": [
       "(63.97918687574001,\n",
       " 0.06118147058250798,\n",
       " 48,\n",
       " array([[1.55615764e+01, 6.17475369e+01, 9.97536946e-01, 2.69334975e+00],\n",
       "        [5.95566502e+00, 2.36317734e+01, 3.81773399e-01, 1.03078818e+00],\n",
       "        [4.80295567e+00, 1.90578818e+01, 3.07881773e-01, 8.31280788e-01],\n",
       "        [3.84236453e+00, 1.52463054e+01, 2.46305419e-01, 6.65024631e-01],\n",
       "        [1.15270936e+00, 4.57389163e+00, 7.38916256e-02, 1.99507389e-01],\n",
       "        [1.92118227e+00, 7.62315271e+00, 1.23152709e-01, 3.32512315e-01],\n",
       "        [5.76354680e-01, 2.28694581e+00, 3.69458128e-02, 9.97536946e-02],\n",
       "        [3.55418719e+01, 1.41028325e+02, 2.27832512e+00, 6.15147783e+00],\n",
       "        [4.66847291e+01, 1.85242611e+02, 2.99261084e+00, 8.08004926e+00],\n",
       "        [3.84236453e-01, 1.52463054e+00, 2.46305419e-02, 6.65024631e-02],\n",
       "        [9.60591133e-01, 3.81157635e+00, 6.15763547e-02, 1.66256158e-01],\n",
       "        [1.92118227e+01, 7.62315271e+01, 1.23152709e+00, 3.32512315e+00],\n",
       "        [9.60591133e-01, 3.81157635e+00, 6.15763547e-02, 1.66256158e-01],\n",
       "        [5.76354680e+00, 2.28694581e+01, 3.69458128e-01, 9.97536946e-01],\n",
       "        [3.26600985e+00, 1.29593596e+01, 2.09359606e-01, 5.65270936e-01],\n",
       "        [5.95566502e+00, 2.36317734e+01, 3.81773399e-01, 1.03078818e+00],\n",
       "        [3.45812808e+00, 1.37216749e+01, 2.21674877e-01, 5.98522167e-01]]))"
      ]
     },
     "execution_count": 6,
     "metadata": {},
     "output_type": "execute_result"
    }
   ],
   "source": [
    "from scipy.stats import chi2_contingency\n",
    "\n",
    "# 교차표 생성: product_category와 payment_method\n",
    "crosstab = pd.crosstab(data['product_category'], data['payment_method'])\n",
    "\n",
    "# 카이제곱 검정 수행\n",
    "chi2, p, dof, expected = chi2_contingency(crosstab)\n",
    "\n",
    "chi2, p, dof, expected"
   ]
  },
  {
   "cell_type": "markdown",
   "metadata": {},
   "source": [
    "💬 **Chat Prompt**\n",
    "\n",
    "> 상품 유형(product_category)과 결제 방식(payment_method)간의 차이를 시각화로 보여줘\n",
    "\n",
    "🤖 **GPT 출력: Message**"
   ]
  },
  {
   "cell_type": "markdown",
   "metadata": {},
   "source": [
    "✏️ 붙여넣기"
   ]
  },
  {
   "cell_type": "markdown",
   "metadata": {},
   "source": [
    "🤖 **GPT 출력: Code**"
   ]
  },
  {
   "cell_type": "code",
   "execution_count": 7,
   "metadata": {},
   "outputs": [
    {
     "data": {
      "image/png": "[encoded data removed]",
      "text/plain": [
       "<Figure size 1400x800 with 1 Axes>"
      ]
     },
     "metadata": {},
     "output_type": "display_data"
    }
   ],
   "source": [
    "import matplotlib.pyplot as plt\n",
    "\n",
    "# 교차표 생성: product_category와 payment_method\n",
    "crosstab = pd.crosstab(data['product_category'], data['payment_method'])\n",
    "\n",
    "# 시각화: Stacked Bar Chart\n",
    "crosstab.plot(kind='bar', stacked=True, figsize=(14, 8))\n",
    "plt.title('상품 유형과 결제 방식 간의 관계')\n",
    "plt.xlabel('상품 유형')\n",
    "plt.ylabel('주문 수')\n",
    "plt.legend(title='결제 방식')\n",
    "plt.show()"
   ]
  },
  {
   "cell_type": "code",
   "execution_count": 9,
   "metadata": {},
   "outputs": [
    {
     "data": {
      "text/plain": [
       "Index(['order_id', 'customer_id', 'order_status', 'order_purchase_timestamp',\n",
       "       'product_category', 'payment_method', 'installments', 'item_price_usd',\n",
       "       'shipping_cost_usd', 'is_weekend', 'installment_duration_type'],\n",
       "      dtype='object')"
      ]
     },
     "execution_count": 9,
     "metadata": {},
     "output_type": "execute_result"
    }
   ],
   "source": [
    "data.columns"
   ]
  },
  {
   "cell_type": "code",
   "execution_count": null,
   "metadata": {},
   "outputs": [],
   "source": []
  },
  {
   "cell_type": "code",
   "execution_count": 13,
   "metadata": {},
   "outputs": [
    {
     "name": "stdout",
     "output_type": "stream",
     "text": [
      "                            OLS Regression Results                            \n",
      "==============================================================================\n",
      "Dep. Variable:      shipping_cost_usd   R-squared:                       0.034\n",
      "Model:                            OLS   Adj. R-squared:                  0.033\n",
      "Method:                 Least Squares   F-statistic:                     28.78\n",
      "Date:                Wed, 21 Aug 2024   Prob (F-statistic):           1.06e-07\n",
      "Time:                        03:12:31   Log-Likelihood:                -1714.9\n",
      "No. Observations:                 812   AIC:                             3434.\n",
      "Df Residuals:                     810   BIC:                             3443.\n",
      "Df Model:                           1                                         \n",
      "Covariance Type:            nonrobust                                         \n",
      "==================================================================================\n",
      "                     coef    std err          t      P>|t|      [0.025      0.975]\n",
      "----------------------------------------------------------------------------------\n",
      "const              3.0170      0.181     16.678      0.000       2.662       3.372\n",
      "item_price_usd     0.0496      0.009      5.365      0.000       0.031       0.068\n",
      "==============================================================================\n",
      "Omnibus:                      101.241   Durbin-Watson:                   1.791\n",
      "Prob(Omnibus):                  0.000   Jarque-Bera (JB):              140.130\n",
      "Skew:                           1.017   Prob(JB):                     3.73e-31\n",
      "Kurtosis:                       3.069   Cond. No.                         50.5\n",
      "==============================================================================\n",
      "\n",
      "Notes:\n",
      "[1] Standard Errors assume that the covariance matrix of the errors is correctly specified.\n"
     ]
    }
   ],
   "source": [
    "import statsmodels.api as sm\n",
    "\n",
    "# 독립 변수 (상품 가격)\n",
    "X = data['item_price_usd']\n",
    "# 종속 변수 (배송 비용)\n",
    "y = data['shipping_cost_usd']\n",
    "\n",
    "# 상수항 추가\n",
    "X = sm.add_constant(X)\n",
    "\n",
    "# 회귀 분석 수행\n",
    "model = sm.OLS(y, X).fit()\n",
    "\n",
    "# 회귀 분석 결과 요약\n",
    "model_summary = model.summary()\n",
    "print(model_summary)"
   ]
  },
  {
   "cell_type": "code",
   "execution_count": null,
   "metadata": {},
   "outputs": [],
   "source": []
  },
  {
   "cell_type": "code",
   "execution_count": null,
   "metadata": {},
   "outputs": [],
   "source": []
  },
  {
   "cell_type": "code",
   "execution_count": 14,
   "metadata": {},
   "outputs": [
    {
     "data": {
      "text/plain": [
       "0.18523538792917865"
      ]
     },
     "execution_count": 14,
     "metadata": {},
     "output_type": "execute_result"
    }
   ],
   "source": [
    "# 상품 가격과 배송 비용 간의 상관계수를 계산\n",
    "correlation = data['item_price_usd'].corr(data['shipping_cost_usd'])\n",
    "correlation"
   ]
  },
  {
   "cell_type": "code",
   "execution_count": null,
   "metadata": {},
   "outputs": [],
   "source": []
  },
  {
   "cell_type": "code",
   "execution_count": null,
   "metadata": {},
   "outputs": [],
   "source": []
  }
 ],
 "metadata": {
  "kernelspec": {
   "display_name": "ml",
   "language": "python",
   "name": "python3"
  },
  "language_info": {
   "codemirror_mode": {
    "name": "ipython",
    "version": 3
   },
   "file_extension": ".py",
   "mimetype": "text/x-python",
   "name": "python",
   "nbconvert_exporter": "python",
   "pygments_lexer": "ipython3",
   "version": "3.9.16"
  }
 },
 "nbformat": 4,
 "nbformat_minor": 2
}
