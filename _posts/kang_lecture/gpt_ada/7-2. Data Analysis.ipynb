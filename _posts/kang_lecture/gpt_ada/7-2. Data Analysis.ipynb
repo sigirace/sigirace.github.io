{
 "cells": [
  {
   "cell_type": "markdown",
   "metadata": {},
   "source": [
    "# 🌈 데이터 분석 실습\n",
    "\n",
    "🔗 **한국어 패치 다운로드**\n",
    "\n",
    "- 💾 [Korea matplotlib](https://github.com/sigirace/gpt_ada/blob/main/data/koreanize_matplotlib-0.1.1-py3-none-any.whl)\n",
    "- 💾 [나눔고딕 폰트](https://github.com/sigirace/gpt_ada/blob/main/data/NanumBarunGothic.ttf)\n",
    "\n",
    "💬 **Chat Prompt**\n",
    "\n",
    "> 가상환경에 한국어를 사용할 수 있도록 whl 파일과 ttf 파일을 제공하였으니, 아래 과정을 수행하며 한국어 환경 설정 수행\n",
    ">\n",
    "> - Code interpreter로 제공한 파일들을 다운로드 및 수행\n",
    "> - 가상환경에 설치 및 한국어를 사용할 수 있도록 설정\n",
    "> - 설치 완료후 테스트 그래프 제시\n",
    "> - 모든 설명은 한국어로 진행\n",
    "\n",
    "🤖 **GPT 출력: Code**"
   ]
  },
  {
   "cell_type": "code",
   "execution_count": 3,
   "metadata": {},
   "outputs": [],
   "source": [
    "import requests\n",
    "from io import BytesIO\n",
    "import tempfile\n",
    "import matplotlib.font_manager as fm\n",
    "import matplotlib.pyplot as plt\n",
    "\n",
    "# 폰트 파일 URL\n",
    "url = \"https://github.com/sigirace/gpt_ada/raw/main/data/NanumBarunGothic.ttf\"\n",
    "\n",
    "# 폰트 파일을 다운로드하여 메모리에 로드\n",
    "response = requests.get(url)\n",
    "font_data = BytesIO(response.content)\n",
    "\n",
    "# 임시 파일에 폰트를 저장\n",
    "with tempfile.NamedTemporaryFile(delete=False, suffix='.ttf') as temp_font_file:\n",
    "    temp_font_file.write(font_data.getbuffer())\n",
    "    temp_font_path = temp_font_file.name\n",
    "\n",
    "# 폰트 등록\n",
    "fm.fontManager.addfont(temp_font_path)\n",
    "\n",
    "# 한글 폰트 설정\n",
    "plt.rc('font', family='NanumBarunGothic')"
   ]
  },
  {
   "cell_type": "markdown",
   "metadata": {},
   "source": [
    "🧑‍💻: 앞서 저장하였던 데이터를 GPT에 업로드 해주세요!\n",
    "\n",
    "💬 **Chat Prompt**\n",
    "\n",
    "> 제시한 데이터는 이커머스회사 olist의 구매기록 데이터를 전처리한 것이다. 이 데이터의 컬럼을 살펴보고 설명해라.\n",
    "> - 불러온 데이터 프레임의 변수명은 data로 설정\n",
    "> - ace_tools는 사용하지 않음\n",
    "> - 모든 과정에서 설명시 한국어를 사용\n",
    "\n",
    "🤖 **GPT 출력: Message**"
   ]
  },
  {
   "cell_type": "markdown",
   "metadata": {},
   "source": [
    "✏️ 붙여넣기"
   ]
  },
  {
   "cell_type": "markdown",
   "metadata": {},
   "source": [
    "🤖 **GPT 출력: Code**"
   ]
  },
  {
   "cell_type": "code",
   "execution_count": null,
   "metadata": {},
   "outputs": [],
   "source": [
    "import pandas as pd\n",
    "\n",
    "# 데이터 로드\n",
    "file_path = 'https://raw.githubusercontent.com/sigirace/gpt_ada/main/data/olist_order_dataset_practice.csv'\n",
    "data = pd.read_csv(file_path)\n",
    "\n",
    "# 데이터의 첫 몇 행과 컬럼 정보 확인\n",
    "data_head = data.head()\n",
    "data_columns = data.columns\n",
    "\n",
    "data_head, data_columns"
   ]
  },
  {
   "cell_type": "markdown",
   "metadata": {},
   "source": [
    "***\n",
    "\n",
    "## 1. EDA\n",
    "\n",
    "🧑‍💻: 앞서 배워본 치트키를 사용하여 일변량, 다변량 EDA를 수행하겠습니다.\n",
    "\n",
    "### 1.1 일변량 EDA\n",
    "\n",
    "- 하나의 컬럼에 대해서만 분석함\n",
    "\n",
    "💬 **Chat Prompt**\n",
    "\n",
    "> 제시한 데이터로 일변량 EDA 수행해줘\n",
    "\n",
    "🤖 **GPT 출력: Message**"
   ]
  },
  {
   "cell_type": "markdown",
   "metadata": {},
   "source": [
    "✏️ 붙여넣기"
   ]
  },
  {
   "cell_type": "markdown",
   "metadata": {},
   "source": [
    "### 1.2 다변량 EDA\n",
    "\n",
    "- 두 개 이상의 컬럼을 종합하여 인사이트를 도출\n",
    "\n",
    "💬 **Chat Prompt**\n",
    "\n",
    "> 제시한 데이터로 다변량 EDA 수행해줘\n",
    "\n",
    "🤖 **GPT 출력: Message**"
   ]
  },
  {
   "cell_type": "markdown",
   "metadata": {},
   "source": [
    "✏️ 붙여넣기"
   ]
  },
  {
   "cell_type": "markdown",
   "metadata": {},
   "source": [
    "***\n",
    "\n",
    "## 2. 분석 주제 선정\n",
    "\n",
    "\n",
    "### 2.1 아이디어 도출\n",
    "\n",
    "🧑‍💻: 수행한 EDA를 기반으로 과제를 도출해봅니다.\n",
    "\n",
    "💬 **Chat Prompt**\n",
    "> 이 데이터를 기반으로 비즈니스 인사이트를 도출하고 싶어 분석할만한 과제를 제안해줘\n",
    "\n",
    "🤖 **GPT 출력: Message**"
   ]
  },
  {
   "cell_type": "markdown",
   "metadata": {},
   "source": [
    "✏️ 붙여넣기"
   ]
  },
  {
   "cell_type": "markdown",
   "metadata": {},
   "source": [
    "### 2.2 아디이어 구체화\n",
    "\n",
    "🧑‍💻: 프롬프트를 고도화하여 분석 과제 도출을 구체화 해보겠습니다.\n",
    "\n",
    "💬 **Chat Prompt**\n",
    "\n",
    "> 아래에는 작업을 수행하기 위해 부여된 Role, 이전에 수행한 Pre-work 그리고 수행해야될 Todo가 있습니다. 요청을 적절하게 완료하는 응답을 작성하세요.\n",
    "> \n",
    "> [Role]\n",
    "> \n",
    "> 이커머스 회사 olist에서 근무하는 데이터 분석가\n",
    "> \n",
    "> [Pre-work]\n",
    "> \n",
    "> 주어진 데이터로부터 일변량, 다변량 EDA를 수행함\n",
    "> \n",
    "> [Todo]\n",
    "> \n",
    "> EDA 수행결과로부터 인사이트를 도출하기 위한 과제를 선정하여 리포트를 작성한다. 단, 리포트에는 목표, 보유 데이터 중 활용할 수 있는 데이터, 명확한 분석 방법 및 알고리즘이 포함되어야 함\n",
    "> \n",
    "> [리포트 작성 예시]\n",
    "> \n",
    "> 1.태양광 발전량과 발전 패널의 연식간의 상관관계 분석\n",
    "> \n",
    "> 목표: 발전 패널의 연식이 태양광 발전량에 주는 영향을 분석하여 교체 및 유지보수 전략을 마련합니다.\n",
    "> \n",
    "> 활용 데이터(보유)\n",
    "> \t- install_date: 발전기 설치 일자\n",
    "> \t- gen: 발전량\n",
    "> \t- date: 일자\n",
    "> \n",
    "> 분석 방법\n",
    "> \t- 설치일자로부터 연식을 도출하여 연식과 발전량간의 단순 회귀 분석 수행\n",
    "> \t- 일자별 발전량을 활용해 시계열 데이터 분석 수행\n",
    "> \n",
    "> 2.리조트 객실 취소 인자 분석\n",
    "> \n",
    "> 목표: 리조트의 객실 취소에 영향을 주는 인자들을 분석하여 오버부킹 전략을 마련합니다.\n",
    "> \n",
    "> 활용 데이터(보유)\n",
    "> \t- is_cancled: 예약 취소 여부\n",
    "> \t- price: 객실 가격\n",
    "> \t- room_type: 객실 타입\n",
    "> \t- 등등\n",
    "> \n",
    "> 추가 데이터(필요)\n",
    "> \t- 주요 행사, 공공 API 호출 필요\n",
    "> \t- 등등\n",
    "> \n",
    "> 분석 방법\n",
    "> \t- 취소 여부에 대한 트리 모델을 학습 후 feature importance를 도출함\n",
    "> \t- 취소 여부인 범주형 변수와 수치형 변수 간의 t-검정 수행 후 가설에 대한 채택/기각 선택\n",
    "> \n",
    "> Let's go!\n",
    "\n",
    "🤖 **GPT 출력: Message**"
   ]
  },
  {
   "cell_type": "markdown",
   "metadata": {},
   "source": [
    "✏️ 붙여넣기"
   ]
  },
  {
   "cell_type": "markdown",
   "metadata": {},
   "source": [
    "💡 **Learn!**\n",
    "\n",
    ">  상황과 역할 그리고 예시를 통해 프롬프트를 작성하면 일반적인 질문보다 구체화된 답변을 받을 수 있습니다.\n",
    "\n",
    "❣️ **꿀팁**\n",
    "\n",
    "> GPT는 확률적으로 답변하기 때문에 여러번 질문을 수행하여 원하는 주제를 선택할 수 있습니다."
   ]
  },
  {
   "cell_type": "markdown",
   "metadata": {},
   "source": [
    "***\n",
    "\n",
    "## 3. 분석 실습\n",
    "\n",
    "🧑‍💻: 위에서 열심히 프롬프트 작성을 통해 과제를 도출하였으나... 실습을 위해 아래의 과제로 분석을 수행하겠습니다....\n",
    "\n",
    "### 3.1 범주형 변수간의 관계 분석\n",
    "\n",
    "범주형 변수간의 관계를 분석하기 위해서는 카이제곱 검정을 수행하여 유의확률을 통해 가설을 채택/기각 합니다.\n",
    "\n",
    "✏️ **분석과제**\n",
    "\n",
    "> 상품 유형(product_category)과 결제 방식(payment_method)간의 차이가 있는지 파악\n",
    "\n",
    "💬 **Chat Prompt**\n",
    "\n",
    ">상품 유형(product_category)과 결제 방식(payment_method)간의 차이가 있는지 파악\n",
    "> \n",
    "> - 가설 도출\n",
    "> - 카이제곱 분석 수행\n",
    "> - 유의확률에 따라 관계 도출\n",
    "\n",
    "🤖 **GPT 출력: Message**"
   ]
  },
  {
   "cell_type": "markdown",
   "metadata": {},
   "source": [
    "✏️ 붙여넣기"
   ]
  },
  {
   "cell_type": "markdown",
   "metadata": {},
   "source": [
    "🤖 **GPT 출력: Code**"
   ]
  },
  {
   "cell_type": "code",
   "execution_count": null,
   "metadata": {},
   "outputs": [],
   "source": [
    "'''\n",
    "✏️ 붙여넣기\n",
    "'''\n"
   ]
  },
  {
   "cell_type": "markdown",
   "metadata": {},
   "source": [
    "💬 **Chat Prompt**\n",
    "\n",
    "> 상품 유형(product_category)과 결제 방식(payment_method)간의 차이를 시각화로 보여줘\n",
    "\n",
    "🤖 **GPT 출력: Message**"
   ]
  },
  {
   "cell_type": "markdown",
   "metadata": {},
   "source": [
    "✏️ 붙여넣기"
   ]
  },
  {
   "cell_type": "markdown",
   "metadata": {},
   "source": [
    "🤖 **GPT 출력: Code**"
   ]
  },
  {
   "cell_type": "code",
   "execution_count": null,
   "metadata": {},
   "outputs": [],
   "source": [
    "'''\n",
    "✏️ 붙여넣기\n",
    "'''"
   ]
  },
  {
   "cell_type": "markdown",
   "metadata": {},
   "source": [
    "💡 **해석**\n",
    "\n",
    "> 분석 결과 유의미한 차이가 있지 않다고 하였으나, 유의수준을 덜 엄격하게 설정하면 차이가 있다고 볼 수 있습니다.\n",
    ">\n",
    "> 즉, 유의수준을 0.1로 설정할 경우, 상품 유형에 따라 결제 방식이 다를 수 있다는 결론을 내릴 수 있고, 이 관계를 바탕으로 추가적인 분석이나 비즈니스 전략을 검토해볼 수 있습니다.\n",
    "\n",
    "\n",
    "📌 **더 알아보기: 0.05 유의수준 vs 0.1 유의수준**\n",
    "\n",
    "1. **0.05 유의수준**:\n",
    "\n",
    "   - **장점**: 더 엄격한 기준을 적용하여, 잘못된 결론을 내릴 가능성을 줄입니다. 연구 결과가 더 신뢰할 수 있게 됩니다.\n",
    "   - **단점**: 귀무가설을 기각하기 어려워질 수 있습니다. 즉, 실제로 관계가 있는 두 변수 사이에서도 관계를 발견하지 못할 가능성이 있습니다(2종 오류 가능성 증가).\n",
    "   - 과학 연구, 의학 연구 등에서 사용됩니다. 여기서는 오류의 비용이 높기 때문에 엄격한 기준이 요구됩니다.\n",
    "\n",
    "2. **0.1 유의수준**:\n",
    "   - **장점**: 더 관대한 기준을 적용하여, 실제로 관계가 있는 변수들 간의 관계를 더 잘 발견할 수 있습니다. 연구 결과가 더 포괄적일 수 있습니다.\n",
    "   - **단점**: 귀무가설을 기각할 확률이 높아지기 때문에, 실제로 관계가 없는 두 변수 사이에 관계가 있다고 잘못 결론 내릴 가능성(1종 오류)이 증가합니다.\n",
    "   - 경제학, 사회학 연구 등에서 사용될 수 있습니다. 이 경우 연구의 초기 단계에서 더 많은 관계를 발견하기 위해 덜 엄격한 기준을 설정할 수 있습니다.\n",
    "\n",
    "### 3.2 수치형 변수간의 관계 분석\n",
    "\n",
    "- 수치형 변수간의 관계를 분석하기 위해서, 상관계수 분석 혹은 회귀 분석을 수행할 수 있습니다.\n",
    "\n",
    "✏️ **분석과제**\n",
    "\n",
    "> 상품 가격(item_price_usd)과 배송 비용(shipping_cost_usd)간의 관계 분석\n",
    "\n",
    "💬 **Chat Prompt**\n",
    "> 상품 가격(item_price_usd)과 배송 비용(shipping_cost_usd)간의 관계를 분석함\n",
    ">\n",
    "> - 가설 도출\n",
    "> - 회귀분석 수행\n",
    "> - 유의확률에 따라 관계 도출\n",
    "\n",
    "🤖 **GPT 출력: Message**"
   ]
  },
  {
   "cell_type": "markdown",
   "metadata": {},
   "source": [
    "✏️ 붙여넣기"
   ]
  },
  {
   "cell_type": "markdown",
   "metadata": {},
   "source": [
    "🤖 **GPT 출력: Code**"
   ]
  },
  {
   "cell_type": "code",
   "execution_count": null,
   "metadata": {},
   "outputs": [],
   "source": [
    "'''\n",
    "✏️ 붙여넣기\n",
    "'''"
   ]
  },
  {
   "cell_type": "markdown",
   "metadata": {},
   "source": [
    "🧑‍💻: 상관계수도 고려해보겠습니다.\n",
    "\n",
    "💬 **Chat Prompt**\n",
    "\n",
    "> 상품 가격(item_price_usd)과 배송 비용(shipping_cost_usd)간의 상관관계를 상관계수로 분석해줘\n",
    "\n",
    "🤖 **GPT 출력: Message**"
   ]
  },
  {
   "cell_type": "markdown",
   "metadata": {},
   "source": [
    "✏️ 붙여넣기"
   ]
  },
  {
   "cell_type": "markdown",
   "metadata": {},
   "source": [
    "🤖 **GPT 출력: Code**"
   ]
  },
  {
   "cell_type": "code",
   "execution_count": null,
   "metadata": {},
   "outputs": [],
   "source": [
    "'''\n",
    "✏️ 붙여넣기\n",
    "'''"
   ]
  },
  {
   "cell_type": "markdown",
   "metadata": {},
   "source": [
    "💡 **해석**\n",
    "\n",
    "> 회귀분석을 통해 두 변수간 통계적으로 유의미한 선형 관계가 있음을 알 수 있었습니다. 그러나 설명력(R-squared)이 낮았고 상관계수또한 낮았기에 아주 약한 관계임을 예상할 수 있습니다. 즉, 다른 요인이나 비선형적인 관계가 있음을 유추할 수 있습니다.\n",
    "\n",
    "### 3.3 범주형과 수치형 변수간의 관계 분석\n",
    "\n",
    "- 범주형과 수치형 변수간의 관계는 ANOVA 분석을 통해 알 수 있습니다.\n",
    "\n",
    "✏️ **분석과제**\n",
    "\n",
    "> 주말 여부(is_weekend)에 따른 매출의 영향이 있는지 파악\n",
    "\n",
    "💬 **Chat Prompt**\n",
    "> 주말 여부(is_weekend)에 따른 매출의 영향이 있는지 파악\n",
    ">\n",
    "> - 가설 도출\n",
    "> - Anova 분석 수행\n",
    "> - 유의확률에 따라 관계 도출\n",
    "\n",
    "🤖 **GPT 출력: Message**"
   ]
  },
  {
   "cell_type": "markdown",
   "metadata": {},
   "source": [
    "✏️ 붙여넣기"
   ]
  },
  {
   "cell_type": "markdown",
   "metadata": {},
   "source": [
    "🤖 **GPT 출력: Code**"
   ]
  },
  {
   "cell_type": "code",
   "execution_count": null,
   "metadata": {},
   "outputs": [],
   "source": [
    "'''\n",
    "✏️ 붙여넣기\n",
    "'''"
   ]
  },
  {
   "cell_type": "markdown",
   "metadata": {},
   "source": [
    "💬 **Chat Prompt**\n",
    "> 주말 여부(is_weekend)에 따른 매출을 시각화해줘\n",
    "\n",
    "🤖 **GPT 출력: Message**"
   ]
  },
  {
   "cell_type": "markdown",
   "metadata": {},
   "source": [
    "✏️ 붙여넣기"
   ]
  },
  {
   "cell_type": "markdown",
   "metadata": {},
   "source": [
    "🤖 **GPT 출력: Code**"
   ]
  },
  {
   "cell_type": "code",
   "execution_count": null,
   "metadata": {},
   "outputs": [],
   "source": [
    "'''\n",
    "✏️ 붙여넣기\n",
    "'''"
   ]
  },
  {
   "cell_type": "markdown",
   "metadata": {},
   "source": [
    "💡**해석**\n",
    "\n",
    "> 주중, 주말 여부에 따라 총매출은 차이가 있으나, 평균 매출은 차이가 없음을 알 수 있다. 이는 Olist가 이커머스 회사이기 때문에 주말의 영향이 적은 것이라고 해석 할 수 있다.\n",
    "\n",
    "### 3.4 고객 세그먼트 분석\n",
    "\n",
    "구매 데이터 기반 고객 세분화는 RFM분석을 수행합니다. 이는 고객별로 R(Recently, 얼마나 최근), F(Frequency, 얼마나 자주), M(Monetary, 얼마나 많이)에 대해 스코어링을 하고 이를 분류함으로 수행됩니다.\n",
    "\n",
    "✏️ **분석과제**\n",
    "\n",
    "> 고객 세그먼트 분석을 통해 세분화 전략 수행\n",
    "\n",
    "💬 **Chat Prompt**\n",
    "\n",
    "> 제시한 데이터를 통해 RFM 분석을 수행해라\n",
    ">\n",
    "> - 각 customer_id 별로 R,F,M을 5점 척도로 스코어링\n",
    "> - 스코어링 시에 설명 포함\n",
    "\n",
    "🤖 **GPT 출력: Message**"
   ]
  },
  {
   "cell_type": "markdown",
   "metadata": {},
   "source": [
    "✏️ 붙여넣기"
   ]
  },
  {
   "cell_type": "markdown",
   "metadata": {},
   "source": [
    "🤖 **GPT 출력: Code**"
   ]
  },
  {
   "cell_type": "code",
   "execution_count": null,
   "metadata": {},
   "outputs": [],
   "source": [
    "'''\n",
    "✏️ 붙여넣기\n",
    "'''"
   ]
  },
  {
   "cell_type": "markdown",
   "metadata": {},
   "source": [
    "🧑‍💻: 스코어링한 RFM 스코어를 기준으로 고객 세분화 세그먼트를 설정합니다.\n",
    "\n",
    "💬 **Chat Prompt**\n",
    "\n",
    "> RFM 스코어를 기준으로 고객 세분화를 해줘\n",
    ">\n",
    "> - 세그먼트를 최대한 MECE하게 설계\n",
    "> - 각 세그먼트를 정의하고, 분류 기준을 설명한 후, 고객들을 세그먼트별로 분류\n",
    "> - 각 세그먼트에 특성에 어울리는 네이밍 부여\n",
    "> - 각 세그먼트에 몇명의 고객이 포함되었는지 표기\n",
    "\n",
    "🤖 **GPT 출력: Message**"
   ]
  },
  {
   "cell_type": "markdown",
   "metadata": {},
   "source": [
    "✏️ 붙여넣기"
   ]
  },
  {
   "cell_type": "markdown",
   "metadata": {},
   "source": [
    "🧑‍💻: 프롬프트를 통해 세그먼트별 전략을 추천받아 봅니다.\n",
    "\n",
    "💬 **Chat Prompt**\n",
    "\n",
    "> 아래에는 작업을 수행하기 위해 부여된 Role, 이전에 수행한 Pre-work 그리고 수행해야될 Todo가 있습니다. 요청을 적절하게 완료하는 응답을 작성하세요.\n",
    ">\n",
    "> [Role]\n",
    "> 이커머스 회사 olist에서 근무하는 마케팅 팀 직원\n",
    "> \n",
    "> [Pre-work]\n",
    "> 고객 세그먼트를 수행함\n",
    ">\n",
    "> [Todo]\n",
    "> 각 고객 세그먼트별로 마케팅 전략을 수립하여 보고서 작성\n",
    ">\n",
    "> Let's go!\n",
    "\n",
    "🤖 **GPT 출력: Message**"
   ]
  },
  {
   "cell_type": "markdown",
   "metadata": {},
   "source": [
    "✏️ 붙여넣기"
   ]
  },
  {
   "cell_type": "markdown",
   "metadata": {},
   "source": [
    "***\n",
    "## ❤️‍🔥 고생하셨습니다.\n",
    "\n",
    "<p align=\"center\"><img src=\"https://github.com/sigirace/page-images/blob/main/kang_lectures/gpt_ada/da_end.png?raw=true\" width=\"600\" height=\"300\"></p>"
   ]
  }
 ],
 "metadata": {
  "kernelspec": {
   "display_name": "ml",
   "language": "python",
   "name": "python3"
  },
  "language_info": {
   "codemirror_mode": {
    "name": "ipython",
    "version": 3
   },
   "file_extension": ".py",
   "mimetype": "text/x-python",
   "name": "python",
   "nbconvert_exporter": "python",
   "pygments_lexer": "ipython3",
   "version": "3.9.16"
  }
 },
 "nbformat": 4,
 "nbformat_minor": 2
}
