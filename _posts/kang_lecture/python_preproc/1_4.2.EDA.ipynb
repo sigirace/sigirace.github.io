{
 "cells": [
  {
   "cell_type": "markdown",
   "metadata": {},
   "source": [
    "# 4. EDA와 시각화\n",
    "## 4.1 막대그래프와 히스토그램\n",
    "\n",
    "### 4.1.1 막대그래프\n",
    "\n",
    "막대그래프는 범주형 데이터를 요약하고 시각적으로 비교하는 데 효과적인 그래프입니다.\n",
    "\n",
    "📌 **bar**\n",
    "\n",
    "> data_cnt = data['target'].value_counts()<br>\n",
    "> plt.bar(x, height, width=0.8, bottom=None, align='center', data=None)\n",
    "\n",
    "- x: category와 그에 해당하는 데이터\n",
    "- height: 높이\n",
    "- align: x 좌표에 대한 막대 정렬\n",
    "\n",
    "📍 **matplotlib**\n",
    "\n",
    "matplotlib.pyplot 라이브러리는 Python에서 데이터 시각화를 위한 강력하고 널리 사용되는 도구입니다. plt는 matplotlib의 pyplot 모듈을 줄여서 사용하는 약칭으로, 그래프와 플롯을 쉽게 그릴 수 있도록 도와줍니다.\n",
    "\n",
    "📜 **예제**\n",
    "> 범주형 데이터인 와인의 종류별 개수를 확인하는 막대그래프 그리기"
   ]
  },
  {
   "cell_type": "code",
   "execution_count": null,
   "metadata": {},
   "outputs": [],
   "source": [
    "import pandas as pd\n",
    "import matplotlib.pyplot as plt\n",
    "from sklearn.datasets import load_wine\n",
    "\n",
    "# 데이터 불러오기\n",
    "wine_load = load_wine()\n",
    "wine = pd.DataFrame(wine_load.data, columns=wine_load.feature_names)\n",
    "wine.head()"
   ]
  },
  {
   "cell_type": "code",
   "execution_count": null,
   "metadata": {},
   "outputs": [],
   "source": [
    "# 도수 분포표 만들기\n",
    "wine['Class'] = wine_load.target\n",
    "wine['Class'] = wine['Class'].map({0:'class_0', 1:'class_1', 2:'class_2'})\n",
    "wine_type = wine['Class'].value_counts()\n",
    "wine_type"
   ]
  },
  {
   "cell_type": "code",
   "execution_count": null,
   "metadata": {},
   "outputs": [],
   "source": [
    "#bar plot 그리기 (정방향)\n",
    "plt.bar(wine_type.index, wine_type.values, width=0.5, bottom=None, align='center')"
   ]
  },
  {
   "cell_type": "code",
   "execution_count": null,
   "metadata": {},
   "outputs": [],
   "source": [
    "#bar plot 그리기 (옆방향)\n",
    "plt.barh(wine_type.index, wine_type.values, height=0.5, left=None, align='edge')"
   ]
  },
  {
   "cell_type": "markdown",
   "metadata": {},
   "source": [
    "🔬 **막대그래프 결과해석**\n",
    "- class_1의 값이 가장 많음\n",
    "- class_2의 값이 가장 적음\n",
    "- class_1과 class_2간의 차이가 극단적이지 않음\n",
    "\n",
    "✏️ **더 알아보기**\n",
    "- 😗: 막대 그래프를 언제 사용하나요?\n",
    "- 😀: 각 범주의 값의 개수 차이를 비교하고 개수 차이가 극단적인지를 확인합니다. 주로 분류 문제에서 타겟의 분포가 차이가 많이나는가를 검증하기 위해 사용합니다.\n",
    "\n",
    "### 4.1.2 히스토그램\n",
    "\n",
    "히스토그램은 연속형 자료에 대한 도수분포표를 시각화하여 나타낸 것으로 서로 겹치지 않는 특정 구간에 따른 데이터의 빈도수를 표현합니다. 연속형 데이터이기 때문에 각 구간은 서로 연속되고, 막대는 서로 인접하여있습니다.\n",
    "\n",
    "📌 **hist**\n",
    "\n",
    "> plt.hist('column_name', bins=None, range=None, data=df)\n",
    "\n",
    "- bins: 히스토그램의 구간의 개수 정의\n",
    "- range: bin의 상한값과 하한값 형태로 선언, 예를들어 (x.min(), x.max()) 이렇게 설정 가능\n",
    "- data: 시각화 대상이되는 데이터프레임\n",
    "\n",
    "📜 **예제**\n",
    "> 연속형 데이터인 와인 알콜농도에 대한 히스토그램 그리기"
   ]
  },
  {
   "cell_type": "code",
   "execution_count": null,
   "metadata": {},
   "outputs": [],
   "source": [
    "plt.title('Wine alcohol histogram')\n",
    "plt.hist('alcohol', bins=10,range=(11,15), color='purple', data=wine)\n",
    "plt.show()"
   ]
  },
  {
   "cell_type": "markdown",
   "metadata": {},
   "source": [
    "🔬 **히스토그램 결과해석**\n",
    "- 가장 많은 데이터가 차지하는 알콜의 구간은 12~12.5도 사이\n",
    "- 현재는 값이 특정 구간에 치중되어있음\n",
    "- 데이터를 더 수집한다면 정규분포 모양을 나타낼 수 있음\n",
    "\n",
    "✏️ **더 알아보기**\n",
    "- 😗: 히스토그램을 언제 사용하나요?\n",
    "- 😀: 연속형 데이터의 분포를 통해 특정 값에 치우쳐져 있는지, 극단적인 범위의 값(=이상치)이 있는지 확인할 수 있습니다.\n",
    "\n",
    "## 4.2 상자 그림\n",
    "\n",
    "Box Plot은 사분위수를 이용하여 수치형 변수의 값의 분포를 확인하는 그래프입니다. 상자에 수염같은 선이 붙어있다고 하여 상자 수염이라고도 불립니다. 상자의 크기, 중앙값 선의 위치, 수염의 길이를 통해 값으 분포와 대칭 정도, 이상치까지 한 컬럼의 값에 대한 다양한 정보를 한눈에 확인할 수 있습니다.\n",
    "\n",
    "📍 **상자그래프 해석**\n",
    "\n",
    "<p align=\"center\"><img src=\"https://github.com/sigirace/page-images/blob/main/kang_lectures/python_preprocessing/box_plot_desc.png?raw=true\" width=\"300\" height=\"350\"></p>\n",
    "\n",
    "**1. 상자**\n",
    "- 데이터 값의 50%가 해당함\n",
    "- 상자의 아랫면과 윗면은 각 25%(1사분위수), 75%(3사분위수) 위치에 존재하는 값\n",
    "- 상자 중앙의 두꺼운 선은 중앙값을 의미함\n",
    "- 중앙값의 위치에 따라 값이 어디에 치우쳐져 있는지 확인할 수 있음\n",
    "\n",
    "**2. IQR**\n",
    "- 중앙 50%데이터가 퍼진 정도\n",
    "- 3사분위수와 1사분위수의 차이로 구할 수 있음\n",
    "- 통계학적으로 이상치를 판단하는 수식에 사용됨\n",
    "\n",
    "**3. 수염**\n",
    "- 1.5 * IQR 범위인 Q1 - 1.5 * IQR 부터 Q3 + 1.5 * IQR 까지의 범위를 수염으로 지정 (1.5가 아닌 다른 값으로도 사용 가능)\n",
    "- 수염을 벗어나는 값은 이상치로 판단\n",
    "\n",
    "📜 **예제**\n",
    "> iris 데이터의 컬럼별 상자 그림을 그려보기"
   ]
  },
  {
   "cell_type": "code",
   "execution_count": null,
   "metadata": {},
   "outputs": [],
   "source": [
    "import pandas as pd\n",
    "from sklearn.datasets import load_iris\n",
    "import matplotlib.pyplot as plt\n",
    "\n",
    "iris = load_iris()\n",
    "iris = pd.DataFrame(iris.data, columns=iris.feature_names)\n",
    "\n",
    "# boxplot 그리기\n",
    "plt.boxplot(iris, labels=iris.columns)\n",
    "plt.show()"
   ]
  },
  {
   "cell_type": "markdown",
   "metadata": {},
   "source": [
    "📜 **예제**\n",
    "> iris 데이터의 target별 상자 그림 그리기"
   ]
  },
  {
   "cell_type": "code",
   "execution_count": null,
   "metadata": {},
   "outputs": [],
   "source": [
    "iris['class'] = load_iris().target\n",
    "iris['class'] = iris['class'].map({0:'Setosa', 1:'Versicolour', 2:'Virginica'})\n",
    "iris.head()"
   ]
  },
  {
   "cell_type": "code",
   "execution_count": null,
   "metadata": {},
   "outputs": [],
   "source": [
    "# target별 boxplot 그리기\n",
    "iris[['sepal width (cm)', 'class']].boxplot(by='class')\n",
    "plt.show()"
   ]
  },
  {
   "cell_type": "markdown",
   "metadata": {},
   "source": [
    "- by에는 category 컬럼이 들어감\n",
    "- category 컬럼에 따른 다른 컬럼의 값 차이"
   ]
  },
  {
   "cell_type": "markdown",
   "metadata": {},
   "source": [
    "📍 **Seaborn**\n",
    "\n",
    "Seaborn은 Python에서 데이터 시각화를 쉽게 하고, 아름답고 통계적으로 유의미한 그래프를 그릴 수 있도록 도와주는 고수준 시각화 라이브러리입니다. matplotlib를 기반으로 하여 더 간단한 문법과 풍부한 스타일링 옵션을 제공합니다."
   ]
  },
  {
   "cell_type": "code",
   "execution_count": null,
   "metadata": {},
   "outputs": [],
   "source": [
    "import seaborn as sns\n",
    "sns.boxplot(x=\"class\", y=\"sepal width (cm)\", data=iris)\n",
    "plt.show()"
   ]
  },
  {
   "cell_type": "markdown",
   "metadata": {},
   "source": [
    "🔥 **꿀팁**\n",
    "\n",
    "- 여러 컬럼을 확인할 시, 데이터의 스케일이 다르다면 시각화 정보 전달이 잘 안될 수 있음\n",
    "- 앞서 데이터 요약통계 및 히스토그램을 통해 먼저 범위를 확인하고 수행하여 이상치를 판단"
   ]
  },
  {
   "cell_type": "markdown",
   "metadata": {},
   "source": [
    "## 4.3 산점도\n",
    "\n",
    "산점도는 두 개의 수치형 변수 각각의 분포와 함께 두 변수의 관계를 확인하는 가장 기본적인 그래프입니다. 두 개의 축을 가진 2차원 도표 안에 점들이 흩어져 있는 형태입니다.\n",
    "\n",
    "📍 **산점도 해석**\n",
    "\n",
    "**1. 관계의 유형**\n",
    "\n",
    "<p align=\"center\"><img src=\"https://github.com/sigirace/page-images/blob/main/kang_lectures/python_preprocessing/scatter_relation.png?raw=true\" width=\"500\" height=\"200\"></p>\n",
    "\n",
    "- 산점도는 두 변수의 관계 유형과 강도를 판단\n",
    "- 관계의 유형은 점들이 흩어져 있는 모양을 보고 판단\n",
    "\n",
    "\n",
    "**2. 관계의 강도**\n",
    "\n",
    "<p align=\"center\"><img src=\"https://github.com/sigirace/page-images/blob/main/kang_lectures/python_preprocessing/scatter_relation2.png?raw=true\" width=\"300\" height=\"200\"></p>\n",
    "\n",
    "- 데이터가 적합선에 얼마나 가깝게 모여 있는지를 평가하여 두 변수 간 관계의 강도를 추정\n",
    "- 산점도로는 관계의 해석을 수행하고, 상관관계 분석을 수행하여 강도를 수치화할 수 있음\n",
    "\n",
    "📜 **예제**\n",
    "> iris 데이터를 통해 산점도를 그려보기"
   ]
  },
  {
   "cell_type": "code",
   "execution_count": null,
   "metadata": {},
   "outputs": [],
   "source": [
    "import pandas as pd\n",
    "from sklearn.datasets import load_iris\n",
    "import matplotlib.pyplot as plt\n",
    "iris = load_iris()\n",
    "iris = pd.DataFrame(iris.data, columns=iris.feature_names)\n",
    "iris[\"class\"] = load_iris().target\n",
    "iris[\"class\"] = iris[\"class\"].map({0:'Setosa', 1:'Versicolour', 2:'Virginica'})\n",
    "\n",
    "# scatter plot 그리기\n",
    "plt.title('iris scatter') \n",
    "plt.xlabel('sepal length (cm)')\n",
    "plt.ylabel('sepal width (cm)') \n",
    "plt.scatter (x = iris['sepal length (cm)'], y = iris['sepal width (cm)'], \n",
    "alpha = 0.5)\n",
    "plt.show()"
   ]
  },
  {
   "cell_type": "markdown",
   "metadata": {},
   "source": [
    "📜 **예제**\n",
    "> iris 데이터를 통해 target 별 산점도를 그려보기"
   ]
  },
  {
   "cell_type": "code",
   "execution_count": null,
   "metadata": {},
   "outputs": [],
   "source": [
    "import matplotlib.pyplot as plt\n",
    "\n",
    "# iris 데이터셋을 각 클래스별로 분리\n",
    "setosa = iris[iris['class'] == 'Setosa']\n",
    "versicolor = iris[iris['class'] == 'Versicolour']\n",
    "virginica = iris[iris['class'] == 'Virginica']\n",
    "\n",
    "# 각 클래스별로 산점도 그리기\n",
    "plt.scatter(setosa['sepal length (cm)'], setosa['sepal width (cm)'], label='setosa')\n",
    "plt.scatter(versicolor['sepal length (cm)'], versicolor['sepal width (cm)'], label='versicolour')\n",
    "plt.scatter(virginica['sepal length (cm)'], virginica['sepal width (cm)'], label='virginica')\n",
    "\n",
    "# 범례 표시\n",
    "plt.legend()\n",
    "\n",
    "# 축 라벨 추가\n",
    "plt.xlabel('sepal length (cm)')\n",
    "plt.ylabel('sepal width (cm)')\n",
    "\n",
    "# 그래프 표시\n",
    "plt.show()"
   ]
  },
  {
   "cell_type": "markdown",
   "metadata": {},
   "source": [
    "📍 **seaborn**"
   ]
  },
  {
   "cell_type": "code",
   "execution_count": null,
   "metadata": {},
   "outputs": [],
   "source": [
    "import seaborn as sns\n",
    "sns.scatterplot(x='sepal length (cm)', y='sepal width (cm)', data=iris, hue='class', style='class')\n",
    "plt.show()"
   ]
  },
  {
   "cell_type": "markdown",
   "metadata": {},
   "source": [
    "## 4.4 선 그래프\n",
    "\n",
    "### 4.4.1 수평선, 수직선 그래프\n",
    "\n",
    "- 수평선과 수직선은 그래프의 한계점, 평균값 등을 표시하기 위해 사용합니다.\n",
    "\n",
    "📌 **수평선-hliens**\n",
    ">plt.hlines(y, xmin, xmax, colors=None, linestyles='solid')\n",
    "\n",
    "📌 **수직선-vlines**\n",
    "> plt.hlines(x, ymin, ymax, colors=None, linestyles='solid')"
   ]
  },
  {
   "cell_type": "code",
   "execution_count": null,
   "metadata": {},
   "outputs": [],
   "source": [
    "import matplotlib.pyplot as plt\n",
    "plt.hlines(-6, -10, 10, color='grey')\n",
    "plt.hlines(-2, -10, 10, color='green')\n",
    "plt.hlines(2, -10, 10, color='orange')\n",
    "plt.hlines(6, -10, 10, color='red')\n",
    "plt.vlines(-6, -10, 10, linestyles='solid')\n",
    "plt.vlines(-2, -10, 10, linestyles='dashed')\n",
    "plt.vlines(2, -10, 10, linestyles='dashdot')\n",
    "plt.vlines(6, -10, 10, linestyles='dotted')\n",
    "plt.show()"
   ]
  },
  {
   "cell_type": "markdown",
   "metadata": {},
   "source": [
    "### 4.4.2 꺾은선 그래프(시계열)\n",
    "\n",
    "- 꺾은선 그래프는 시간의 변화에 따라 값이 지속적으로 변화할 때 유용한 그래프\n",
    "- 값을 점으로 표기하고 점들을 선으로 이어 나타내며 X축이 시간, Y축이 값을 의미\n",
    "\n",
    "📜 **예제**\n",
    "> 시계열 데이터를 생성하여 꺾은선 그래프로 나타내보기"
   ]
  },
  {
   "cell_type": "code",
   "execution_count": null,
   "metadata": {},
   "outputs": [],
   "source": [
    "import pandas as pd\n",
    "import numpy as np\n",
    "import matplotlib.pyplot as plt\n",
    "\n",
    "# 데이터프레임 생성\n",
    "dates = pd.date_range(start='2023-01-01', periods=10, freq='D')\n",
    "values = np.random.randint(10, 100, size=(10,))\n",
    "df = pd.DataFrame({'Date': dates, 'Value': values})\n",
    "\n",
    "# 데이터프레임에서 'Date'를 인덱스로 설정\n",
    "df.set_index('Date', inplace=True)\n",
    "df"
   ]
  },
  {
   "cell_type": "code",
   "execution_count": null,
   "metadata": {},
   "outputs": [],
   "source": [
    "# 시계열 그래프 그리기\n",
    "plt.figure(figsize=(10, 5))\n",
    "plt.plot(df.index, df['Value'], marker='o', linestyle='-', color='b')\n",
    "plt.title('Simple Time Series Plot')\n",
    "plt.xlabel('Date')\n",
    "plt.ylabel('Value')\n",
    "plt.grid(True)\n",
    "plt.xticks(rotation=45)\n",
    "plt.tight_layout()\n",
    "plt.show()"
   ]
  },
  {
   "cell_type": "markdown",
   "metadata": {},
   "source": [
    "📜 **예제**\n",
    "> 다양한 범주의 시계열 데이터를 시각화"
   ]
  },
  {
   "cell_type": "code",
   "execution_count": null,
   "metadata": {},
   "outputs": [],
   "source": [
    "# 날짜 범위 생성\n",
    "dates = pd.date_range(start='2023-01-01', periods=10, freq='D')\n",
    "\n",
    "# 카테고리 리스트 생성\n",
    "categories = ['A', 'B', 'C']\n",
    "\n",
    "# 데이터프레임 생성\n",
    "data = {\n",
    "    'Date': np.tile(dates, len(categories)),\n",
    "    'Category': np.repeat(categories, len(dates)),\n",
    "    'Value': np.random.randint(10, 100, size=len(dates) * len(categories))\n",
    "}\n",
    "\n",
    "df = pd.DataFrame(data)\n",
    "df"
   ]
  },
  {
   "cell_type": "code",
   "execution_count": null,
   "metadata": {},
   "outputs": [],
   "source": [
    "# 데이터프레임을 날짜와 카테고리별로 그룹화\n",
    "grouped = df.groupby(['Date', 'Category']).sum().unstack()\n",
    "\n",
    "# 시계열 꺾은선 그래프 그리기\n",
    "plt.figure(figsize=(12, 6))\n",
    "\n",
    "for category in categories:\n",
    "    plt.plot(grouped.index, grouped['Value', category], marker='o', linestyle='-', label=category)\n",
    "\n",
    "# 그래프 설정\n",
    "plt.title('Time Series Line Plot for Different Categories')\n",
    "plt.xlabel('Date')\n",
    "plt.ylabel('Value')\n",
    "plt.legend(title='Category')\n",
    "plt.grid(True)\n",
    "plt.xticks(rotation=45)\n",
    "plt.tight_layout()\n",
    "plt.show()"
   ]
  },
  {
   "cell_type": "markdown",
   "metadata": {},
   "source": [
    "### 4.5 상관관계 시각화\n",
    "\n",
    "상관관계란 2개의 변수 간의 선형관계를 표현하는 통계적 측도입니다. 산점도를 통해 변수 사이의 데이터 분포를 살펴보고 관계의 유형과 강도를 판단해 보았습니다. 이번 상관관계 시각화에서는 이를 수치화하여 데이터 간 관계를 표현합니다.\n",
    "\n",
    "### 4.5.1 산점도 행렬\n",
    "\n",
    "📍 **산점도 행렬 해석 방법**\n",
    "\n",
    "- 대각선의 히스토그램을 통해 이상치를 확인함\n",
    "- 종속변수와 설명변수 간의 관계를 파악\n",
    "- 종속변수가 수치형일 경우 직선 상관관계를 비교\n",
    "- 종속변수가 범주형일 경우 잘 구분하는 변수를 파악\n",
    "- 설명변수간의 직선 함수관계를 파악하여 다중공선성 문제를 파악 ☞ 설명변수 끼리의 강한 상관관계가 있는지\n",
    "\n",
    "📍 **다중공선성**\n",
    "\n",
    "회귀분석에서 설명변수간의 강한 선형관계가 있을 때 발생하는 문제로 설명변수끼리 상호작용하거나 중복적으로 영향을 미치는 상황을 말합니다. 다중공선성 문제가 있을 시 결과해석 및 회귀계수 추정이 불안정해지는 문제를 야기합니다.\n",
    "\n",
    "📜 **예제**\n",
    "> iris 데이터에 대해 산점도 행렬로 상관관계 시각화를 수행해보기"
   ]
  },
  {
   "cell_type": "code",
   "execution_count": null,
   "metadata": {},
   "outputs": [],
   "source": [
    "import pandas as pd\n",
    "import matplotlib.pyplot as plt\n",
    "from pandas.plotting import scatter_matrix\n",
    "from sklearn.datasets import load_iris\n",
    "\n",
    "# 데이터 불러오기 및 데이터프레임 생성\n",
    "iris = load_iris()\n",
    "iris = pd.DataFrame(iris.data, columns=iris.feature_names)\n",
    "iris['Class'] = load_iris().target\n",
    "iris['Class'] = iris['Class'].map({0:'Setosa', 1:'Versicolour', 2:'Virginica'})"
   ]
  },
  {
   "cell_type": "code",
   "execution_count": null,
   "metadata": {},
   "outputs": [],
   "source": [
    "# 산점도 행렬 그리기\n",
    "scatter_matrix(iris, alpha = 0.5, figsize = (8, 8), diagonal = 'hist')\n",
    "plt.show()"
   ]
  },
  {
   "cell_type": "markdown",
   "metadata": {},
   "source": [
    "🔬 **산점도 행렬 결과해석**\n",
    "- 설명변수 sepal length와 petal length 간에 양의 상관관계가 있음 ☞ 다중공선성 확인 필요\n",
    "- 설명변수 petal width와 petal length 간에 양의 상관관계가 있음 ☞ 다중공선성 확인 필요\n",
    "\n",
    "📜 **예제**\n",
    "> iris 데이터의 target별 행렬로 상관관계 시각화를 수행해보기"
   ]
  },
  {
   "cell_type": "code",
   "execution_count": null,
   "metadata": {},
   "outputs": [],
   "source": [
    "import seaborn as sns\n",
    "sns.pairplot(iris, hue = 'Class')\n",
    "plt.show()"
   ]
  },
  {
   "cell_type": "markdown",
   "metadata": {},
   "source": [
    "### 4.5.2 상관계수 행렬 시각화\n",
    "\n",
    "상관계수 행렬 역시 다수의 변수 간 상관관계를 파악하거나 독립변수 간 다중공선성을 파악하고자 할 때 사용하는 분석 기법입니다. 단, 산점도 행렬보다 수치로 결과를 나타내어 직관적으로 다중공선성 문제를 확인할 수 있습니다.\n",
    "\n",
    "📍 **상관관계 해석하기**\n",
    "\n",
    "- 상관관계는 -1~1 사이의 숫자 값으로 출력됨\n",
    "- 아래 상관관계 판단 기준 표에 따라 해석\n",
    "\n",
    "| 범위          | 설명            | 범위        | 설명            |\n",
    "|--------------|-----------------|------------|-----------------|\n",
    "| r <= -0.8 | 강한 음의 상관관계 | 0.8 <= r | 강한 양의 상관관계 |\n",
    "| -0.8 < r <= -0.6 | 음의 상관관계   | 0.6 <= r < 0.8 | 양의 상관관계   |\n",
    "| -0.6 < r <= -0.4 | 약한 음의 상관관계 | 0.4 <= r < 0.6 | 약한 양의 상관관계 |\n",
    "| -0.4 < r <= 0 | 거의 상관 없음  | 0 <= r < 0.4 | 거의 상관 없음  |\n",
    "\n",
    "📜 **예제**\n",
    "\n",
    "> iris의 변수간 상관관계 파악을 위해 상관계수 행렬을 시각화해보기"
   ]
  },
  {
   "cell_type": "code",
   "execution_count": null,
   "metadata": {},
   "outputs": [],
   "source": [
    "iris_corr = iris.drop(columns='Class').corr(method='pearson')\n",
    "sns.heatmap (iris_corr, xticklabels = iris_corr.columns, \n",
    "             yticklabels = iris_corr.columns, cmap = 'RdBu_r', annot = True)\n",
    "plt.show()"
   ]
  },
  {
   "cell_type": "markdown",
   "metadata": {},
   "source": [
    "🔬 **상관계수 행렬 결과해석**\n",
    "- 설명변수 sepal length와 petal length 간에 양의 상관관계가 있음 ☞ 다중공선성 확인 필요\n",
    "- 설명변수 petal width와 petal length 간에 양의 상관관계가 있음 ☞ 다중공선성 확인 필요"
   ]
  }
 ],
 "metadata": {
  "kernelspec": {
   "display_name": "ml",
   "language": "python",
   "name": "python3"
  },
  "language_info": {
   "codemirror_mode": {
    "name": "ipython",
    "version": 3
   },
   "file_extension": ".py",
   "mimetype": "text/x-python",
   "name": "python",
   "nbconvert_exporter": "python",
   "pygments_lexer": "ipython3",
   "version": "3.9.16"
  }
 },
 "nbformat": 4,
 "nbformat_minor": 2
}
